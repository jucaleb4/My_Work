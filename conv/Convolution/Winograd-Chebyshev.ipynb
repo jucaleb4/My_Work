{
 "cells": [
  {
   "cell_type": "code",
   "execution_count": 1,
   "metadata": {},
   "outputs": [],
   "source": [
    "import winconv as wc\n",
    "import numpy as np\n",
    "import numpy.linalg as la\n",
    "import matplotlib.pyplot as plt\n",
    "\n",
    "np.set_printoptions(linewidth=200)"
   ]
  },
  {
   "cell_type": "code",
   "execution_count": 2,
   "metadata": {},
   "outputs": [
    {
     "name": "stdout",
     "output_type": "stream",
     "text": [
      "(0.8660254037844387, 6.123233995736766e-17, -0.8660254037844387, -0.8660254037844386)\n"
     ]
    },
    {
     "data": {
      "image/png": "[encoded data removed]",
      "text/plain": [
       "<Figure size 432x288 with 1 Axes>"
      ]
     },
     "metadata": {
      "needs_background": "light"
     },
     "output_type": "display_data"
    }
   ],
   "source": [
    "m = 2\n",
    "r = 3\n",
    "\n",
    "k = np.arange(1, m+r, dtype=np.float64)\n",
    "\n",
    "cheb_nodes = np.cos((2*k-1)/(2*r)*np.pi)\n",
    "plt.plot(cheb_nodes, 0*cheb_nodes, \"o\")\n",
    "\n",
    "pts = tuple(cheb_nodes)\n",
    "print(pts)"
   ]
  },
  {
   "cell_type": "code",
   "execution_count": 3,
   "metadata": {},
   "outputs": [],
   "source": [
    "AT,G,BT,f = wc.cookToomFilter(pts,m,r)\n",
    "\n",
    "AT2 = np.array(AT).astype(np.float64)\n",
    "G2 = np.array(G).astype(np.float64)\n",
    "BT2 = np.array(BT).astype(np.float64)"
   ]
  },
  {
   "cell_type": "markdown",
   "metadata": {},
   "source": [
    "### Formula for 1D Winograd\n",
    "    \n",
    "$$Y = A^T \\Big[ (Gg) \\odot (B^Td) \\Big]$$\n",
    "\n",
    "Below we try a simple $m=2$ point case, or F(2,3)"
   ]
  },
  {
   "cell_type": "code",
   "execution_count": 4,
   "metadata": {},
   "outputs": [
    {
     "name": "stdout",
     "output_type": "stream",
     "text": [
      "[0.61812114 0.62559744]\n",
      "[0.61812114 0.62559744]\n"
     ]
    }
   ],
   "source": [
    "d = np.random.random(m+r-1)\n",
    "g = np.random.random(r)\n",
    "\n",
    "conv = np.convolve(d,g[::-1])[r-1:1-r]\n",
    "print(conv)\n",
    "\n",
    "wconv = np.dot(AT2, np.dot(G2,g) * np.dot(BT2, d))\n",
    "print(wconv)"
   ]
  },
  {
   "cell_type": "markdown",
   "metadata": {},
   "source": [
    "### Try F(4,3)"
   ]
  },
  {
   "cell_type": "code",
   "execution_count": 5,
   "metadata": {},
   "outputs": [
    {
     "name": "stdout",
     "output_type": "stream",
     "text": [
      "(0.9749279121818236, 0.7818314824680298, 0.4338837391175582, 6.123233995736766e-17, -0.43388373911755806, -0.7818314824680297, -0.9749279121818236)\n"
     ]
    },
    {
     "data": {
      "image/png": "[encoded data removed]",
      "text/plain": [
       "<Figure size 432x288 with 1 Axes>"
      ]
     },
     "metadata": {
      "needs_background": "light"
     },
     "output_type": "display_data"
    }
   ],
   "source": [
    "m = 4\n",
    "r = 3\n",
    "\n",
    "n = m+r\n",
    "k = np.arange(1, n+1, dtype=np.float64)\n",
    "\n",
    "cheb_nodes = np.cos((2*k-1)/(2*n)*np.pi)\n",
    "plt.plot(cheb_nodes, 0*cheb_nodes, \"o\")\n",
    "\n",
    "pts = tuple(cheb_nodes)\n",
    "print(pts)\n",
    "\n",
    "AT,G,BT,f = wc.cookToomFilter(pts,m,r)\n",
    "\n",
    "AT2 = np.array(AT).astype(np.float64)\n",
    "G2 = np.array(G).astype(np.float64)\n",
    "BT2 = np.array(BT).astype(np.float64)"
   ]
  },
  {
   "cell_type": "code",
   "execution_count": 6,
   "metadata": {},
   "outputs": [
    {
     "name": "stdout",
     "output_type": "stream",
     "text": [
      "[1.32462868 1.11021854 1.08561139 0.94196354]\n",
      "[1.32462868 1.11021854 1.08561139 0.94196354]\n"
     ]
    }
   ],
   "source": [
    "d = np.random.random(m+r-1)\n",
    "g = np.random.random(r)\n",
    "\n",
    "conv = np.convolve(d,g[::-1])[r-1:1-r]\n",
    "print(conv)\n",
    "\n",
    "wconv = np.dot(AT2, np.dot(G2,g) * np.dot(BT2, d))\n",
    "print(wconv)"
   ]
  },
  {
   "cell_type": "markdown",
   "metadata": {},
   "source": [
    "Compare the results the usual case of $0,1,-1,\\dots$"
   ]
  },
  {
   "cell_type": "code",
   "execution_count": 7,
   "metadata": {},
   "outputs": [
    {
     "name": "stdout",
     "output_type": "stream",
     "text": [
      "(0, 1, -1, 2, -2, 3, -3)\n"
     ]
    }
   ],
   "source": [
    "def rs(k):\n",
    "    # produces smallest magn. ints: [1,-1,2,-2,3,...]\n",
    "    return np.asarray([\n",
    "        (-1)**i * (i//2 + 1) for i in range(k)\n",
    "    ])\n",
    "\n",
    "def rs_zero(k):\n",
    "    return np.append(0,rs(k)[:-1])\n",
    "\n",
    "pts = tuple(rs_zero(n))\n",
    "print(pts)"
   ]
  },
  {
   "cell_type": "code",
   "execution_count": 8,
   "metadata": {},
   "outputs": [],
   "source": [
    "AT,G,BT,f = wc.cookToomFilter(pts,m,r)\n",
    "\n",
    "AT2 = np.array(AT).astype(np.float64)\n",
    "G2 = np.array(G).astype(np.float64)\n",
    "BT2 = np.array(BT).astype(np.float64)"
   ]
  },
  {
   "cell_type": "code",
   "execution_count": 9,
   "metadata": {},
   "outputs": [
    {
     "name": "stdout",
     "output_type": "stream",
     "text": [
      "1.9755699079151037e-16\n"
     ]
    }
   ],
   "source": [
    "conv = np.convolve(d,g[::-1])[r-1:1-r]\n",
    "wconv = np.dot(AT2, np.dot(G2,g) * np.dot(BT2, d))\n",
    "\n",
    "print(la.norm(conv - wconv)/la.norm(conv))"
   ]
  },
  {
   "cell_type": "markdown",
   "metadata": {},
   "source": [
    "### F(6,3)"
   ]
  },
  {
   "cell_type": "code",
   "execution_count": 10,
   "metadata": {},
   "outputs": [
    {
     "name": "stdout",
     "output_type": "stream",
     "text": [
      "(0.984807753012208, 0.8660254037844387, 0.6427876096865394, 0.3420201433256688, 6.123233995736766e-17, -0.3420201433256687, -0.6427876096865393, -0.8660254037844387, -0.984807753012208)\n"
     ]
    },
    {
     "data": {
      "image/png": "[encoded data removed]",
      "text/plain": [
       "<Figure size 432x288 with 1 Axes>"
      ]
     },
     "metadata": {
      "needs_background": "light"
     },
     "output_type": "display_data"
    }
   ],
   "source": [
    "m = 6\n",
    "r = 3\n",
    "\n",
    "n = m+r\n",
    "k = np.arange(1, n+1, dtype=np.float64)\n",
    "\n",
    "cheb_nodes = np.cos((2*k-1)/(2*n)*np.pi)\n",
    "plt.plot(cheb_nodes, 0*cheb_nodes, \"o\")\n",
    "\n",
    "pts = tuple(cheb_nodes)\n",
    "print(pts)\n",
    "\n",
    "AT,G,BT,f = wc.cookToomFilter(pts,m,r)\n",
    "\n",
    "AT2 = np.array(AT).astype(np.float64)\n",
    "G2 = np.array(G).astype(np.float64)\n",
    "BT2 = np.array(BT).astype(np.float64)"
   ]
  },
  {
   "cell_type": "code",
   "execution_count": 11,
   "metadata": {},
   "outputs": [
    {
     "name": "stdout",
     "output_type": "stream",
     "text": [
      "7.0739131443783035e-15\n"
     ]
    }
   ],
   "source": [
    "d = np.random.random(m+r-1)\n",
    "g = np.random.random(r)\n",
    "\n",
    "conv = np.convolve(d,g[::-1])[r-1:1-r]\n",
    "wconv = np.dot(AT2, np.dot(G2,g) * np.dot(BT2, d))\n",
    "\n",
    "print(la.norm(conv - wconv)/la.norm(conv))"
   ]
  },
  {
   "cell_type": "markdown",
   "metadata": {},
   "source": [
    "Integer Points"
   ]
  },
  {
   "cell_type": "code",
   "execution_count": 12,
   "metadata": {},
   "outputs": [
    {
     "name": "stdout",
     "output_type": "stream",
     "text": [
      "(0, 1, -1, 2, -2, 3, -3, 4, -4)\n"
     ]
    }
   ],
   "source": [
    "pts = tuple(rs_zero(n))\n",
    "print(pts)\n",
    "AT,G,BT,f = wc.cookToomFilter(pts,m,r)\n",
    "\n",
    "AT2 = np.array(AT).astype(np.float64)\n",
    "G2 = np.array(G).astype(np.float64)\n",
    "BT2 = np.array(BT).astype(np.float64)"
   ]
  },
  {
   "cell_type": "code",
   "execution_count": 13,
   "metadata": {},
   "outputs": [
    {
     "name": "stdout",
     "output_type": "stream",
     "text": [
      "3.6521974911776635e-16\n"
     ]
    }
   ],
   "source": [
    "conv = np.convolve(d,g[::-1])[r-1:1-r]\n",
    "wconv = np.dot(AT2, np.dot(G2,g) * np.dot(BT2, d))\n",
    "\n",
    "print(la.norm(conv - wconv)/la.norm(conv))"
   ]
  },
  {
   "cell_type": "markdown",
   "metadata": {},
   "source": [
    "### F(9,9)\n",
    "\n",
    "First we use Chebyshev Nodes"
   ]
  },
  {
   "cell_type": "code",
   "execution_count": 14,
   "metadata": {},
   "outputs": [
    {
     "name": "stdout",
     "output_type": "stream",
     "text": [
      "(9, 13) (13, 5) (13, 13)\n",
      "A:\n",
      " 416.47523940907723\n",
      "B:\n",
      " 41471.14467020125\n",
      "G:\n",
      " 119.57191874737212\n"
     ]
    }
   ],
   "source": [
    "m = 9\n",
    "r = 5\n",
    "\n",
    "n = m+r\n",
    "k = np.arange(1, n+1, dtype=np.float64)\n",
    "\n",
    "cheb_nodes = np.cos((2*k-1)/(2*n)*np.pi)\n",
    "\n",
    "pts = tuple(cheb_nodes)\n",
    "AT,G,BT,f = wc.cookToomFilter(pts,m,r)\n",
    "\n",
    "AT2 = np.array(AT).astype(np.float64)\n",
    "G2 = np.array(G).astype(np.float64)\n",
    "BT2 = np.array(BT).astype(np.float64)\n",
    "print(AT2.shape,G2.shape,BT2.shape)\n",
    "\n",
    "print(\"A:\\n\",la.cond(AT2,p=2))\n",
    "print(\"B:\\n\",la.cond(BT2,p=2))\n",
    "print(\"G:\\n\",la.cond(G2,p=2))"
   ]
  },
  {
   "cell_type": "code",
   "execution_count": 15,
   "metadata": {},
   "outputs": [
    {
     "name": "stdout",
     "output_type": "stream",
     "text": [
      "4.779090892166832e-12\n"
     ]
    }
   ],
   "source": [
    "d = np.random.random(m+r-1)\n",
    "g = np.random.random(r)\n",
    "\n",
    "conv = np.convolve(d,g[::-1])[r-1:1-r]\n",
    "wconv = np.dot(AT2, np.dot(G2,g) * np.dot(BT2, d))\n",
    "\n",
    "print(la.norm(conv - wconv)/la.norm(conv))"
   ]
  },
  {
   "cell_type": "markdown",
   "metadata": {},
   "source": [
    "Integer Points"
   ]
  },
  {
   "cell_type": "code",
   "execution_count": 16,
   "metadata": {},
   "outputs": [
    {
     "name": "stdout",
     "output_type": "stream",
     "text": [
      "(0, 1, -1, 2, -2, 3, -3, 4, -4, 5, -5, 6, -6, 7)\n",
      "(9, 13) (13, 5) (13, 13)\n",
      "A:\n",
      " 1545520.2908266976\n",
      "B:\n",
      " 22748872.77241273\n",
      "G:\n",
      " 72752.31206626541\n"
     ]
    }
   ],
   "source": [
    "pts = tuple(rs_zero(n))\n",
    "print(pts)\n",
    "AT,G,BT,f = wc.cookToomFilter(pts,m,r)\n",
    "\n",
    "AT2 = np.array(AT).astype(np.float64)\n",
    "G2 = np.array(G).astype(np.float64)\n",
    "BT2 = np.array(BT).astype(np.float64)\n",
    "\n",
    "print(AT2.shape,G2.shape,BT2.shape)\n",
    "print(\"A:\\n\",la.cond(AT2,p=2))\n",
    "print(\"B:\\n\",la.cond(BT2,p=2))\n",
    "print(\"G:\\n\",la.cond(G2,p=2))"
   ]
  },
  {
   "cell_type": "code",
   "execution_count": 17,
   "metadata": {},
   "outputs": [
    {
     "name": "stdout",
     "output_type": "stream",
     "text": [
      "2.1221255581843217e-11\n"
     ]
    }
   ],
   "source": [
    "conv = np.convolve(d,g[::-1])[r-1:1-r]\n",
    "wconv = np.dot(AT2, np.dot(G2,g) * np.dot(BT2, d))\n",
    "\n",
    "print(la.norm(conv - wconv)/la.norm(conv))"
   ]
  },
  {
   "cell_type": "markdown",
   "metadata": {},
   "source": [
    "### F(16,12)\n",
    "\n",
    "Chebyshev Nodes"
   ]
  },
  {
   "cell_type": "code",
   "execution_count": 18,
   "metadata": {},
   "outputs": [],
   "source": [
    "m = 16\n",
    "r = 12\n",
    "\n",
    "n = m+r\n",
    "k = np.arange(1, n+1, dtype=np.float64)\n",
    "\n",
    "cheb_nodes = np.cos((2*k-1)/(2*n)*np.pi)\n",
    "\n",
    "pts = tuple(cheb_nodes)\n",
    "AT,G,BT,f = wc.cookToomFilter(pts,m,r)\n",
    "\n",
    "AT2 = np.array(AT).astype(np.float64)\n",
    "G2 = np.array(G).astype(np.float64)\n",
    "BT2 = np.array(BT).astype(np.float64)"
   ]
  },
  {
   "cell_type": "code",
   "execution_count": 19,
   "metadata": {},
   "outputs": [
    {
     "name": "stdout",
     "output_type": "stream",
     "text": [
      "1.0154527746100513e-05\n",
      "\n",
      " [2.41256786 2.51179461 3.0943153  2.76912245 3.24005042 3.1385947  3.03051328 2.78619443 2.98603312 2.94005687 3.2651283  3.65747097 3.54419274 3.22151398 3.02399941 3.28158411]\n",
      "[2.41255735 2.51182389 3.09435398 2.76916349 3.24009141 3.13863465 3.03055127 2.78623025 2.98606658 2.94008794 3.265157   3.65749739 3.54421707 3.22153635 3.02401989 3.2816018 ]\n"
     ]
    }
   ],
   "source": [
    "d = np.random.random(m+r-1)\n",
    "g = np.random.random(r)\n",
    "\n",
    "conv = np.convolve(d,g[::-1])[r-1:1-r]\n",
    "wconv = np.dot(AT2, np.dot(G2,g) * np.dot(BT2, d))\n",
    "\n",
    "print(la.norm(conv - wconv)/la.norm(conv))\n",
    "\n",
    "print(\"\\n\",conv)\n",
    "print(wconv)"
   ]
  },
  {
   "cell_type": "markdown",
   "metadata": {},
   "source": [
    "Integer Points"
   ]
  },
  {
   "cell_type": "code",
   "execution_count": 20,
   "metadata": {},
   "outputs": [
    {
     "name": "stderr",
     "output_type": "stream",
     "text": [
      "/Users/calebju/Code/jupyter/solomonik_convolution/Convolution/winconv.py:19: RuntimeWarning: overflow encountered in long_scalars\n",
      "  return Matrix(n, 1, lambda i,j: reduce(mul, ((a[i]-a[k] if k!=i else 1) for k in range(0,n)), 1))\n"
     ]
    }
   ],
   "source": [
    "pts = tuple(rs_zero(n))\n",
    "AT,G,BT,f = wc.cookToomFilter(pts,m,r)\n",
    "\n",
    "AT2 = np.array(AT).astype(np.float64)\n",
    "G2 = np.array(G).astype(np.float64)\n",
    "BT2 = np.array(BT).astype(np.float64)"
   ]
  },
  {
   "cell_type": "code",
   "execution_count": 21,
   "metadata": {},
   "outputs": [
    {
     "name": "stdout",
     "output_type": "stream",
     "text": [
      "6.821829795723121e+25\n",
      "\n",
      " [2.41256786 2.51179461 3.0943153  2.76912245 3.24005042 3.1385947  3.03051328 2.78619443 2.98603312 2.94005687 3.2651283  3.65747097 3.54419274 3.22151398 3.02399941 3.28158411]\n",
      "[6.59304223e+09 2.32965076e+11 1.34735459e+12 3.98126630e+13 2.62004375e+14 6.70644438e+15 4.90567178e+16 1.11882784e+18 8.93332840e+18 1.85567407e+20 1.59421840e+21 3.06842792e+22 2.80354457e+23\n",
      " 5.06800909e+24 4.87790230e+25 8.37176384e+26]\n"
     ]
    }
   ],
   "source": [
    "conv = np.convolve(d,g[::-1])[r-1:1-r]\n",
    "wconv = np.dot(AT2, np.dot(G2,g) * np.dot(BT2, d))\n",
    "\n",
    "print(la.norm(conv - wconv)/la.norm(conv))\n",
    "\n",
    "print(\"\\n\",conv)\n",
    "print(wconv)"
   ]
  },
  {
   "cell_type": "markdown",
   "metadata": {},
   "source": [
    "### Improved Stability Paper\n",
    "\n",
    "We'll look at the stability of the matrices mentioned in this [paper](https://openreview.net/pdf?id=H1ZaRZVKg)."
   ]
  },
  {
   "cell_type": "code",
   "execution_count": 22,
   "metadata": {},
   "outputs": [],
   "source": [
    "def createVMat(pts,b):\n",
    "    f = pts[0]; g = pts[1]\n",
    "    a = len(f)\n",
    "    V = np.zeros((a,b))\n",
    "    for i in range(a):\n",
    "        for j in range(b):\n",
    "            V[i,j] = f[i]**j * g[i]**(b-(j+1))\n",
    "    return V"
   ]
  },
  {
   "cell_type": "code",
   "execution_count": 23,
   "metadata": {},
   "outputs": [
    {
     "name": "stdout",
     "output_type": "stream",
     "text": [
      "63000.0\n",
      "1.643293\n",
      "1.0\n",
      "1.0000004047768\n"
     ]
    }
   ],
   "source": [
    "pts13_9_nonscaled = np.asarray([\n",
    "    [0,1,-1,1/2,-1/2,1/3,-1/3,3/2,-3/2,-3,2,-2,1],\n",
    "    [1,1, 1, 1,   1,  1,   1,  1,   1,  1,1, 1,0]\n",
    "])\n",
    "\n",
    "scale = np.asarray([\n",
    "    -1.333333, \\\n",
    "    0.05, \\\n",
    "    0.1, \\\n",
    "    -0.7314286, \\\n",
    "    -1.024, \\\n",
    "    1.314635, \\\n",
    "    1.643293, \\\n",
    "    -0.005277263, \\\n",
    "    -0.01583179, \\\n",
    "    -1.587302e-05, \\\n",
    "    0.0003265306, \\\n",
    "    0.001632653, \\\n",
    "    1\n",
    "])\n",
    "\n",
    "X = np.asarray([\n",
    "    -0.75, 20, 10, -1.367188, -0.9765625, 0.7606677, 0.6085342, -189.4922, -63.16406, -63000, 3062.5, 612.5, 1\n",
    "])\n",
    "\n",
    "SX = np.diag(X)\n",
    "print(la.norm(SX,ord=2))\n",
    "\n",
    "Y = np.asarray([\n",
    "    -1.333333, 0.05, 0.1, -0.7314286, -1.024, 1.314635, 1.643293, -0.005277263, -0.01583179, -1.587302e-05, 0.0003265306, 0.001632653, 1\n",
    "])\n",
    "\n",
    "SY = np.diag(Y)\n",
    "print(la.norm(SY,ord=2))\n",
    "\n",
    "SW = np.eye(13)\n",
    "print(la.norm(SW,ord=2))\n",
    "\n",
    "print(la.norm(SY @ SX @ SW,ord=2))"
   ]
  },
  {
   "cell_type": "code",
   "execution_count": 24,
   "metadata": {},
   "outputs": [
    {
     "name": "stdout",
     "output_type": "stream",
     "text": [
      "Y: 36278.81950435964\n",
      "X: 113237687.93141186\n",
      "W: 63.98474409231298\n"
     ]
    }
   ],
   "source": [
    "V13_13 = createVMat(pts13_9_nonscaled,13)\n",
    "V13_9 = createVMat(pts13_9_nonscaled,9)\n",
    "V13_5 = createVMat(pts13_9_nonscaled,5)\n",
    "print(\"Y:\",la.cond(V13_9,p=2))\n",
    "print(\"X:\",la.cond(V13_13,p=2))\n",
    "print(\"W:\",la.cond(V13_5,p=2))"
   ]
  },
  {
   "cell_type": "code",
   "execution_count": 72,
   "metadata": {},
   "outputs": [],
   "source": [
    "def winogradMatricesM(p,m,r,inf=True):\n",
    "    R = len(p)\n",
    "    assert(r == R-m+1)\n",
    "    V = np.vander(p,increasing=True)\n",
    "    V[-1,:] = 0; V[-1,-1] = 1\n",
    "    C = la.inv(V)\n",
    "    A = V[:,:r].copy(); A[-1,-1] = 1\n",
    "    B = V[:,:m].copy(); B[-1,-1] = 1\n",
    "    return [B.T,A,C.T]\n",
    "    # return [A,B,C]\n",
    "    \n",
    "def chebyMat(n,b):\n",
    "    # n is number nodes, b is number of basis\n",
    "    i = np.arange(n, dtype=np.float64)+1\n",
    "    nodes = np.cos((2*i-1)/(2*n)*np.pi)\n",
    "    \n",
    "    basis = np.arange(b, dtype=np.float64)\n",
    "    \n",
    "    # (basis,nodes)\n",
    "    return np.cos(basis * np.arccos(nodes.reshape(-1, 1)))\n",
    "    \n",
    "def winogradMatricesC(m,r):\n",
    "    R = m+r\n",
    "    RR = 2*R-1\n",
    "    MC = chebyMat(RR,RR)\n",
    "    C = la.inv(MC)[-(R-1):,:]*2\n",
    "    A = chebyMat(RR,R)[:,-r:]\n",
    "    B = chebyMat(RR,R)[:,-m:]\n",
    "    return [B.T,A,C.T]\n",
    "    # return [A,B,C]"
   ]
  },
  {
   "cell_type": "code",
   "execution_count": 83,
   "metadata": {},
   "outputs": [
    {
     "name": "stdout",
     "output_type": "stream",
     "text": [
      "(200, 399) (399, 200) (399, 399)\n",
      "1.2841407696222318e+17 3.6658982580782547e+19 1.006298965225273e+27\n",
      "\n",
      "(200, 799) (799, 200) (799, 399)\n",
      "1.0000000000011149 1.0000000000011149 1.000000000002953\n",
      "\n",
      "2.248999766383353e+37\n",
      "1.2961514845328076e-12\n"
     ]
    }
   ],
   "source": [
    "(m,r) = (200,200)\n",
    "f = np.random.random(r)\n",
    "g = np.random.random(m+r-1)\n",
    "conv1 = np.convolve(f,g)[r-1:r-1+m]\n",
    "\n",
    "pts = rs_zero(m+r-1)\n",
    "[Ct,A,Bt] = winogradMatricesM(pts,m,r)\n",
    "print(Ct.shape,A.shape,Bt.shape)\n",
    "print(la.cond(Ct,p=2),la.cond(A,p=2),la.cond(Bt,p=2))\n",
    "conv2 = np.dot(Ct, np.dot(A,f[::-1])*np.dot(Bt,g) )\n",
    "\n",
    "print()\n",
    "\n",
    "[Ct,A,Bt] = winogradMatricesC(m,r)\n",
    "print(Ct.shape,A.shape,Bt.shape)\n",
    "print(la.cond(Ct,p=2),la.cond(A,p=2),la.cond(Bt,p=2))\n",
    "conv3 = np.dot(Ct, np.dot(A,f[::-1])*np.dot(Bt,g) )\n",
    "\n",
    "print()\n",
    "\n",
    "print(la.norm(conv1-conv2))\n",
    "print(la.norm(conv1-conv3))"
   ]
  },
  {
   "cell_type": "code",
   "execution_count": null,
   "metadata": {},
   "outputs": [],
   "source": []
  }
 ],
 "metadata": {
  "kernelspec": {
   "display_name": "Python 3",
   "language": "python",
   "name": "python3"
  },
  "language_info": {
   "codemirror_mode": {
    "name": "ipython",
    "version": 3
   },
   "file_extension": ".py",
   "mimetype": "text/x-python",
   "name": "python",
   "nbconvert_exporter": "python",
   "pygments_lexer": "ipython3",
   "version": "3.7.3"
  }
 },
 "nbformat": 4,
 "nbformat_minor": 2
}
