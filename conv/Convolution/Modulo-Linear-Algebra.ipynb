{
 "cells": [
  {
   "cell_type": "code",
   "execution_count": 15,
   "metadata": {},
   "outputs": [],
   "source": [
    "import numpy as np\n",
    "import numpy.linalg as la\n",
    "from func import *"
   ]
  },
  {
   "cell_type": "code",
   "execution_count": 16,
   "metadata": {},
   "outputs": [],
   "source": [
    "from sympy import Poly\n",
    "from sympy.polys import ring, QQ\n",
    "RR, x = ring(\"x\", QQ)"
   ]
  },
  {
   "cell_type": "code",
   "execution_count": 31,
   "metadata": {},
   "outputs": [],
   "source": [
    "def vectorToToeplitz2(v,numCols):\n",
    "    band_width = len(v)\n",
    "    H = np.zeros((numCols+len(v)-1, numCols))\n",
    "    for col in range(numCols):\n",
    "        H[col:col+band_width , col] = v\n",
    "    return H\n",
    "\n",
    "def buildModuloMat2(modPoly,deg):\n",
    "    poly = sym_allcoeffs(modPoly)\n",
    "    polyDeg = len(poly)-1\n",
    "    T = vectorToToeplitz2(poly,deg-polyDeg+1)\n",
    "    K = T[:polyDeg,:]\n",
    "    L = T[polyDeg:]\n",
    "    E = np.hstack([np.eye(polyDeg), -np.dot(K,la.inv(L))])\n",
    "    return E\n",
    "\n",
    "# returns N,n coefficients\n",
    "def getBerzetPolys2(M,m):\n",
    "    cM = sym_allcoeffs(M)\n",
    "    cm = sym_allcoeffs(m)\n",
    "    dM = len(cM)-1\n",
    "    dm = len(cm)-1\n",
    "    TM = vectorToToeplitz2(cM,dm)\n",
    "    Tm = vectorToToeplitz2(cm,dM)\n",
    "    T = np.hstack([TM,Tm])\n",
    "    coeffs = la.solve(T,np.append(1,np.zeros(dm+dM-1)))\n",
    "    return [coeffs[:dm],coeffs[dm:]]"
   ]
  },
  {
   "cell_type": "code",
   "execution_count": 32,
   "metadata": {},
   "outputs": [
    {
     "name": "stdout",
     "output_type": "stream",
     "text": [
      "[[ 1.  0.  4. -4. 20.]\n",
      " [ 0.  1. -1.  5. -9.]]\n"
     ]
    }
   ],
   "source": [
    "print(buildModuloMats2(x**2+x-4,4))"
   ]
  },
  {
   "cell_type": "code",
   "execution_count": 33,
   "metadata": {},
   "outputs": [
    {
     "name": "stdout",
     "output_type": "stream",
     "text": [
      "Prod: x**4 + 16*x**3 + 50*x**2 - 40*x - 75\n",
      "M: x**2 + 6*x + 5\n",
      "m: x**2 + 10*x - 15\n",
      "N: 1/240*x + 1/16\n",
      "n: -1/240*x - 11/240\n",
      "===========\n",
      "1/240*x**3 + 7/80*x**2 + 19/48*x + 5/16\n",
      "-1/240*x**3 - 7/80*x**2 - 19/48*x + 11/16\n"
     ]
    }
   ],
   "source": [
    "poly = np.asarray([x+1,x+5,x**2-10+10*x-5])\n",
    "P = 1\n",
    "for p in poly:\n",
    "    P *= p\n",
    "print(\"Prod:\",P)\n",
    "    \n",
    "i = 2\n",
    "M = P/poly[i]\n",
    "m = poly[i]\n",
    "N,n = getBerzetPolys(M,m,RR,x)\n",
    "# print(M)\n",
    "\n",
    "print(\"M:\",M)\n",
    "print(\"m:\",m)\n",
    "print(\"N:\",N)\n",
    "print(\"n:\",n)\n",
    "print(\"===========\")\n",
    "print(M*N)\n",
    "print(m*n)"
   ]
  },
  {
   "cell_type": "code",
   "execution_count": 34,
   "metadata": {},
   "outputs": [
    {
     "name": "stdout",
     "output_type": "stream",
     "text": [
      "[[  5.   0. -15.   0.]\n",
      " [  6.   5.  10. -15.]\n",
      " [  1.   6.   1.  10.]\n",
      " [  0.   1.   0.   1.]]\n",
      "[1. 0. 0. 0.]\n",
      "[ 0.0625      0.00416667 -0.04583333 -0.00416667]\n",
      "[[5. 0.]\n",
      " [6. 5.]\n",
      " [1. 6.]\n",
      " [0. 1.]]\n",
      "[0.0625     0.00416667]\n",
      "[[-15.   0.]\n",
      " [ 10. -15.]\n",
      " [  1.  10.]\n",
      " [  0.   1.]]\n",
      "[-0.04583333 -0.00416667]\n"
     ]
    }
   ],
   "source": [
    "cM = sym_allcoeffs(M)\n",
    "cm = sym_allcoeffs(m)\n",
    "cN = sym_allcoeffs(N)\n",
    "cn = sym_allcoeffs(n)\n",
    "\n",
    "TM = vectorToToeplitz2(cM,2)\n",
    "Tm = vectorToToeplitz2(cm,2)\n",
    "\n",
    "T = np.hstack([TM,Tm])\n",
    "o = np.append(1,np.zeros(3))\n",
    "print(T)\n",
    "print(o)\n",
    "coeffs = la.solve(T,o)\n",
    "print(coeffs)\n",
    "\n",
    "print(TM)\n",
    "print(cN)\n",
    "print(Tm)\n",
    "print(cn)"
   ]
  },
  {
   "cell_type": "code",
   "execution_count": 35,
   "metadata": {},
   "outputs": [
    {
     "name": "stdout",
     "output_type": "stream",
     "text": [
      "Prod: x**7 - x**6 - 4*x**5 + 6*x**4 - 2*x**3 - 8*x**2 + 8*x\n",
      "M: x**6 - x**5 - 4*x**4 + 6*x**3 - 2*x**2 - 8*x + 8\n",
      "m: x\n",
      "N: 1/8\n",
      "n: -1/8*x**5 + 1/8*x**4 + 1/2*x**3 - 3/4*x**2 + 1/4*x + 1\n",
      "===========\n",
      "1/8*x**6 - 1/8*x**5 - 1/2*x**4 + 3/4*x**3 - 1/4*x**2 - x + 1\n",
      "-1/8*x**6 + 1/8*x**5 + 1/2*x**4 - 3/4*x**3 + 1/4*x**2 + x\n"
     ]
    }
   ],
   "source": [
    "poly = np.asarray([x**2-4,x**3+2,x,x-1])\n",
    "P = 1\n",
    "for p in poly:\n",
    "    P *= p\n",
    "print(\"Prod:\",P)\n",
    "    \n",
    "i = 2\n",
    "M = P/poly[i]\n",
    "m = poly[i]\n",
    "N,n = getBerzetPolys(M,m,RR,x)\n",
    "# print(M)\n",
    "\n",
    "print(\"M:\",M)\n",
    "print(\"m:\",m)\n",
    "print(\"N:\",N)\n",
    "print(\"n:\",n)\n",
    "print(\"===========\")\n",
    "print(M*N)\n",
    "print(m*n)"
   ]
  },
  {
   "cell_type": "code",
   "execution_count": 53,
   "metadata": {},
   "outputs": [
    {
     "name": "stdout",
     "output_type": "stream",
     "text": [
      "Prod: x**8 - 1\n",
      "M: x**6 - x**4 + x**2 - 1\n",
      "m: x**2 + 1\n",
      "N: -1/4\n",
      "n: 1/4*x**4 - 1/2*x**2 + 3/4\n",
      "===========\n",
      "===========\n",
      "Prod1: -1/4*x**6 + 1/4*x**4 - 1/4*x**2 + 1/4\n",
      "Prod2: 1/4*x**6 - 1/4*x**4 + 1/4*x**2 + 3/4\n",
      "cM: [-1.  0.  1.  0. -1.  0.  1.]\n",
      "cm: [1. 0. 0. 0. 1.]\n",
      "Prod1: [ 0.25  0.   -0.25  0.    0.25  0.   -0.25]\n",
      "[array([-0.25, -0.  ]), array([ 0.75,  0.  , -0.5 ,  0.  ,  0.25,  0.  ])]\n"
     ]
    }
   ],
   "source": [
    "poly = np.asarray([x-1,x+1,x**2+1,x**4+1])\n",
    "P = 1\n",
    "for p in poly:\n",
    "    P *= p\n",
    "print(\"Prod:\",P)\n",
    "    \n",
    "i = 2\n",
    "M = P/poly[i]\n",
    "m = poly[i]\n",
    "N,n = getBerzetPolys(M,m,RR,x)\n",
    "# print(M)\n",
    "\n",
    "print(\"M:\",M)\n",
    "print(\"m:\",m)\n",
    "print(\"N:\",N)\n",
    "print(\"n:\",n)\n",
    "print(\"===========\")\n",
    "print(\"===========\")\n",
    "print(\"Prod1:\",M*N)\n",
    "print(\"Prod2:\",m*n)\n",
    "cM = sym_allcoeffs(M)\n",
    "print(\"cM:\",cM)\n",
    "print(\"cm:\",cm)\n",
    "cN = sym_allcoeffs(N)\n",
    "TcM = vectorToToeplitz2(cM,len(cN))\n",
    "prod1 = TcM @ cN\n",
    "print(\"Prod1:\",prod1)\n",
    "\n",
    "print(solveBerzouts(M,m))"
   ]
  },
  {
   "cell_type": "code",
   "execution_count": 28,
   "metadata": {},
   "outputs": [],
   "source": [
    "# Mi = M/mi\n",
    "# N,n = getBerzetPolys2(Mi,mi)\n",
    "# E = buildIdeMat(N*Mi,M,mi)"
   ]
  },
  {
   "cell_type": "code",
   "execution_count": 118,
   "metadata": {},
   "outputs": [
    {
     "name": "stdout",
     "output_type": "stream",
     "text": [
      "Prod: x**8 - 1\n",
      "M: x**6 - x**4 + x**2 - 1\n",
      "m: x**2 + 1\n",
      "N: -1/4\n",
      "n: 1/4*x**4 - 1/2*x**2 + 3/4\n",
      "===========\n",
      "Prod1: -1/4*x**6 + 1/4*x**4 - 1/4*x**2 + 1/4\n",
      "Prod2: 1/4*x**6 - 1/4*x**4 + 1/4*x**2 + 3/4\n",
      "[array([-0.25, -0.  ]), array([ 0.75,  0.  , -0.5 ,  0.  ,  0.25,  0.  ])]\n"
     ]
    }
   ],
   "source": [
    "poly = np.asarray([x-1,x+1,x**2+1,x**4+1])\n",
    "P = 1\n",
    "for p in poly:\n",
    "    P *= p\n",
    "print(\"Prod:\",P)\n",
    "\n",
    "i = 2\n",
    "M = P/poly[i]\n",
    "m = poly[i]\n",
    "N,n = getBerzetPolys(M,m,RR,x)\n",
    "# print(M)\n",
    "\n",
    "print(\"M:\",M)\n",
    "print(\"m:\",m)\n",
    "print(\"N:\",N)\n",
    "print(\"n:\",n)\n",
    "print(\"===========\")\n",
    "print(\"Prod1:\",M*N)\n",
    "print(\"Prod2:\",m*n)\n",
    "\n",
    "print(solveBerzouts(M,m))"
   ]
  },
  {
   "cell_type": "markdown",
   "metadata": {},
   "source": [
    "### Running Winograd with new Matrix Generators"
   ]
  },
  {
   "cell_type": "code",
   "execution_count": 148,
   "metadata": {},
   "outputs": [],
   "source": [
    "def winoMats(polys):\n",
    "    M = getProdPoly(polys)\n",
    "    deg_M = sym_deg(M)\n",
    "    \n",
    "    AA = None\n",
    "    CC = None\n",
    "    EE = None\n",
    "    first = True\n",
    "    \n",
    "    for mi in polys:\n",
    "        deg_m = sym_deg(mi)\n",
    "        \n",
    "        # evaluate in modulo\n",
    "        X = buildModuloMat2(mi,deg_M-1)\n",
    "        C,A,_ = toomCookMats(deg_m,deg_m)\n",
    "        A = np.dot(A,X)\n",
    "        AA = (A if first else np.vstack([AA,A]))\n",
    "\n",
    "        # evaluates interpolation modulo, recall we will have\n",
    "        # two degree deg_m-1\n",
    "        X = buildModuloMat2(mi,2*deg_m-2)\n",
    "        C = np.dot(X,C)\n",
    "        CC = (C if first else scila.block_diag(CC,C))\n",
    "\n",
    "        # recovery by the CRT\n",
    "        Mi = M/mi\n",
    "        cMi = sym_allcoeffs(Mi)\n",
    "        cmi = sym_allcoeffs(mi)\n",
    "        cN,_ = getBerzetPolys2(Mi,mi)\n",
    "        TcM = vectorToToeplitz2(cMi,len(cN))\n",
    "        cE = np.dot(TcM,cN)\n",
    "        E = vectorToToeplitz2(cE,deg_m)\n",
    "        \n",
    "        # evaluate modulo M\n",
    "        X = buildModuloMat2(M,len(E)-1)\n",
    "        E = np.dot(X,E)\n",
    "        \n",
    "        EE = (E if first else np.hstack([EE,E]))\n",
    "        first = False\n",
    "            \n",
    "    EC = np.dot(EE,CC)\n",
    "    return [EC,AA,AA]"
   ]
  },
  {
   "cell_type": "code",
   "execution_count": 149,
   "metadata": {},
   "outputs": [],
   "source": [
    "poly = np.asarray([x+1,x-1,x**2+1,x**4+1])\n",
    "[C,A,B] = winoMats(poly)"
   ]
  },
  {
   "cell_type": "code",
   "execution_count": 151,
   "metadata": {},
   "outputs": [
    {
     "name": "stdout",
     "output_type": "stream",
     "text": [
      "[8. 8. 8. 8. 8. 8. 8. 8.]\n"
     ]
    }
   ],
   "source": [
    "f = np.ones(8)\n",
    "g = np.ones(8)\n",
    "\n",
    "y = C @ ((np.dot(A,f) * np.dot(B,g)))\n",
    "print(y)"
   ]
  },
  {
   "cell_type": "markdown",
   "metadata": {},
   "source": [
    "### Winograd with different input sizes\n",
    "\n",
    "Suppose we want to convolve a $4 \\times 5$."
   ]
  },
  {
   "cell_type": "code",
   "execution_count": 178,
   "metadata": {},
   "outputs": [],
   "source": [
    "def winoMats(polys,r,n):\n",
    "    M = getProdPoly(polys)\n",
    "    deg_M = sym_deg(M)\n",
    "    \n",
    "    AA = None\n",
    "    BB = None\n",
    "    CC = None\n",
    "    EE = None\n",
    "    first = True\n",
    "    \n",
    "    for mi in polys:\n",
    "        deg_m = sym_deg(mi)\n",
    "        \n",
    "        # evaluate in modulo\n",
    "        C,A,B = toomCookMats(deg_m,deg_m)\n",
    "        X = buildModuloMat2(mi,r-1)\n",
    "        A = np.dot(A,X)\n",
    "        AA = (A if first else np.vstack([AA,A]))\n",
    "        X = buildModuloMat2(mi,n-1)\n",
    "        B = np.dot(B,X)\n",
    "        BB = (B if first else np.vstack([BB,B]))\n",
    "\n",
    "        # evaluates interpolation modulo, recall we will have\n",
    "        # two degree deg_m-1\n",
    "        X = buildModuloMat2(mi,2*deg_m-2)\n",
    "        C = np.dot(X,C)\n",
    "        CC = (C if first else scila.block_diag(CC,C))\n",
    "\n",
    "        # recovery by the CRT\n",
    "        Mi = M/mi\n",
    "        cMi = sym_allcoeffs(Mi)\n",
    "        cmi = sym_allcoeffs(mi)\n",
    "        cN,_ = getBerzetPolys2(Mi,mi)\n",
    "        TcM = vectorToToeplitz2(cMi,len(cN))\n",
    "        cE = np.dot(TcM,cN)\n",
    "        E = vectorToToeplitz2(cE,deg_m)\n",
    "        \n",
    "        # evaluate modulo M\n",
    "        X = buildModuloMat2(M,len(E)-1)\n",
    "        E = np.dot(X,E)\n",
    "        \n",
    "        EE = (E if first else np.hstack([EE,E]))\n",
    "        first = False\n",
    "            \n",
    "    EC = np.dot(EE,CC)\n",
    "    return [EC,AA,BB]"
   ]
  },
  {
   "cell_type": "code",
   "execution_count": 187,
   "metadata": {},
   "outputs": [
    {
     "name": "stdout",
     "output_type": "stream",
     "text": [
      "[[ 1.          0.          0.          0.        ]\n",
      " [-0.5         1.         -0.33333333 -0.16666667]\n",
      " [-1.          0.5         0.5         0.        ]\n",
      " [ 0.5        -0.5        -0.16666667  0.16666667]]\n",
      "[[ 1.  0.]\n",
      " [ 1.  1.]\n",
      " [ 1. -1.]\n",
      " [ 1.  2.]]\n",
      "[[ 1.  0.  0.  0.  0.]\n",
      " [ 1.  1.  1.  1.  1.]\n",
      " [ 1. -1.  1. -1.  1.]\n",
      " [ 1.  2.  4.  8. 16.]]\n",
      "[ 1. -6.  4. 11.]\n"
     ]
    }
   ],
   "source": [
    "r = 2\n",
    "n = 5\n",
    "\n",
    "poly = np.asarray([x,x-1,x+1,x-2])\n",
    "[C,A,B] = winoMats(poly,r,n)\n",
    "print(C)\n",
    "print(A)\n",
    "print(B)\n",
    "\n",
    "f = np.ones(r)\n",
    "g = np.ones(n)\n",
    "\n",
    "y = C @ ((np.dot(A,f) * np.dot(B,g)))\n",
    "print(y)"
   ]
  },
  {
   "cell_type": "code",
   "execution_count": null,
   "metadata": {},
   "outputs": [],
   "source": []
  }
 ],
 "metadata": {
  "kernelspec": {
   "display_name": "Python 3",
   "language": "python",
   "name": "python3"
  },
  "language_info": {
   "codemirror_mode": {
    "name": "ipython",
    "version": 3
   },
   "file_extension": ".py",
   "mimetype": "text/x-python",
   "name": "python",
   "nbconvert_exporter": "python",
   "pygments_lexer": "ipython3",
   "version": "3.7.3"
  }
 },
 "nbformat": 4,
 "nbformat_minor": 2
}
