{
 "cells": [
  {
   "cell_type": "code",
   "execution_count": 4,
   "metadata": {},
   "outputs": [],
   "source": [
    "import numpy as np\n",
    "import numpy.linalg as la\n",
    "from scipy import linalg as scila\n",
    "from func import *\n",
    "\n",
    "np.set_printoptions(linewidth=200)"
   ]
  },
  {
   "cell_type": "markdown",
   "metadata": {},
   "source": [
    "### Toom-Cook Generate"
   ]
  },
  {
   "cell_type": "code",
   "execution_count": 5,
   "metadata": {},
   "outputs": [],
   "source": [
    "def toomCookMats(b, n, cheby=False):\n",
    "    pts = rs(n+b-1)\n",
    "    V = np.vander(pts,increasing=True)\n",
    "    V[-1,:] = 0; V[-1,-1] = 1\n",
    "    C = la.inv(V)\n",
    "    \n",
    "    A = V[:,:b].copy(); A[-1,-1] = 1\n",
    "    B = V[:,:n].copy(); B[-1,-1] = 1\n",
    "    \n",
    "    return [C,A,B]"
   ]
  },
  {
   "cell_type": "code",
   "execution_count": 6,
   "metadata": {},
   "outputs": [
    {
     "name": "stdout",
     "output_type": "stream",
     "text": [
      "[[ 1.          0.          0.          0.          0.          0.        ]\n",
      " [-0.         -0.66666667  0.66666667  0.08333333 -0.08333333  4.        ]\n",
      " [-1.25        0.66666667  0.66666667 -0.04166667 -0.04166667  0.        ]\n",
      " [ 0.          0.16666667 -0.16666667 -0.08333333  0.08333333 -5.        ]\n",
      " [ 0.25       -0.16666667 -0.16666667  0.04166667  0.04166667 -0.        ]\n",
      " [ 0.          0.          0.          0.          0.          1.        ]] \n",
      "\n",
      " [[ 1  0  0]\n",
      " [ 1 -1  1]\n",
      " [ 1  1  1]\n",
      " [ 1 -2  4]\n",
      " [ 1  2  4]\n",
      " [ 0  0  1]] \n",
      "\n",
      " [[ 1  0  0  0]\n",
      " [ 1 -1  1 -1]\n",
      " [ 1  1  1  1]\n",
      " [ 1 -2  4 -8]\n",
      " [ 1  2  4  8]\n",
      " [ 0  0  0  1]]\n"
     ]
    }
   ],
   "source": [
    "A,B,C = toomCookMats(3,4)\n",
    "\n",
    "print(A,\"\\n\\n\",B,\"\\n\\n\",C)"
   ]
  },
  {
   "cell_type": "markdown",
   "metadata": {},
   "source": [
    "### FFT Generate"
   ]
  },
  {
   "cell_type": "code",
   "execution_count": 7,
   "metadata": {},
   "outputs": [],
   "source": [
    "def fftMats(b, n, cyclic=False):\n",
    "    assert(b <= n)\n",
    "    z = (n if cyclic else n+b-1)\n",
    "    F = Fmat(z)\n",
    "    Finv = Fmatinv(z)\n",
    "    \n",
    "    return [F[:,:n].copy(),F[:,:b].copy(),Finv]"
   ]
  },
  {
   "cell_type": "code",
   "execution_count": 8,
   "metadata": {},
   "outputs": [
    {
     "name": "stdout",
     "output_type": "stream",
     "text": [
      "[[ 1. +0.00000000e+00j  1. +0.00000000e+00j  1. +0.00000000e+00j  1. +0.00000000e+00j]\n",
      " [ 1. +0.00000000e+00j  0.5-8.66025404e-01j -0.5-8.66025404e-01j -1. -3.88578059e-16j]\n",
      " [ 1. +0.00000000e+00j -0.5-8.66025404e-01j -0.5+8.66025404e-01j  1. +8.32667268e-16j]\n",
      " [ 1. +0.00000000e+00j -1. -3.88578059e-16j  1. +8.32667268e-16j -1. -1.33226763e-15j]\n",
      " [ 1. +0.00000000e+00j -0.5+8.66025404e-01j -0.5-8.66025404e-01j  1. +1.77635684e-15j]\n",
      " [ 1. +0.00000000e+00j  0.5+8.66025404e-01j -0.5+8.66025404e-01j -1. -2.16493490e-15j]] \n",
      "\n",
      " [[ 1. +0.00000000e+00j  1. +0.00000000e+00j  1. +0.00000000e+00j]\n",
      " [ 1. +0.00000000e+00j  0.5-8.66025404e-01j -0.5-8.66025404e-01j]\n",
      " [ 1. +0.00000000e+00j -0.5-8.66025404e-01j -0.5+8.66025404e-01j]\n",
      " [ 1. +0.00000000e+00j -1. -3.88578059e-16j  1. +8.32667268e-16j]\n",
      " [ 1. +0.00000000e+00j -0.5+8.66025404e-01j -0.5-8.66025404e-01j]\n",
      " [ 1. +0.00000000e+00j  0.5+8.66025404e-01j -0.5+8.66025404e-01j]] \n",
      "\n",
      " [[ 0.16666667+0.00000000e+00j  0.16666667+0.00000000e+00j  0.16666667+0.00000000e+00j  0.16666667+0.00000000e+00j  0.16666667+0.00000000e+00j  0.16666667+0.00000000e+00j]\n",
      " [ 0.16666667+0.00000000e+00j  0.08333333+1.44337567e-01j -0.08333333+1.44337567e-01j -0.16666667+6.47630098e-17j -0.08333333-1.44337567e-01j  0.08333333-1.44337567e-01j]\n",
      " [ 0.16666667+0.00000000e+00j -0.08333333+1.44337567e-01j -0.08333333-1.44337567e-01j  0.16666667-1.38777878e-16j -0.08333333+1.44337567e-01j -0.08333333-1.44337567e-01j]\n",
      " [ 0.16666667+0.00000000e+00j -0.16666667+6.47630098e-17j  0.16666667-1.38777878e-16j -0.16666667+2.22044605e-16j  0.16666667-2.96059473e-16j -0.16666667+3.60822483e-16j]\n",
      " [ 0.16666667+0.00000000e+00j -0.08333333-1.44337567e-01j -0.08333333+1.44337567e-01j  0.16666667-2.96059473e-16j -0.08333333-1.44337567e-01j -0.08333333+1.44337567e-01j]\n",
      " [ 0.16666667+0.00000000e+00j  0.08333333-1.44337567e-01j -0.08333333-1.44337567e-01j -0.16666667+3.60822483e-16j -0.08333333+1.44337567e-01j  0.08333333+1.44337567e-01j]]\n"
     ]
    }
   ],
   "source": [
    "A,B,C = fftMats(3,4)\n",
    "\n",
    "print(A,\"\\n\\n\",B,\"\\n\\n\",C)"
   ]
  },
  {
   "cell_type": "code",
   "execution_count": 9,
   "metadata": {},
   "outputs": [],
   "source": [
    "from sympy import Poly\n",
    "from sympy.polys import ring, QQ\n",
    "RR, x = ring(\"x\", QQ)"
   ]
  },
  {
   "cell_type": "markdown",
   "metadata": {},
   "source": [
    "### Extended Euclian Algorithm\n",
    "\n",
    "Code is very ad-hoc right now. Need extended Euclidian algorithm from sympy."
   ]
  },
  {
   "cell_type": "code",
   "execution_count": 10,
   "metadata": {},
   "outputs": [],
   "source": [
    "def sym_deg(p):\n",
    "    return p.terms()[0][0][0]\n",
    "\n",
    "def sym_allcoeffs(p):\n",
    "    # extracts all coefficients form 1 -> x**p\n",
    "    d = sym_deg(p)\n",
    "    coeffs = np.zeros(d+1)\n",
    "    terms = p.to_dict()\n",
    "    for i in range(d+1):\n",
    "        v = tuple([i])\n",
    "        if v in terms:\n",
    "            coeffs[i] = terms[v]\n",
    "    return coeffs\n",
    "\n",
    "def extEucAlg(M,m,RR,deg):\n",
    "    # returns coefficients of N(x) and n(x) \n",
    "    [N,n,gcd] = RR.dup_gcdex(M, m)\n",
    "    assert(len(gcd) == 1 and gcd.coeffs()[0] == 1)\n",
    "    # !!! <!-- TODO --> sum of degrees not right, this is an ad-hoc fix\n",
    "    if(sym_deg(M) + sym_deg(N) != deg):\n",
    "        Ntemp = N\n",
    "        N = n*m\n",
    "        n = Ntemp*M\n",
    "    return [sym_allcoeffs(N),sym_allcoeffs(n)]\n",
    "\n",
    "def berzotMats(pTerms,numCoeffs):\n",
    "    deg = len(pTerms)-1\n",
    "    E = np.zeros((numCoeffs + deg, numCoeffs))\n",
    "    for i in range(deg):\n",
    "        for j in range(deg+1):\n",
    "            E[j+i,i] = pTerms[j]\n",
    "    return E"
   ]
  },
  {
   "cell_type": "code",
   "execution_count": 11,
   "metadata": {},
   "outputs": [
    {
     "name": "stdout",
     "output_type": "stream",
     "text": [
      "[ 0.5  0.  -0.5]\n",
      "[0.5 0.  0.5]\n",
      "[[ 0.5  0. ]\n",
      " [ 0.   0.5]\n",
      " [-0.5  0. ]\n",
      " [ 0.  -0.5]]\n",
      "[[0.5 0. ]\n",
      " [0.  0.5]\n",
      " [0.5 0. ]\n",
      " [0.  0.5]]\n"
     ]
    }
   ],
   "source": [
    "M = x**2+1\n",
    "m = x**2-1\n",
    "N,n = extEucAlg(M,m,RR,4)\n",
    "\n",
    "print(N)\n",
    "print(n)\n",
    "\n",
    "Nmat = berzotMats(N,2)\n",
    "nmat = berzotMats(n,2)\n",
    "print(Nmat)\n",
    "print(nmat)"
   ]
  },
  {
   "cell_type": "markdown",
   "metadata": {},
   "source": [
    "Composition of Winograd's algorithm\n",
    "\n",
    "$$\n",
    "    \\begin{bmatrix}E_1 & E_2 \\end{bmatrix}\n",
    "    \\begin{bmatrix}M_3C_1 & 0 \\\\ 0 & M_4C_2 \\end{bmatrix}\n",
    "    \\Bigg(\n",
    "        \\begin{bmatrix} A_1M_1\\\\A_2M_2 \\end{bmatrix}f\n",
    "        \\odot\n",
    "        \\begin{bmatrix} B_1M_1\\\\B_2M_2 \\end{bmatrix}g\n",
    "    \\Bigg)\n",
    "$$\n",
    "\n",
    "Matrices $M_3$ and $M_4$ are defined by the companion matrix, $M_1$ and $M_2$ are companion like matrices, staggered values."
   ]
  },
  {
   "cell_type": "markdown",
   "metadata": {},
   "source": [
    "### Generating Cyclic Convolutions\n",
    "\n",
    "We generate a 4 point, modulo $M(x) = x^4-1 = (x^2+1)(x^2-1)$.\n",
    "\n",
    "#### Building Modulo Matrices\n",
    "\n",
    "We can represent our original polynomial with a $(d+1) \\times (d+1)$, where the $i^{th}$ row corresponds to the coefficient $x^{i-1}$. Within each row, the corresponding columns represent the coefficient of the original variable. For example, given a polynomial with degree $d_1$, $c_3x^3 + c_2x^2 + c_1x + c_0$, we build the identity matrix since the $i^{th}$ coefficients start off only at the $(i-1)^{th}$ degree.\n",
    "\n",
    "Let the divisor be of degree $d_2$ be $x^2 + 2$. We build the column vector\n",
    "\n",
    "$$\\begin{bmatrix}2 \\\\ 0 \\\\ 1 \\end{bmatrix}.$$\n",
    "\n",
    "Thus, we iterate $d_1 - d_2 + 1$ times, dividing the original polynomial until our largest degree is smaller than $d_2$. To simulate polynomial division, which involves multiplying the divisor by the additive inverse, we take the row with the largest degree and compute the Kronecker product with the divisor vector. We subtract the correct portion."
   ]
  },
  {
   "cell_type": "code",
   "execution_count": 12,
   "metadata": {},
   "outputs": [
    {
     "name": "stdout",
     "output_type": "stream",
     "text": [
      "[[ 1.  0. -1.  0.]\n",
      " [ 0.  1.  0. -1.]]\n"
     ]
    }
   ],
   "source": [
    "def moduloMats(divPoly,deg):\n",
    "    # build dividend polynomial matrix\n",
    "    divMat = np.eye(deg+1)\n",
    "    \n",
    "    # divisor vector\n",
    "    cffs = sym_allcoeffs(divPoly)\n",
    "    divDeg = len(cffs)-1\n",
    "\n",
    "    for i in range(deg-divDeg+1):\n",
    "        idx = deg-i\n",
    "        row = divMat[idx,:]\n",
    "        prod = np.outer(cffs,row)\n",
    "        divMat[idx-divDeg:idx+1,:] -= prod\n",
    "        \n",
    "    return divMat[:divDeg,:]\n",
    "\n",
    "## ax^3+bx^2+cx+d (mod x^2+1) = (c-a)x + (d-b)\n",
    "print(moduloMats(M,3))"
   ]
  },
  {
   "cell_type": "code",
   "execution_count": 13,
   "metadata": {},
   "outputs": [],
   "source": [
    "# evaluates our input degree 3 (size 4) in the polynomial modulo M,m\n",
    "M1 = moduloMats(M,3)\n",
    "M2 = moduloMats(m,3)\n",
    "\n",
    "C,A,_ = toomCookMats(2,2)\n",
    "A1 = np.dot(A,M1)\n",
    "A2 = np.dot(A,M2)\n",
    "AA = np.vstack([A1,A2])\n",
    "\n",
    "# evaluates the result degree 2n-1 in poly. modulo M,m again\n",
    "M3 = moduloMats(M,2)\n",
    "M4 = moduloMats(m,2)\n",
    "\n",
    "C1 = np.dot(M3,C)\n",
    "C2 = np.dot(M4,C)\n",
    "CC = scila.block_diag(C1,C2)\n",
    "\n",
    "# linear combinations by Berzouts identity for the CRT\n",
    "E1 = berzotMats(N,2)\n",
    "E2 = berzotMats(n,2)\n",
    "E = np.hstack([E1,E2])\n",
    "EC = np.dot(E,CC)"
   ]
  },
  {
   "cell_type": "code",
   "execution_count": 14,
   "metadata": {},
   "outputs": [
    {
     "name": "stdout",
     "output_type": "stream",
     "text": [
      "[4. 4. 4. 4.]\n"
     ]
    }
   ],
   "source": [
    "f = np.ones(4)\n",
    "g = np.ones(4)\n",
    "y = EC @ (np.dot(AA,f) * np.dot(AA,g))\n",
    "print(y)"
   ]
  },
  {
   "cell_type": "code",
   "execution_count": 15,
   "metadata": {},
   "outputs": [],
   "source": [
    "def cyclicWinoMats(d,RR,x):\n",
    "    m1 = x**(d//2) + 1\n",
    "    m2 = x**(d//2) - 1\n",
    "    \n",
    "    d1,d2 = d//2,d//2\n",
    "    \n",
    "    # evaluates our input d-point, or (d-1)-degree\n",
    "    # in the polynomial modulo M,m\n",
    "    M1 = moduloMats(m1,d-1)\n",
    "    M2 = moduloMats(m2,d-1)\n",
    "\n",
    "    # split nesting uses Agarawal to derive larger small convs\n",
    "    C,A,_ = toomCookMats(d1,d1)\n",
    "    A1 = np.dot(A,M1)\n",
    "    A2 = np.dot(A,M2)\n",
    "    AA = np.vstack([A1,A2])\n",
    "\n",
    "    # evaluates the result degree (2n-1)-1 in poly. modulo M,m again\n",
    "    M3 = moduloMats(m1,2*d1-2)\n",
    "    M4 = moduloMats(m2,2*d2-2)\n",
    "\n",
    "    C1 = np.dot(M3,C)\n",
    "    C2 = np.dot(M4,C)\n",
    "    CC = scila.block_diag(C1,C2)\n",
    "\n",
    "    # linear combinations by Berzouts identity for the CRT\n",
    "    N,n = extEucAlg(m1,m2,RR,d)\n",
    "    E1 = berzotMats(N,d1)\n",
    "    E2 = berzotMats(n,d2)\n",
    "    E = np.hstack([E1,E2])\n",
    "    EC = np.dot(E,CC)\n",
    "    \n",
    "    # [C,A,B]\n",
    "    return [EC,AA,AA]"
   ]
  },
  {
   "cell_type": "code",
   "execution_count": 16,
   "metadata": {},
   "outputs": [
    {
     "name": "stdout",
     "output_type": "stream",
     "text": [
      "[4. 4. 4. 4.]\n"
     ]
    }
   ],
   "source": [
    "d = 4 # generate a d-point cyclic convolution\n",
    "assert(d % 2 == 0)\n",
    "\n",
    "[C,A,_] = cyclicWinoMats(d,RR,x)\n",
    "v = np.ones(d)\n",
    "w = np.ones(d)\n",
    "\n",
    "y = C @ (np.dot(A,v) * np.dot(A,w))\n",
    "print(y)"
   ]
  },
  {
   "cell_type": "markdown",
   "metadata": {},
   "source": [
    "### Uneven Winograd Cyclic Conv Generator"
   ]
  },
  {
   "cell_type": "code",
   "execution_count": 17,
   "metadata": {},
   "outputs": [
    {
     "name": "stdout",
     "output_type": "stream",
     "text": [
      "x**16 - 1\n",
      "x**15 + x**14 + x**13 + x**12 + x**11 + x**10 + x**9 + x**8 + x**7 + x**6 + x**5 + x**4 + x**3 + x**2 + x + 1\n"
     ]
    }
   ],
   "source": [
    "ppp = x**16-1\n",
    "ppp1 = x-1\n",
    "\n",
    "print(ppp)\n",
    "print(ppp/ppp1)"
   ]
  },
  {
   "cell_type": "markdown",
   "metadata": {},
   "source": [
    "### General Winograd Convolution Generator\n",
    "\n",
    "We assuming the modulo spaces matches the degree of the polynomial"
   ]
  },
  {
   "cell_type": "code",
   "execution_count": 18,
   "metadata": {},
   "outputs": [
    {
     "name": "stdout",
     "output_type": "stream",
     "text": [
      "[[ 1. -1.  1.]]\n"
     ]
    }
   ],
   "source": [
    "def _buildModuloMat(modPoly,divMat):\n",
    "    # divisor as vector of coefficients\n",
    "    deg = len(divMat)-1\n",
    "    poly = sym_allcoeffs(modPoly)\n",
    "    polyDeg = len(poly)-1\n",
    "\n",
    "    # long division\n",
    "    for i in range(deg-polyDeg+1):\n",
    "        idx = deg-i\n",
    "        row = divMat[idx,:]\n",
    "        prod = np.outer(poly,row)\n",
    "        divMat[idx-polyDeg:idx+1,:] -= prod\n",
    "        \n",
    "    return divMat[:polyDeg,:]\n",
    "\n",
    "# Input(polynomial modulo, \n",
    "# to-be evaluated d-degree polynomial - can be arbitrary\n",
    "# if genericPoly is empty\n",
    "#       [optional]generic starting polynomial)\n",
    "# Output: Matrix of a polynomial of degree (d-1) in modulo space\n",
    "# I.e. Evaluate (P(x) mod M) (mod m_i)\n",
    "# Note: polynomial in modulo poly (d+1)-degree evals to d-degree\n",
    "def buildModuloMat(modPoly,deg,genericPoly=None):\n",
    "    if(genericPoly is None):\n",
    "        # d-degree has d+1 coefficients\n",
    "        # where ith variable goes to power x^i\n",
    "        genericPoly = np.eye(deg+1)\n",
    "    return _buildModuloMat(modPoly,genericPoly)\n",
    "\n",
    "print(buildModuloMat(x+1,2))"
   ]
  },
  {
   "cell_type": "markdown",
   "metadata": {},
   "source": [
    "### Idempotent Evaluation\n",
    "\n",
    "In the recovery of the polynomial CRT, we need the idempotent $e_1 = m_2n_2$ and $e=2 = m_1n_1$ to evaluate the polynomial. Thus, the resultant polynomial product $r(x)$ needs to be multiplied by $e_i$ and then evaluted in the original modulo space $M(x)$.\n",
    "\n",
    "So to do so, we first 1) Multiplying the idempotent by a generic polynomial in its modulo space. With the new product polynomial, we then 2) Evaluate the slightly altered generic in modulo space N."
   ]
  },
  {
   "cell_type": "code",
   "execution_count": 19,
   "metadata": {},
   "outputs": [
    {
     "name": "stdout",
     "output_type": "stream",
     "text": [
      "[[ 0.  1.]\n",
      " [-1.  2.]\n",
      " [-1.  1.]]\n"
     ]
    }
   ],
   "source": [
    "# Input(idompotent poly, to-be multiplied d-degree polynomial)\n",
    "# Output: Matrix of polynomial product (no modulo)\n",
    "def _buildMultMat(idePoly,deg):\n",
    "    ideCoeff = sym_allcoeffs(idePoly)\n",
    "    ideDeg = len(ideCoeff)-1\n",
    "    \n",
    "    # has same number of deg+1 variables, but power\n",
    "    # will be extended to deg+ideDeg\n",
    "    prodMat = np.zeros((deg+ideDeg+1,deg+1))\n",
    "    \n",
    "    # multiply by coefficient of x^i\n",
    "    for i in range(ideDeg+1):\n",
    "        prodMat[i:i+deg+1,:] += ideCoeff[i] * np.eye(deg+1)\n",
    "    return prodMat\n",
    "\n",
    "# Input(idempotent polynomial coeffs,\n",
    "#        large modulo polynomial,small mod space poly)\n",
    "# Output: Matrix of evaluated product in modulo space m\n",
    "def buildIdeMat(idePoly,M,mi):\n",
    "    deg_m = sym_deg(mi)\n",
    "    deg_M = sym_deg(M)\n",
    "    # recall given (d+1)-degree mod poly, evals d-degree poly\n",
    "    prodMat = _buildMultMat(idePoly,deg_m-1)\n",
    "    ideMat = buildModuloMat(M,_,prodMat)\n",
    "    return ideMat\n",
    "\n",
    "print(buildIdeMat(-(x+x**2), x**3+2*x**2+2*x+1,x**2+x+1))"
   ]
  },
  {
   "cell_type": "code",
   "execution_count": 20,
   "metadata": {},
   "outputs": [
    {
     "name": "stdout",
     "output_type": "stream",
     "text": [
      "x**3 + 2*x**2 + 2*x + 1 || x + 1 || x**2 + x + 1\n",
      "[[ 1. -1.  1.]]\n",
      "[[ 1.  0. -1.]\n",
      " [ 0.  1. -1.]]\n",
      "[[1.]\n",
      " [1.]\n",
      " [1.]]\n",
      "[[ 0.  1.]\n",
      " [-1.  2.]\n",
      " [-1.  1.]]\n",
      "[[ 1.  0. -1.]\n",
      " [ 0.  1. -1.]]\n"
     ]
    }
   ],
   "source": [
    "m1 = x+1\n",
    "m2 = x**2+x+1\n",
    "M = m1 * m2\n",
    "print(M,\"||\",m1,\"||\",m2)\n",
    "\n",
    "print(buildModuloMat(m1,2))\n",
    "print(buildModuloMat(m2,2))\n",
    "\n",
    "print(buildIdeMat(x**2+x+1, M, m1))\n",
    "print(buildIdeMat(-(x+x**2), M, m2))\n",
    "\n",
    "# for C matrix for a Toom-2\n",
    "print(buildModuloMat(m2,2))"
   ]
  },
  {
   "cell_type": "code",
   "execution_count": 21,
   "metadata": {},
   "outputs": [],
   "source": [
    "def getBerzetPolys(M,m,RR,deg):\n",
    "    # returns coefficients of N(x) and n(x) \n",
    "    [N,n,gcd] = RR.dup_gcdex(M, m)\n",
    "    assert(len(gcd) == 1 and gcd.coeffs()[0] == 1)\n",
    "    return [N,n]\n",
    "    # return [sym_allcoeffs(N),sym_allcoeffs(n)]"
   ]
  },
  {
   "cell_type": "code",
   "execution_count": 22,
   "metadata": {},
   "outputs": [],
   "source": [
    "def getProdPoly(polys):\n",
    "    prod = 1\n",
    "    for p in polys:\n",
    "        prod *= p\n",
    "    return prod\n",
    "\n",
    "def winoMats(polys,RR,x):\n",
    "    M = getProdPoly(polys)\n",
    "    deg_M = sym_deg(M)\n",
    "    \n",
    "    AA = None\n",
    "    CC = None\n",
    "    EE = None\n",
    "    first = True\n",
    "    \n",
    "    for mi in polys:\n",
    "        deg_m = sym_deg(mi)\n",
    "        \n",
    "        # evaluate in modulo\n",
    "        L = buildModuloMat(mi,deg_M-1)\n",
    "        C,A,_ = toomCookMats(deg_m,deg_m)\n",
    "        A = np.dot(A,L)\n",
    "        AA = (A if first else np.vstack([AA,A]))\n",
    "\n",
    "        # evaluates interpolation modulo\n",
    "        L = buildModuloMat(mi,2*deg_m-2)\n",
    "        C = np.dot(L,C)\n",
    "        CC = (C if first else scila.block_diag(CC,C))\n",
    "\n",
    "        # recovery by the CRT\n",
    "        Mi = M/mi\n",
    "        N,n = getBerzetPolys(Mi,mi,RR,deg_M)\n",
    "        E = buildIdeMat(N*Mi,M,mi)\n",
    "        EE = (E if first else np.hstack([EE,E]))\n",
    "        first = False\n",
    "            \n",
    "    EC = np.dot(EE,CC)\n",
    "    return [EC,AA,AA]"
   ]
  },
  {
   "cell_type": "code",
   "execution_count": 23,
   "metadata": {},
   "outputs": [
    {
     "name": "stdout",
     "output_type": "stream",
     "text": [
      "[[ 1.  1. -1.  0.]\n",
      " [ 1.  1. -2.  1.]\n",
      " [ 1.  0. -1.  1.]]\n",
      "[[ 1. -1.  1.]\n",
      " [ 1.  0. -1.]\n",
      " [ 1. -1.  0.]\n",
      " [ 0.  1. -1.]]\n"
     ]
    }
   ],
   "source": [
    "polynomials = np.asarray([x+1,x**2+x+1])\n",
    "[C,A,_] = winoMats(polynomials,RR,x)\n",
    "\n",
    "print(C)\n",
    "print(A)"
   ]
  },
  {
   "cell_type": "code",
   "execution_count": 24,
   "metadata": {},
   "outputs": [
    {
     "name": "stdout",
     "output_type": "stream",
     "text": [
      "[[ 1.00000000e+00  0.00000000e+00  0.00000000e+00  0.00000000e+00  0.00000000e+00  0.00000000e+00  0.00000000e+00  0.00000000e+00  0.00000000e+00  0.00000000e+00]\n",
      " [ 5.00000000e-01  1.00000000e+00  1.66666667e-01 -1.66666667e-01  1.00000000e+00  0.00000000e+00 -2.00000000e+00  1.66666667e-01  3.33333333e-01 -3.00000000e+00]\n",
      " [ 5.00000000e-01  2.50000000e+00 -5.55111512e-17 -5.00000000e-01  5.00000000e+00 -1.50000000e+00 -2.00000000e+00  5.00000000e-01  5.00000000e-01 -6.00000000e+00]\n",
      " [ 1.00000000e+00  3.00000000e+00 -3.33333333e-01 -6.66666667e-01  8.00000000e+00 -1.50000000e+00 -2.50000000e+00  5.00000000e-01  5.00000000e-01 -6.00000000e+00]\n",
      " [ 1.50000000e+00  2.00000000e+00 -5.00000000e-01 -5.00000000e-01  7.00000000e+00 -1.50000000e+00 -2.00000000e+00  5.00000000e-01  5.00000000e-01 -6.00000000e+00]\n",
      " [ 1.50000000e+00  5.00000000e-01 -3.33333333e-01 -1.66666667e-01  3.00000000e+00 -1.50000000e+00 -5.00000000e-01  3.33333333e-01  1.66666667e-01 -3.00000000e+00]]\n",
      "[[ 1.  0.  0.  0.  0.  0.]\n",
      " [ 1. -1.  1.  1. -1. -1.]\n",
      " [ 1.  1.  1. -1. -1.  1.]\n",
      " [ 1. -2.  4.  2. -4. -2.]\n",
      " [ 0.  0.  1.  0. -1.  0.]\n",
      " [ 1.  0.  0. -1.  2. -2.]\n",
      " [ 1. -1.  1. -1.  1. -1.]\n",
      " [ 1.  1.  1. -5.  7. -5.]\n",
      " [ 1. -2.  4. -5.  4. -2.]\n",
      " [ 0.  0.  1. -2.  2. -1.]]\n"
     ]
    }
   ],
   "source": [
    "# example 1\n",
    "polynomials = np.asarray([x*(x**2+1),(x+1)*(x**2+x+1)])\n",
    "[C,A,_] = winoMats(polynomials,RR,x)\n",
    "\n",
    "print(C)\n",
    "print(A)"
   ]
  },
  {
   "cell_type": "markdown",
   "metadata": {},
   "source": [
    "### Using Winograd within Winograd\n",
    "\n",
    "From example 1, we can break the smaller convolutions further"
   ]
  },
  {
   "cell_type": "code",
   "execution_count": 25,
   "metadata": {},
   "outputs": [],
   "source": [
    "# break larger mod spaces into smaller ones\n",
    "def binomialWinoMats(polys,RR,x):\n",
    "    numPolys = len(polys)\n",
    "    midPt = numPolys//2\n",
    "    \n",
    "    M = getProdPoly(polys)\n",
    "    deg_M = sym_deg(M)\n",
    "    \n",
    "    AA = None\n",
    "    CC = None\n",
    "    EE = None\n",
    "    first = True\n",
    "    \n",
    "    for i in range(2):\n",
    "        # build larger\n",
    "        mi = 1\n",
    "        start = (0 if i == 0 else midPt)\n",
    "        end = (midPt if i == 0 else numPolys)\n",
    "        for j in range(start,end):\n",
    "            mi *= polys[j] \n",
    "        deg_m = sym_deg(mi)\n",
    "        \n",
    "        # evaluate in modulo\n",
    "        L = buildModuloMat(mi,deg_M-1)\n",
    "        if(end-start > 1):\n",
    "            [C,A,B] = binomialWinoMats(polys[start:end],RR,x)\n",
    "        else:\n",
    "            [C,A,B] = toomCookMats(deg_m,deg_m)\n",
    "        A = np.dot(A,L)\n",
    "        AA = (A if first else np.vstack([AA,A]))\n",
    "\n",
    "        # evaluates interpolation modulo\n",
    "        L = buildModuloMat(mi,C.shape[0]-1)\n",
    "        C = np.dot(L,C)\n",
    "        CC = (C if first else scila.block_diag(CC,C))\n",
    "\n",
    "        # recovery by the CRT\n",
    "        Mi = M/mi\n",
    "        N,n = getBerzetPolys(Mi,mi,RR,deg_M)\n",
    "        E = buildIdeMat(N*Mi,M,mi)\n",
    "        EE = (E if first else np.hstack([EE,E]))\n",
    "        first = False\n",
    "            \n",
    "    EC = np.dot(EE,CC)\n",
    "    return [EC,AA,AA]"
   ]
  },
  {
   "cell_type": "code",
   "execution_count": 26,
   "metadata": {},
   "outputs": [
    {
     "name": "stdout",
     "output_type": "stream",
     "text": [
      "[[ 1.00000000e+00  0.00000000e+00  0.00000000e+00  0.00000000e+00  0.00000000e+00  0.00000000e+00  0.00000000e+00  0.00000000e+00  0.00000000e+00  0.00000000e+00]\n",
      " [ 1.50000000e+00 -6.00000000e-01  2.00000000e-01  2.00000000e-01 -5.00000000e-01  7.95659834e-17 -6.66666667e-01  6.66666667e-01  5.55555556e-02  1.11111111e-02]\n",
      " [ 1.50000000e+00 -1.10000000e+00  7.00000000e-01 -3.00000000e-01 -2.50000000e-01 -6.66666667e-01 -3.33333333e-01  1.00000000e+00  1.38888889e-01  1.11111111e-02]\n",
      " [ 5.00000000e-01 -6.00000000e-01  7.00000000e-01 -8.00000000e-01 -5.00000000e-01 -3.33333333e-01 -1.07321559e-16  3.33333333e-01  2.22222222e-01  1.11111111e-02]\n",
      " [-1.00000000e+00  5.00000000e-01 -1.38777878e-17 -5.00000000e-01  2.50000000e-01 -8.32667268e-17  6.93889390e-17  2.31296463e-17  2.50000000e-01  0.00000000e+00]\n",
      " [-1.50000000e+00  1.10000000e+00 -7.00000000e-01  3.00000000e-01  2.50000000e-01 -7.49400542e-17  6.66666667e-01 -6.66666667e-01  1.94444444e-01 -1.11111111e-02]\n",
      " [-1.50000000e+00  6.00000000e-01 -7.00000000e-01  8.00000000e-01  5.00000000e-01  6.66666667e-01  3.33333333e-01 -1.00000000e+00  1.11111111e-01 -1.11111111e-02]\n",
      " [-5.00000000e-01  1.00000000e-01 -2.00000000e-01  3.00000000e-01  2.50000000e-01  3.33333333e-01  3.79326200e-17 -3.33333333e-01  2.77777778e-02 -1.11111111e-02]]\n",
      "[[   1.    0.    0.    0.    0.    0.    0.    0.]\n",
      " [   1.    0.   -1.    0.    1.    0.   -1.    0.]\n",
      " [   1.   -1.   -1.    1.    1.   -1.   -1.    1.]\n",
      " [   0.    1.    0.   -1.    0.    1.    0.   -1.]\n",
      " [   1.   -1.    1.   -1.    1.   -1.    1.   -1.]\n",
      " [   1.    0.   -1.    1.    0.   -1.    1.    0.]\n",
      " [   1.   -1.    0.    1.   -1.    0.    1.   -1.]\n",
      " [   0.    1.   -1.    0.    1.   -1.    0.    1.]\n",
      " [   1.    1.    1.    1.    1.    1.    1.    1.]\n",
      " [   1.   -2.    4.   -8.   16.  -32.   64. -128.]]\n"
     ]
    }
   ],
   "source": [
    "polynomials = np.asarray([x, (x**2+1),(x+1),(x**2+x+1),(x-1),(x+2)])\n",
    "[C,A,B] = binomialWinoMats(polynomials,RR,x)\n",
    "\n",
    "print(C)\n",
    "print(A)"
   ]
  },
  {
   "cell_type": "code",
   "execution_count": 27,
   "metadata": {},
   "outputs": [
    {
     "name": "stdout",
     "output_type": "stream",
     "text": [
      "[[ 3.75000000e-01  8.33333333e-02  8.33333333e-02 -2.08333333e-02 -2.08333333e-02 -2.16840434e-19  2.50000000e+00  1.25000000e-01  1.25000000e-01  2.50000000e-01  0.00000000e+00 -2.50000000e-01]\n",
      " [ 1.25000000e-01 -4.58333333e-01  2.70833333e-01  1.04166667e-01 -2.91666667e-02 -1.25000000e-02  4.50000000e+00 -1.25000000e-01  1.25000000e-01  2.50000000e-01 -2.50000000e-01  2.50000000e-01]\n",
      " [-6.25000000e-01  3.33333333e-01  3.33333333e-01 -2.08333333e-02 -2.08333333e-02  5.85469173e-18  1.50000000e+00  1.25000000e-01  1.25000000e-01 -2.50000000e-01  0.00000000e+00  2.50000000e-01]\n",
      " [-2.08333333e-01  2.91666667e-01  2.08333333e-02 -1.45833333e-01  2.08333333e-02  2.08333333e-02 -7.50000000e+00 -1.25000000e-01  1.25000000e-01 -2.50000000e-01  2.50000000e-01 -2.50000000e-01]\n",
      " [-3.75000000e-01 -8.33333333e-02 -8.33333333e-02  2.08333333e-02  2.08333333e-02  6.50521303e-19 -2.50000000e+00  1.25000000e-01  1.25000000e-01  2.50000000e-01  0.00000000e+00 -2.50000000e-01]\n",
      " [-1.25000000e-01  4.58333333e-01 -2.70833333e-01 -1.04166667e-01  2.91666667e-02  1.25000000e-02 -4.50000000e+00 -1.25000000e-01  1.25000000e-01  2.50000000e-01 -2.50000000e-01  2.50000000e-01]\n",
      " [ 6.25000000e-01 -3.33333333e-01 -3.33333333e-01  2.08333333e-02  2.08333333e-02 -5.42101086e-18 -1.50000000e+00  1.25000000e-01  1.25000000e-01 -2.50000000e-01  0.00000000e+00  2.50000000e-01]\n",
      " [ 2.08333333e-01 -2.91666667e-01 -2.08333333e-02  1.45833333e-01 -2.08333333e-02 -2.08333333e-02  7.50000000e+00 -1.25000000e-01  1.25000000e-01 -2.50000000e-01  2.50000000e-01 -2.50000000e-01]]\n",
      "[[  1.   0.   0.   0.  -1.   0.   0.   0.]\n",
      " [  1.  -1.   1.  -1.  -1.   1.  -1.   1.]\n",
      " [  1.   1.   1.   1.  -1.  -1.  -1.  -1.]\n",
      " [  1.  -2.   4.  -8.  -1.   2.  -4.   8.]\n",
      " [  1.   2.   4.   8.  -1.  -2.  -4.  -8.]\n",
      " [  1.  -3.   9. -27.  -1.   3.  -9.  27.]\n",
      " [  0.   0.   0.   1.   0.   0.   0.  -1.]\n",
      " [  1.  -1.   1.  -1.   1.  -1.   1.  -1.]\n",
      " [  1.   1.   1.   1.   1.   1.   1.   1.]\n",
      " [  1.   0.  -1.   0.   1.   0.  -1.   0.]\n",
      " [  1.  -1.  -1.   1.   1.  -1.  -1.   1.]\n",
      " [  0.   1.   0.  -1.   0.   1.   0.  -1.]]\n"
     ]
    }
   ],
   "source": [
    "polynomials = np.asarray([x**4+1,x+1,x-1,x**2+1])\n",
    "[C,A,B] = binomialWinoMats(polynomials,RR,x)\n",
    "\n",
    "print(C)\n",
    "print(A)"
   ]
  },
  {
   "cell_type": "code",
   "execution_count": 28,
   "metadata": {},
   "outputs": [
    {
     "name": "stdout",
     "output_type": "stream",
     "text": [
      "[8. 8. 8. 8. 8. 8. 8. 8.]\n"
     ]
    }
   ],
   "source": [
    "y = C @ (np.dot(A,np.ones(8)) * np.dot(A,np.ones(8)))\n",
    "print(y)"
   ]
  },
  {
   "cell_type": "markdown",
   "metadata": {},
   "source": [
    "### Converting Modular to Linear\n",
    "\n",
    "Given a linear convolution in a modular space $M(x)$, how can we recover the answer, i.e. no algrbaric ring?\n",
    "\n",
    "First, the modular space degree must match the degree of the product"
   ]
  },
  {
   "cell_type": "code",
   "execution_count": 29,
   "metadata": {},
   "outputs": [
    {
     "name": "stdout",
     "output_type": "stream",
     "text": [
      "[[ 1.00000000e+00  0.00000000e+00  0.00000000e+00  0.00000000e+00  0.00000000e+00  0.00000000e+00  0.00000000e+00  0.00000000e+00  0.00000000e+00  0.00000000e+00]\n",
      " [ 5.00000000e-01  1.00000000e+00  1.66666667e-01 -1.66666667e-01  1.00000000e+00  0.00000000e+00 -2.00000000e+00  1.66666667e-01  3.33333333e-01 -3.00000000e+00]\n",
      " [ 5.00000000e-01  2.50000000e+00 -5.55111512e-17 -5.00000000e-01  5.00000000e+00 -1.50000000e+00 -2.00000000e+00  5.00000000e-01  5.00000000e-01 -6.00000000e+00]\n",
      " [ 1.00000000e+00  3.00000000e+00 -3.33333333e-01 -6.66666667e-01  8.00000000e+00 -1.50000000e+00 -2.50000000e+00  5.00000000e-01  5.00000000e-01 -6.00000000e+00]\n",
      " [ 1.50000000e+00  2.00000000e+00 -5.00000000e-01 -5.00000000e-01  7.00000000e+00 -1.50000000e+00 -2.00000000e+00  5.00000000e-01  5.00000000e-01 -6.00000000e+00]\n",
      " [ 1.50000000e+00  5.00000000e-01 -3.33333333e-01 -1.66666667e-01  3.00000000e+00 -1.50000000e+00 -5.00000000e-01  3.33333333e-01  1.66666667e-01 -3.00000000e+00]]\n",
      "[[ 1.  0.  0.  0.  0.  0.]\n",
      " [ 1. -1.  1.  1. -1. -1.]\n",
      " [ 1.  1.  1. -1. -1.  1.]\n",
      " [ 1. -2.  4.  2. -4. -2.]\n",
      " [ 0.  0.  1.  0. -1.  0.]\n",
      " [ 1.  0.  0. -1.  2. -2.]\n",
      " [ 1. -1.  1. -1.  1. -1.]\n",
      " [ 1.  1.  1. -5.  7. -5.]\n",
      " [ 1. -2.  4. -5.  4. -2.]\n",
      " [ 0.  0.  1. -2.  2. -1.]]\n",
      "[0.10450728 0.33000773 0.38826297 0.64481497 0.30758829 0.21287287]\n",
      "[0.10450728 0.53469677 0.79764104 1.25888208 0.92165541 0.62225095 0.20468904]\n",
      "[0.10450728 0.53469677 0.79764104 1.25888208 0.92165541 0.62225095 0.20468904]\n"
     ]
    }
   ],
   "source": [
    "polys = np.asarray([x*(x**2+1),(x+1)*(x**2+x+1)])\n",
    "f = np.random.random(4)\n",
    "g = np.random.random(4)\n",
    "y = np.convolve(f,g)\n",
    "\n",
    "[C,A,B] = winoMats(polys,RR,x)\n",
    "print(C)\n",
    "print(A)\n",
    "# [C,A,B] = binomialWinoMats(polynomials,RR,x)\n",
    "M = getProdPoly(polys)\n",
    "Mcoeffs = sym_allcoeffs(M)\n",
    "f2 = np.append(f,np.zeros(2))\n",
    "g2 = np.append(g,np.zeros(2))\n",
    "_y = C @ (np.dot(A,f2) * np.dot(B,g2))\n",
    "print(_y)\n",
    "y2 = np.zeros(len(_y) + 1)\n",
    "y2[:-1] += _y\n",
    "y2[-len(Mcoeffs):] += f[-1]*g[-1] * Mcoeffs\n",
    "\n",
    "print(y)\n",
    "print(y2)"
   ]
  },
  {
   "cell_type": "code",
   "execution_count": 84,
   "metadata": {},
   "outputs": [],
   "source": [
    "def recoverLinConv(polys,_y,fLast,gLast):\n",
    "    M = getProdPoly(polys)\n",
    "    Mcoeffs = sym_allcoeffs(M)\n",
    "    y = np.zeros(len(_y) + 1)\n",
    "    y[:-1] += _y\n",
    "    y[-len(Mcoeffs):] += fLast * gLast * Mcoeffs\n",
    "    return y\n",
    "\n",
    "def moduloToLinear(polys,n,r,C,A,B):\n",
    "    p = getProdPoly(polys)\n",
    "    pc = sym_allcoeffs(p)\n",
    "    C2 = np.zeros((len(pc),C.shape[1]+1))\n",
    "    C2[:C.shape[0],:C.shape[1]] = C.copy()\n",
    "    C2[:,C.shape[1]] = pc.copy()\n",
    "    A2 = np.vstack([A,np.zeros(A.shape[1])])\n",
    "    A2 = A2[:,:r]\n",
    "    B2 = np.vstack([B,np.zeros(B.shape[1])])\n",
    "    B2 = B2[:,:n]\n",
    "    A2[-1,-1] = 1\n",
    "    B2[-1,-1] = 1\n",
    "    return [C2,A2,B2]"
   ]
  },
  {
   "cell_type": "code",
   "execution_count": 85,
   "metadata": {},
   "outputs": [
    {
     "name": "stdout",
     "output_type": "stream",
     "text": [
      "[0.09382974 0.19732385 0.6673629  0.68809783 0.26452165]\n",
      "[0.09382974 0.19732385 0.6673629  0.68809783 0.26452165]\n"
     ]
    }
   ],
   "source": [
    "n = r = 3\n",
    "polys = np.asarray([x-1,x+1,x**2+1])\n",
    "f = np.random.random(r)\n",
    "g = np.random.random(n)\n",
    "y = np.convolve(f,g)\n",
    "\n",
    "[C,A,B] = winoMats(polys,RR,x)\n",
    "f2 = np.append(f,np.zeros(1))\n",
    "g2 = np.append(g,np.zeros(1))\n",
    "_y = C @ (np.dot(A,f2) * np.dot(B,g2))\n",
    "y2 = recoverLinConv(polys,_y,f[-1],g[-1])\n",
    "\n",
    "print(y)\n",
    "print(y2)"
   ]
  },
  {
   "cell_type": "code",
   "execution_count": 87,
   "metadata": {},
   "outputs": [
    {
     "name": "stdout",
     "output_type": "stream",
     "text": [
      "[0.09382974 0.19732385 0.6673629  0.68809783 0.26452165]\n"
     ]
    }
   ],
   "source": [
    "[C,A,B] = winoMats(polys,RR,x)\n",
    "[C,A,B] = moduloToLinear(polys,n,r,C,A,B)\n",
    "y3 = C @ (np.dot(A,f)*np.dot(B,g))\n",
    "print(y3)"
   ]
  },
  {
   "cell_type": "code",
   "execution_count": 47,
   "metadata": {},
   "outputs": [],
   "source": [
    "# give polynomials in cohorts\n",
    "# polys: [[single polynomial],...[product, [...]], ]\n",
    "def winoMats2(polys,RR,x):\n",
    "    real_polys = np.asarray([])\n",
    "    for poly_summary in polys:\n",
    "        real_polys = np.append(real_polys,poly_summary[0])\n",
    "    M = getProdPoly(real_polys)\n",
    "    deg_M = sym_deg(M)\n",
    "    \n",
    "    AA = None\n",
    "    CC = None\n",
    "    EE = None\n",
    "    first = True\n",
    "    \n",
    "    for mi_summary in polys:\n",
    "        mi = mi_summary[0]\n",
    "        deg_m = sym_deg(mi)\n",
    "        \n",
    "        # evaluate in modulo\n",
    "        L = buildModuloMat(mi,deg_M-1)\n",
    "        if(mi_summary.shape[0] > 1):\n",
    "            C,A,B = winoMats2(mi_summary[1],RR,x)\n",
    "        else:\n",
    "            C,A,B = toomCookMats(deg_m,deg_m)\n",
    "        A = np.dot(A,L)\n",
    "        AA = (A if first else np.vstack([AA,A]))\n",
    "\n",
    "        # evaluates interpolation modulo\n",
    "        L = buildModuloMat(mi,C.shape[0]-1)\n",
    "        C = np.dot(L,C)\n",
    "        CC = (C if first else scila.block_diag(CC,C))\n",
    "\n",
    "        # recovery by the CRT\n",
    "        Mi = M/mi\n",
    "        N,n = getBerzetPolys(Mi,mi,RR,deg_M)\n",
    "        E = buildIdeMat(N*Mi,M,mi)\n",
    "        EE = (E if first else np.hstack([EE,E]))\n",
    "        first = False\n",
    "            \n",
    "    EC = np.dot(EE,CC)\n",
    "    return [EC,AA,AA]"
   ]
  },
  {
   "cell_type": "code",
   "execution_count": 94,
   "metadata": {},
   "outputs": [
    {
     "name": "stdout",
     "output_type": "stream",
     "text": [
      "[[ 1.25000000e-01  1.25000000e-01  2.50000000e-01  0.00000000e+00 -2.50000000e-01  3.75000000e-01  8.33333333e-02  8.33333333e-02 -2.08333333e-02 -2.08333333e-02  0.00000000e+00  2.50000000e+00]\n",
      " [ 1.25000000e-01 -1.25000000e-01  2.50000000e-01 -2.50000000e-01  2.50000000e-01  1.25000000e-01 -4.58333333e-01  2.70833333e-01  1.04166667e-01 -2.91666667e-02 -1.25000000e-02  4.50000000e+00]\n",
      " [ 1.25000000e-01  1.25000000e-01 -2.50000000e-01  0.00000000e+00  2.50000000e-01 -6.25000000e-01  3.33333333e-01  3.33333333e-01 -2.08333333e-02 -2.08333333e-02  5.55111512e-18  1.50000000e+00]\n",
      " [ 1.25000000e-01 -1.25000000e-01 -2.50000000e-01  2.50000000e-01 -2.50000000e-01 -2.08333333e-01  2.91666667e-01  2.08333333e-02 -1.45833333e-01  2.08333333e-02  2.08333333e-02 -7.50000000e+00]\n",
      " [ 1.25000000e-01  1.25000000e-01  2.50000000e-01  0.00000000e+00 -2.50000000e-01 -3.75000000e-01 -8.33333333e-02 -8.33333333e-02  2.08333333e-02  2.08333333e-02  0.00000000e+00 -2.50000000e+00]\n",
      " [ 1.25000000e-01 -1.25000000e-01  2.50000000e-01 -2.50000000e-01  2.50000000e-01 -1.25000000e-01  4.58333333e-01 -2.70833333e-01 -1.04166667e-01  2.91666667e-02  1.25000000e-02 -4.50000000e+00]\n",
      " [ 1.25000000e-01  1.25000000e-01 -2.50000000e-01  0.00000000e+00  2.50000000e-01  6.25000000e-01 -3.33333333e-01 -3.33333333e-01  2.08333333e-02  2.08333333e-02 -5.55111512e-18 -1.50000000e+00]\n",
      " [ 1.25000000e-01 -1.25000000e-01 -2.50000000e-01  2.50000000e-01 -2.50000000e-01  2.08333333e-01 -2.91666667e-01 -2.08333333e-02  1.45833333e-01 -2.08333333e-02 -2.08333333e-02  7.50000000e+00]]\n",
      "[[  1.   1.   1.   1.   1.   1.   1.   1.]\n",
      " [  1.  -1.   1.  -1.   1.  -1.   1.  -1.]\n",
      " [  1.   0.  -1.   0.   1.   0.  -1.   0.]\n",
      " [  1.  -1.  -1.   1.   1.  -1.  -1.   1.]\n",
      " [  0.   1.   0.  -1.   0.   1.   0.  -1.]\n",
      " [  1.   0.   0.   0.  -1.   0.   0.   0.]\n",
      " [  1.  -1.   1.  -1.  -1.   1.  -1.   1.]\n",
      " [  1.   1.   1.   1.  -1.  -1.  -1.  -1.]\n",
      " [  1.  -2.   4.  -8.  -1.   2.  -4.   8.]\n",
      " [  1.   2.   4.   8.  -1.  -2.  -4.  -8.]\n",
      " [  1.  -3.   9. -27.  -1.   3.  -9.  27.]\n",
      " [  0.   0.   0.   1.   0.   0.   0.  -1.]]\n",
      "[[  1.   1.   1.   1.   1.   1.   1.   1.]\n",
      " [  1.  -1.   1.  -1.   1.  -1.   1.  -1.]\n",
      " [  1.   0.  -1.   0.   1.   0.  -1.   0.]\n",
      " [  1.  -1.  -1.   1.   1.  -1.  -1.   1.]\n",
      " [  0.   1.   0.  -1.   0.   1.   0.  -1.]\n",
      " [  1.   0.   0.   0.  -1.   0.   0.   0.]\n",
      " [  1.  -1.   1.  -1.  -1.   1.  -1.   1.]\n",
      " [  1.   1.   1.   1.  -1.  -1.  -1.  -1.]\n",
      " [  1.  -2.   4.  -8.  -1.   2.  -4.   8.]\n",
      " [  1.   2.   4.   8.  -1.  -2.  -4.  -8.]\n",
      " [  1.  -3.   9. -27.  -1.   3.  -9.  27.]\n",
      " [  0.   0.   0.   1.   0.   0.   0.  -1.]]\n",
      "[8. 8. 8. 8. 8. 8. 8. 8.]\n"
     ]
    }
   ],
   "source": [
    "polys = np.asarray([\n",
    "    np.asarray([x**4-1, np.asarray([\n",
    "        np.asarray([x**2-1, np.asarray(\n",
    "            [\n",
    "                np.asarray([x-1]),\n",
    "                np.asarray([x+1])\n",
    "            ])\n",
    "        ]),np.asarray([x**2+1])\n",
    "    ]), ]),\n",
    "    np.asarray([x**4+1])\n",
    "])\n",
    "\n",
    "f = np.ones(8)\n",
    "g = np.ones(8)\n",
    "y = np.convolve(f,g)\n",
    "\n",
    "[C,A,B] = winoMats2(polys,RR,x)\n",
    "# f2 = np.append(f,np.zeros(2))\n",
    "# g2 = np.append(g,np.zeros(2))\n",
    "_y = C @ (np.dot(A,f) * np.dot(B,g))\n",
    "# y2 = recoverLinConv(polys,_y,f[-1],g[-1])\n",
    "\n",
    "print(C)\n",
    "print(A)\n",
    "print(B)\n",
    "\n",
    "print(_y)\n",
    "# print(y2)"
   ]
  },
  {
   "cell_type": "code",
   "execution_count": 95,
   "metadata": {},
   "outputs": [
    {
     "name": "stdout",
     "output_type": "stream",
     "text": [
      "[[ 1.25000000e-01  1.25000000e-01  2.50000000e-01  0.00000000e+00 -2.50000000e-01  3.75000000e-01  8.33333333e-02  8.33333333e-02 -2.08333333e-02 -2.08333333e-02  0.00000000e+00  2.50000000e+00]\n",
      " [-1.25000000e-01  1.25000000e-01  2.50000000e-01 -2.50000000e-01  2.50000000e-01  1.25000000e-01 -4.58333333e-01  2.70833333e-01  1.04166667e-01 -2.91666667e-02 -1.25000000e-02  4.50000000e+00]\n",
      " [ 1.25000000e-01  1.25000000e-01 -2.50000000e-01  0.00000000e+00  2.50000000e-01 -6.25000000e-01  3.33333333e-01  3.33333333e-01 -2.08333333e-02 -2.08333333e-02  5.55111512e-18  1.50000000e+00]\n",
      " [-1.25000000e-01  1.25000000e-01 -2.50000000e-01  2.50000000e-01 -2.50000000e-01 -2.08333333e-01  2.91666667e-01  2.08333333e-02 -1.45833333e-01  2.08333333e-02  2.08333333e-02 -7.50000000e+00]\n",
      " [ 1.25000000e-01  1.25000000e-01  2.50000000e-01  0.00000000e+00 -2.50000000e-01 -3.75000000e-01 -8.33333333e-02 -8.33333333e-02  2.08333333e-02  2.08333333e-02  0.00000000e+00 -2.50000000e+00]\n",
      " [-1.25000000e-01  1.25000000e-01  2.50000000e-01 -2.50000000e-01  2.50000000e-01 -1.25000000e-01  4.58333333e-01 -2.70833333e-01 -1.04166667e-01  2.91666667e-02  1.25000000e-02 -4.50000000e+00]\n",
      " [ 1.25000000e-01  1.25000000e-01 -2.50000000e-01  0.00000000e+00  2.50000000e-01  6.25000000e-01 -3.33333333e-01 -3.33333333e-01  2.08333333e-02  2.08333333e-02 -5.55111512e-18 -1.50000000e+00]\n",
      " [-1.25000000e-01  1.25000000e-01 -2.50000000e-01  2.50000000e-01 -2.50000000e-01  2.08333333e-01 -2.91666667e-01 -2.08333333e-02  1.45833333e-01 -2.08333333e-02 -2.08333333e-02  7.50000000e+00]]\n",
      "[[  1.  -1.   1.  -1.   1.  -1.   1.  -1.]\n",
      " [  1.   1.   1.   1.   1.   1.   1.   1.]\n",
      " [  1.   0.  -1.   0.   1.   0.  -1.   0.]\n",
      " [  1.  -1.  -1.   1.   1.  -1.  -1.   1.]\n",
      " [  0.   1.   0.  -1.   0.   1.   0.  -1.]\n",
      " [  1.   0.   0.   0.  -1.   0.   0.   0.]\n",
      " [  1.  -1.   1.  -1.  -1.   1.  -1.   1.]\n",
      " [  1.   1.   1.   1.  -1.  -1.  -1.  -1.]\n",
      " [  1.  -2.   4.  -8.  -1.   2.  -4.   8.]\n",
      " [  1.   2.   4.   8.  -1.  -2.  -4.  -8.]\n",
      " [  1.  -3.   9. -27.  -1.   3.  -9.  27.]\n",
      " [  0.   0.   0.   1.   0.   0.   0.  -1.]]\n",
      "[[  1.  -1.   1.  -1.   1.  -1.   1.  -1.]\n",
      " [  1.   1.   1.   1.   1.   1.   1.   1.]\n",
      " [  1.   0.  -1.   0.   1.   0.  -1.   0.]\n",
      " [  1.  -1.  -1.   1.   1.  -1.  -1.   1.]\n",
      " [  0.   1.   0.  -1.   0.   1.   0.  -1.]\n",
      " [  1.   0.   0.   0.  -1.   0.   0.   0.]\n",
      " [  1.  -1.   1.  -1.  -1.   1.  -1.   1.]\n",
      " [  1.   1.   1.   1.  -1.  -1.  -1.  -1.]\n",
      " [  1.  -2.   4.  -8.  -1.   2.  -4.   8.]\n",
      " [  1.   2.   4.   8.  -1.  -2.  -4.  -8.]\n",
      " [  1.  -3.   9. -27.  -1.   3.  -9.  27.]\n",
      " [  0.   0.   0.   1.   0.   0.   0.  -1.]]\n",
      "[8. 8. 8. 8. 8. 8. 8. 8.]\n"
     ]
    }
   ],
   "source": [
    "polys = np.asarray([x+1,x-1,x**2+1,x**4+1])\n",
    "\n",
    "f = np.ones(8)\n",
    "g = np.ones(8)\n",
    "y = np.convolve(f,g)\n",
    "\n",
    "[C2,A2,B2] = winoMats(polys,RR,x)\n",
    "# f2 = np.append(f,np.zeros(2))\n",
    "# g2 = np.append(g,np.zeros(2))\n",
    "_y2 = C2 @ (np.dot(A2,f) * np.dot(B2,g))\n",
    "# y2 = recoverLinConv(polys,_y,f[-1],g[-1])\n",
    "\n",
    "print(C2)\n",
    "print(A2)\n",
    "print(B2)\n",
    "\n",
    "print(_y2)\n",
    "# print(y2)"
   ]
  },
  {
   "cell_type": "code",
   "execution_count": null,
   "metadata": {},
   "outputs": [],
   "source": []
  }
 ],
 "metadata": {
  "kernelspec": {
   "display_name": "Python 3",
   "language": "python",
   "name": "python3"
  },
  "language_info": {
   "codemirror_mode": {
    "name": "ipython",
    "version": 3
   },
   "file_extension": ".py",
   "mimetype": "text/x-python",
   "name": "python",
   "nbconvert_exporter": "python",
   "pygments_lexer": "ipython3",
   "version": "3.7.3"
  }
 },
 "nbformat": 4,
 "nbformat_minor": 2
}
