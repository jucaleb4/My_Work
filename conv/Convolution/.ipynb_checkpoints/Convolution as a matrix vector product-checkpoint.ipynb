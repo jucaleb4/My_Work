{
 "cells": [
  {
   "cell_type": "markdown",
   "metadata": {},
   "source": [
    "Convolution of two vectors $\\boldsymbol{A}$ of length $m$ and $\\boldsymbol{B}$ of length $n$ can be defined as\n",
    "\n",
    "$c_i = \\displaystyle \\sum_{p=0}^{\\min\\{m-1, i\\}} a_p b_{i-p}$\n",
    "\n",
    "(We could define it as $c_i = \\displaystyle \\sum_{p=0}^i a_p b_{i-p}$ instead, where $a_i = 0$ for $i \\geq m$ and $b_i = 0$ for $i \\geq n$)\n",
    "\n",
    "Notice that we could rewrite convolution as a multiplication between a Toeplitz matrix and vector. Assuming that $m < n$ (we can always choose to label the vectors $\\boldsymbol{A}$ and $\\boldsymbol{B}$ such that this holds), we have:\n",
    "\n",
    "$\\left[\\begin{matrix} c_0 \\\\ c_1 \\\\ \\vdots \\\\ c_{m-2} \\\\ c_{m-1} \\\\ c_m \\\\ \\vdots \\\\ c_{m+n-3} \\\\ c_{m+n-2} \\end{matrix}\\right]\n",
    " = \\left[\\begin{matrix} a_0 & 0 & \\ldots & 0 & 0 & \\ldots & 0 & 0 \\\\\n",
    "                        a_1 & a_0 & \\ldots & 0 & 0 & \\ldots & 0 & 0 \\\\\n",
    "                        \\vdots & \\vdots & \\ddots & \\vdots & \\vdots & \\ddots & \\vdots & \\vdots \\\\\n",
    "                        a_{m-2} & a_{m-3} & \\ldots & a_0 & 0 & \\ldots & 0 & 0 \\\\ \n",
    "                        a_{m-1} & a_{m-2} & \\ldots & a_1 & a_0 & \\ldots & 0 & 0 \\\\\n",
    "                        0 & a_{m-1} & \\ldots & a_2 & a_1 & \\ldots & 0 & 0 \\\\\n",
    "                        \\vdots & \\vdots & \\ddots & \\vdots & \\vdots & \\ddots & \\vdots & \\vdots \\\\\n",
    "                        0 & 0 & \\ldots & 0 & 0 & \\ldots & a_{m-1} & a_{m-2} \\\\\n",
    "                        0 & 0 & \\ldots & 0 & 0 & \\ldots & 0 & a_{m-1} \\\\\n",
    "         \\end{matrix}\\right]\n",
    "   \\left[\\begin{matrix} b_0 \\\\ b_1 \\\\ \\vdots \\\\ b_{n-2} \\\\ b_{n-1} \\end{matrix}\\right]\n",
    "$"
   ]
  },
  {
   "cell_type": "code",
   "execution_count": 106,
   "metadata": {
    "collapsed": true
   },
   "outputs": [],
   "source": [
    "import numpy as np"
   ]
  },
  {
   "cell_type": "markdown",
   "metadata": {},
   "source": [
    "This code generates a random vector of size $n$"
   ]
  },
  {
   "cell_type": "code",
   "execution_count": 107,
   "metadata": {
    "collapsed": true
   },
   "outputs": [],
   "source": [
    "def get_rand_vect(n):\n",
    "    return np.random.random(n)"
   ]
  },
  {
   "cell_type": "markdown",
   "metadata": {},
   "source": [
    "We then get two random vectors for convolution"
   ]
  },
  {
   "cell_type": "code",
   "execution_count": 108,
   "metadata": {
    "collapsed": false
   },
   "outputs": [
    {
     "name": "stdout",
     "output_type": "stream",
     "text": [
      "[ 0.46771759  0.5231689   0.84025205  0.16738643  0.28486202]\n",
      "[ 0.55166982  0.36386822  0.36094059  0.09332752  0.55774543  0.47635113\n",
      "  0.59040953  0.30974402  0.26218544  0.55446991  0.01745885  0.67101254\n",
      "  0.52455172  0.3581955   0.96605807  0.7527999   0.7065753   0.11481145\n",
      "  0.28793226  0.44171582]\n"
     ]
    },
    {
     "data": {
      "text/plain": [
       "array([ 0.25802568,  0.45880406,  0.82272449,  0.63056687,  0.83103086,\n",
       "        0.7570803 ,  1.11244379,  0.97395613,  1.0193852 ,  0.89128653,\n",
       "        0.73858128,  0.92099336,  0.77856221,  1.16665294,  1.19728652,\n",
       "        1.43743263,  1.7454334 ,  1.31964052,  1.18963985,  0.78642124,\n",
       "        0.69352201,  0.452054  ,  0.1559582 ,  0.12582806])"
      ]
     },
     "execution_count": 108,
     "metadata": {},
     "output_type": "execute_result"
    }
   ],
   "source": [
    "m = 5\n",
    "n = 20\n",
    "A = get_rand_vect(m)\n",
    "B = get_rand_vect(n)\n",
    "C = np.convolve(A, B)\n",
    "print(A)\n",
    "print(B)\n",
    "C"
   ]
  },
  {
   "cell_type": "markdown",
   "metadata": {},
   "source": [
    "Then, we cast vector $A$ into a matrix as below"
   ]
  },
  {
   "cell_type": "code",
   "execution_count": 109,
   "metadata": {
    "collapsed": true
   },
   "outputs": [],
   "source": [
    "def make_convo_matrix(A, m, n):\n",
    "    A_mat = np.zeros((m+n-1,n))\n",
    "    A_rev = np.flip(A, 0)\n",
    "    for i in range(m):\n",
    "        A_mat[i,0:i+1] = A_rev[m-1-i:m]\n",
    "    for i in range(n-m):\n",
    "        A_mat[m+i,i+1:i+1+m] = A_rev\n",
    "    for i in range(1,m):\n",
    "        A_mat[i-m,i-m:] = A_rev[0:m-i]\n",
    "    return A_mat"
   ]
  },
  {
   "cell_type": "markdown",
   "metadata": {},
   "source": [
    "Once we have the matrix formed, the convolution product is simply obtained from a matrix vector product"
   ]
  },
  {
   "cell_type": "code",
   "execution_count": 110,
   "metadata": {
    "collapsed": false
   },
   "outputs": [
    {
     "name": "stdout",
     "output_type": "stream",
     "text": [
      "[ 0.25802568  0.45880406  0.82272449  0.63056687  0.83103086  0.7570803\n",
      "  1.11244379  0.97395613  1.0193852   0.89128653  0.73858128  0.92099336\n",
      "  0.77856221  1.16665294  1.19728652  1.43743263  1.7454334   1.31964052\n",
      "  1.18963985  0.78642124  0.69352201  0.452054    0.1559582   0.12582806]\n"
     ]
    },
    {
     "data": {
      "text/plain": [
       "6.2803698347351007e-16"
      ]
     },
     "execution_count": 110,
     "metadata": {},
     "output_type": "execute_result"
    }
   ],
   "source": [
    "A_mat = make_convo_matrix(A, m, n)\n",
    "C2 = A_mat.dot(B)\n",
    "print(C2)\n",
    "np.linalg.norm(C2 - C)"
   ]
  },
  {
   "cell_type": "markdown",
   "metadata": {},
   "source": [
    "Notice that we can also convert this into a Hankel matrix vector product. This allows us to utilize the fast symmetric matrix vector multiplication algorithm:\n",
    "\n",
    "$\\left[\\begin{matrix} c_0 \\\\ c_1 \\\\ \\vdots \\\\ c_{m-2} \\\\ c_{m-1} \\\\ c_m \\\\ \\vdots \\\\ c_{m+n-3} \\\\ c_{m+n-2} \\end{matrix}\\right]\n",
    " = \\left[\\begin{matrix} 0 & 0 & \\ldots & 0 & 0 & \\ldots & 0 & a_0 \\\\\n",
    "                        0 & 0 & \\ldots & 0 & 0 & \\ldots & a_0 & a_1 \\\\\n",
    "                        \\vdots & \\vdots & \\ddots & \\vdots & \\vdots & \\ddots & \\vdots & \\vdots \\\\\n",
    "                        0 & 0 & \\ldots & 0 & a_0 & \\ldots & a_{m-3} & a_{m-2} \\\\ \n",
    "                        0 & 0 & \\ldots & a_0 & a_1 & \\ldots & a_{m-2} & a_{m-1} \\\\\n",
    "                        0 & 0 & \\ldots & a_1 & a_2 & \\ldots & a_{m-1} & 0 \\\\\n",
    "                        \\vdots & \\vdots & \\ddots & \\vdots & \\vdots & \\ddots & \\vdots & \\vdots \\\\\n",
    "                        a_{m-2} & a_{m-1} & \\ldots & 0 & 0 & \\ldots & 0 & 0 \\\\\n",
    "                        a_{m-1} & 0 & \\ldots & 0 & 0 & \\ldots & 0 & 0 \\\\\n",
    "         \\end{matrix}\\right]\n",
    "   \\left[\\begin{matrix} b_{n-1} \\\\ b_{n-2} \\\\ \\vdots \\\\ b_1 \\\\ b_0 \\end{matrix}\\right]\n",
    "$\n",
    "\n",
    "Thus, we cast A into a Hankel matrix:"
   ]
  },
  {
   "cell_type": "code",
   "execution_count": 111,
   "metadata": {
    "collapsed": true
   },
   "outputs": [],
   "source": [
    "def make_symm_convo_matrix(A, m, n):\n",
    "    A_mat = np.zeros((m+n-1,n))\n",
    "    for i in range(m):\n",
    "        A_mat[i,-1-i:] = A[0:i+1]\n",
    "    for i in range(n-m-1):\n",
    "        A_mat[m+i,-m-1-i:-1-i] = A\n",
    "    for i in range(m):\n",
    "        A_mat[i-m,:m-i] = A[i:m]\n",
    "    return A_mat"
   ]
  },
  {
   "cell_type": "markdown",
   "metadata": {},
   "source": [
    "We then compute the product"
   ]
  },
  {
   "cell_type": "code",
   "execution_count": 112,
   "metadata": {
    "collapsed": false
   },
   "outputs": [
    {
     "name": "stdout",
     "output_type": "stream",
     "text": [
      "[ 0.25802568  0.45880406  0.82272449  0.63056687  0.83103086  0.7570803\n",
      "  1.11244379  0.97395613  1.0193852   0.89128653  0.73858128  0.92099336\n",
      "  0.77856221  1.16665294  1.19728652  1.43743263  1.7454334   1.31964052\n",
      "  1.18963985  0.78642124  0.69352201  0.452054    0.1559582   0.12582806]\n"
     ]
    },
    {
     "data": {
      "text/plain": [
       "6.2803698347351007e-16"
      ]
     },
     "execution_count": 112,
     "metadata": {},
     "output_type": "execute_result"
    }
   ],
   "source": [
    "A_symm = make_symm_convo_matrix(A, m, n)\n",
    "C_3 = A_symm.dot(np.flip(B, 0))\n",
    "print(C_3)\n",
    "np.linalg.norm(C_3 - C)"
   ]
  },
  {
   "cell_type": "markdown",
   "metadata": {},
   "source": [
    "Now, we can apply the symmetric matrix vector product algorithm to compute convolution"
   ]
  },
  {
   "cell_type": "code",
   "execution_count": 113,
   "metadata": {
    "collapsed": true
   },
   "outputs": [],
   "source": [
    "#pending: implement a symmetric matrix vector product algorithm for nonsquare matrices"
   ]
  },
  {
   "cell_type": "markdown",
   "metadata": {},
   "source": [
    "Testing combining the fast algorithm with recursion"
   ]
  },
  {
   "cell_type": "code",
   "execution_count": 114,
   "metadata": {
    "collapsed": true
   },
   "outputs": [],
   "source": [
    "#pending: implement the computation using both the algorithm and recursion"
   ]
  }
 ],
 "metadata": {
  "kernelspec": {
   "display_name": "Python 3",
   "language": "python",
   "name": "python3"
  },
  "language_info": {
   "codemirror_mode": {
    "name": "ipython",
    "version": 3
   },
   "file_extension": ".py",
   "mimetype": "text/x-python",
   "name": "python",
   "nbconvert_exporter": "python",
   "pygments_lexer": "ipython3",
   "version": "3.6.0"
  }
 },
 "nbformat": 4,
 "nbformat_minor": 2
}
