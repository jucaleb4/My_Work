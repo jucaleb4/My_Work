{
 "cells": [
  {
   "cell_type": "code",
   "execution_count": 1,
   "metadata": {},
   "outputs": [],
   "source": [
    "import numpy as np\n",
    "import numpy.linalg as la\n",
    "from func import *"
   ]
  },
  {
   "cell_type": "markdown",
   "metadata": {},
   "source": [
    "### Testing [Vincent's](https://openreview.net/pdf?id=H1ZaRZVKg) paper\n",
    "\n",
    "We first see if we can achieve or get close to Vincent's results for $9 \\times 9$ filters"
   ]
  },
  {
   "cell_type": "code",
   "execution_count": 4,
   "metadata": {},
   "outputs": [
    {
     "name": "stdout",
     "output_type": "stream",
     "text": [
      "13 13\n"
     ]
    }
   ],
   "source": [
    "p1 = np.asarray([0,1,-1,1/2,-1/2,1/3,-1/3,3/2,-3/12,-3,2,-2,1])\n",
    "p2 = np.asarray([1,1,1,1,1,1,1,1,1,1,1,1,0])\n",
    "\n",
    "print(len(p1),len(p2))"
   ]
  },
  {
   "cell_type": "code",
   "execution_count": 59,
   "metadata": {},
   "outputs": [
    {
     "name": "stdout",
     "output_type": "stream",
     "text": [
      "[7.87057002e+04 8.72283106e+08 6.11469865e+01]\n"
     ]
    }
   ],
   "source": [
    "V1 = np.vander(p1,increasing=True)\n",
    "V2 = np.vander(p2,increasing=False)\n",
    "Vx = V1 * V2\n",
    "\n",
    "V1 = np.vander(p1,increasing=True,N=9)\n",
    "V2 = np.vander(p2,increasing=False,N=9)\n",
    "Vy = V1 * V2\n",
    "\n",
    "V1 = np.vander(p1,increasing=True,N=5)\n",
    "V2 = np.vander(p2,increasing=False,N=5)\n",
    "Vw = V1 * V2\n",
    "\n",
    "cond1 = np.asarray([la.cond(Vy,p=2),la.cond(Vx,p=2),\\\n",
    "                    la.cond(Vw,p=2)])\n",
    "print(cond1)"
   ]
  },
  {
   "cell_type": "code",
   "execution_count": 48,
   "metadata": {},
   "outputs": [],
   "source": [
    "sy = np.asarray([-4/3,1/20,0.1,-0.7314286,-1.024,\\\n",
    "               1.314635,1.643293,-0.005277263,\\\n",
    "               -0.01583179,-1.587302e-5,0.0003265306,\n",
    "               0.001632653,1])\n",
    "sx = np.asarray([-3/4,20,10,-1.367188,-0.9765625,0.7606677,\\\n",
    "                0.6085342,-189.4922,-63.16406,-63000,3062.5,\\\n",
    "                 612.5,1])\n",
    "\n",
    "sw = np.ones(13)/(sy * sx)\n",
    "\n",
    "SY = np.diag(sy)\n",
    "SX = np.diag(sx)\n",
    "SW = np.diag(sw)"
   ]
  },
  {
   "cell_type": "code",
   "execution_count": 62,
   "metadata": {},
   "outputs": [
    {
     "name": "stdout",
     "output_type": "stream",
     "text": [
      "[1.41337199e+02 8.21345233e+05 6.11469754e+01]\n",
      "\n",
      "Improvements: [5.56864722e+02 1.06201762e+03 1.00000018e+00]\n"
     ]
    }
   ],
   "source": [
    "VX = SX @ la.inv(Vx.T)\n",
    "VY = Vy.T @ SY\n",
    "VW = SW @ Vw\n",
    "\n",
    "cond2 = np.asarray([la.cond(VY,p=2),la.cond(VX,p=2),\\\n",
    "                    la.cond(VW,p=2)])\n",
    "print(cond2)\n",
    "\n",
    "print(\"\\nImprovements:\",cond1/cond2)"
   ]
  },
  {
   "cell_type": "markdown",
   "metadata": {},
   "source": [
    "### Inverse Stuff"
   ]
  },
  {
   "cell_type": "code",
   "execution_count": 96,
   "metadata": {},
   "outputs": [
    {
     "name": "stdout",
     "output_type": "stream",
     "text": [
      "17571231.137134526\n",
      "0.0038866297560661085\n",
      "[[    1     0     0     0     0     0     0     0     0]\n",
      " [    1     1     1     1     1     1     1     1     1]\n",
      " [    1    -1     1    -1     1    -1     1    -1     1]\n",
      " [    1     2     4     8    16    32    64   128   256]\n",
      " [    1    -2     4    -8    16   -32    64  -128   256]\n",
      " [    1     3     9    27    81   243   729  2187  6561]\n",
      " [    1    -3     9   -27    81  -243   729 -2187  6561]\n",
      " [    1     4    16    64   256  1024  4096 16384 65536]\n",
      " [    0     0     0     0     0     0     0     0     1]]\n",
      "[   0.  144.  -36. -196.   49.   56.  -14.   -4.    1.]\n"
     ]
    }
   ],
   "source": [
    "p = np.asarray([0,1,-1,2,-2,3,-3,4,-4])\n",
    "V = np.vander(p,increasing=True)\n",
    "V[-1,:] = 0; V[-1,-1] = 1\n",
    "V2 = la.inv(V)\n",
    "print(la.cond(V2,p=2))\n",
    "print(la.svd(V)[1][-1])\n",
    "\n",
    "print(V)\n",
    "print(V2[:,-1])"
   ]
  },
  {
   "cell_type": "code",
   "execution_count": null,
   "metadata": {},
   "outputs": [],
   "source": []
  }
 ],
 "metadata": {
  "kernelspec": {
   "display_name": "Python 3",
   "language": "python",
   "name": "python3"
  },
  "language_info": {
   "codemirror_mode": {
    "name": "ipython",
    "version": 3
   },
   "file_extension": ".py",
   "mimetype": "text/x-python",
   "name": "python",
   "nbconvert_exporter": "python",
   "pygments_lexer": "ipython3",
   "version": "3.7.3"
  }
 },
 "nbformat": 4,
 "nbformat_minor": 2
}
