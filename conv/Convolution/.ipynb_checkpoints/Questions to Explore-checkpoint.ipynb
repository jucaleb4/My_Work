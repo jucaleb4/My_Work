{
 "cells": [
  {
   "cell_type": "markdown",
   "metadata": {},
   "source": [
    "## Questions to explore\n",
    "\n",
    "1. Given convolution, get a Hankle matrix\n",
    "1. Implement Toeplitz $\\rightarrow$ Hankle with a symmatrix algorithm\n",
    "1. How to use folding + recursion in a nested tensor contraption (? confused on this definition)\n",
    "1. How to block (divide up) a symmetric matrix when m = 2,4,8...\n",
    "1. (Me) Make nested algorithm and reduce multiplication down using fast product (4->3) T(n) = 3T(n/2) + O(n)\n",
    "1. Analysis Operation Counts (Count additions and products, in code and/or on paper)\n",
    "1. (Hung) Catastrophic Cancelation\n",
    "1. Worse case error analysis (describe din the paper)\n",
    "1. How to reorganize convolution (subdivide the matrix) to get optimal performance\n",
    "1. How do to convolution by hand and break it down (break down and convolute - similar to the previous one)\n",
    "1. (For Nested) For nested, instead of A@x, use recursive call\n",
    "1. Hankel Matrix -> How do make it square?\n",
    "1. Modify fast multiplication to work for rectangular\n",
    "1. Circular Convolution -> Apply it\n",
    "1. Sparcity and take advantage by dividing it up\n"
   ]
  },
  {
   "cell_type": "code",
   "execution_count": null,
   "metadata": {},
   "outputs": [],
   "source": []
  }
 ],
 "metadata": {
  "kernelspec": {
   "display_name": "Python 3",
   "language": "python",
   "name": "python3"
  },
  "language_info": {
   "codemirror_mode": {
    "name": "ipython",
    "version": 3
   },
   "file_extension": ".py",
   "mimetype": "text/x-python",
   "name": "python",
   "nbconvert_exporter": "python",
   "pygments_lexer": "ipython3",
   "version": "3.5.2"
  }
 },
 "nbformat": 4,
 "nbformat_minor": 2
}
