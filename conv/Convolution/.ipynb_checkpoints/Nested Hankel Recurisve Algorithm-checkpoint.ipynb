{
 "cells": [
  {
   "cell_type": "markdown",
   "metadata": {},
   "source": [
    "## The Goal:\n",
    "\n",
    "Taking the work of the fast matrix-vector multiplication in \"Fast Symmetric Matvec Multiplication\"\n",
    "and the Nested Hankel algorithm for convolution in \"Nested Hankel Matrix Multiplciation Analysis\",\n",
    "hopefully we can find how to divide the non-square Hankel matrix and use it with the fast matrix\n",
    "multiplication\n",
    "\n",
    "I'll be taking the notes from \"Convolution as a matrix vector product\" and doing multiplication recursively.\n",
    "\n",
    "Hopefully we can answer the questions:\n",
    "1. How to use folding + recursion in a nested tensor contraption (folding analysis on hold)\n",
    "1. How to block (divide up) a symmetric matrix when m = 2,4,8...\n",
    "1. Analysis Operation Counts (Count additions and products, in code and/or on paper\n",
    "1. How to exploit spareness of a Hankel matrix\n"
   ]
  },
  {
   "cell_type": "code",
   "execution_count": 1,
   "metadata": {},
   "outputs": [],
   "source": [
    "import numpy as np\n",
    "import scipy.linalg as la\n",
    "import random"
   ]
  },
  {
   "cell_type": "markdown",
   "metadata": {},
   "source": [
    "We have the fast matrix-vector and efficient below, which does 2.5x the number of additions and $\\frac{1}{2}$ of the multiplications of standard matrix vector multiplications"
   ]
  },
  {
   "cell_type": "code",
   "execution_count": 105,
   "metadata": {},
   "outputs": [],
   "source": [
    "def v(A,x,i):\n",
    "    assert(i > 0)\n",
    "    \n",
    "    v_i = 0.0 + 2* A[i-1,i-1]\n",
    "    for j in range(1,x.size+1):\n",
    "        v_i = v_i - A[i-1,j-1]\n",
    "    return v_i * x[i-1]\n",
    "\n",
    "def z(A, x, idx1, idx2):\n",
    "    return A[idx1 - 1, idx2 - 1] * ( x[idx1 - 1] + x[idx2 - 1] )\n",
    "\n",
    "def symMatvecMul(A,x):\n",
    "    assert(A.shape[1] == x.size)\n",
    "    \n",
    "    x = x.copy()\n",
    "    x_len = x.size\n",
    "    m,n = A.shape\n",
    "    append_row = 0\n",
    "    \n",
    "    # for a (n + 1, n) matrix\n",
    "    if(A.shape[0] == A.shape[1] + 1):\n",
    "        x = np.append(0, x)\n",
    "        x_len = x.size\n",
    "        extra_col = np.zeros((x_len,1))\n",
    "        extra_col[-1,0] = A[0,-1]\n",
    "        A = np.append(extra_col, A, axis=1)\n",
    "        A = A.reshape((m,n+1))\n",
    "    elif(A.shape[0] + 1 == A.shape[1]):\n",
    "        # TODO: Find a way to fix this weird off size\n",
    "        A = np.append(A, np.zeros(x_len))\n",
    "        A = np.reshape(A, (m+1,n))\n",
    "        # print(np.reshape(A, (m+1,n)))\n",
    "        # print(A.reshape((m+1,n)))\n",
    "        # A = A.reshape((m+1,n))\n",
    "        append_row = 1\n",
    "    elif(A.shape[0] != A.shape[1]):\n",
    "        print(A.shape, x.shape)\n",
    "        print(\"Invalid dimensions\")\n",
    "        assert(False)  \n",
    "    \n",
    "    c = np.zeros(x_len)\n",
    "        \n",
    "    for i in range(1, x_len + 1):\n",
    "        for k in range(i+1, x_len + 1):\n",
    "            ans = z(A,x,i,k)\n",
    "            c[i-1] = c[i-1] + ans\n",
    "            c[k-1] = c[k-1] + ans\n",
    "        c[i-1] = c[i-1] + v(A,x,i)\n",
    "\n",
    "    if(append_row): return c[:-1]\n",
    "    return c"
   ]
  },
  {
   "cell_type": "code",
   "execution_count": 3,
   "metadata": {},
   "outputs": [],
   "source": [
    "def createSymmetricMatrix(N, maxVal):\n",
    "    mat = np.random.random_integers(-1 * maxVal,maxVal,size=(N,N))\n",
    "    mat = (mat + mat.T)/2\n",
    "    return mat\n",
    "\n",
    "def createRandomVector(N):\n",
    "    return np.random.random_integers(-100, 100, size=N)\n",
    "\n",
    "def vectorToToeplitz(v):\n",
    "    m_size = v.shape[0]\n",
    "    H = np.zeros((m_size * 2 - 1, m_size))\n",
    "    for col in range(m_size):\n",
    "        H[col:col+m_size,col] = v\n",
    "    return H\n",
    "\n",
    "def toeplitzToHankle(M):\n",
    "    return M[:,::-1]"
   ]
  },
  {
   "cell_type": "code",
   "execution_count": 94,
   "metadata": {},
   "outputs": [
    {
     "name": "stderr",
     "output_type": "stream",
     "text": [
      "/Users/calebju/Code/jupyter/jupyter-env/lib/python3.7/site-packages/ipykernel_launcher.py:2: DeprecationWarning: This function is deprecated. Please call randint(-500, 500 + 1) instead\n",
      "  \n",
      "/Users/calebju/Code/jupyter/jupyter-env/lib/python3.7/site-packages/ipykernel_launcher.py:7: DeprecationWarning: This function is deprecated. Please call randint(-100, 100 + 1) instead\n",
      "  import sys\n"
     ]
    }
   ],
   "source": [
    "n = 10\n",
    "\n",
    "A = createSymmetricMatrix(n, 500)\n",
    "x = createRandomVector(n)\n",
    "f = createRandomVector(n) # matrix to do convolution with\n",
    "T = vectorToToeplitz(x)\n",
    "H = toeplitzToHankle(T)"
   ]
  },
  {
   "cell_type": "code",
   "execution_count": 95,
   "metadata": {},
   "outputs": [
    {
     "name": "stdout",
     "output_type": "stream",
     "text": [
      "[  450   915  2094  3494  3122  7921  4110  3838 10673   896  3474  7162\n",
      "  1373  2341   971    84 -3141 -5220  -342]\n",
      "[  450.   915.  2094.  3494.  3122.  7921.  4110.  3838. 10673.   896.\n",
      "  3474.  7162.  1373.  2341.   971.    84. -3141. -5220.  -342.]\n",
      "\n",
      "Error: 0.0\n"
     ]
    }
   ],
   "source": [
    "b_convolve = np.convolve(x,f)\n",
    "b_toeplitz = T @ f\n",
    "print(b_convolve)\n",
    "print(b_toeplitz)\n",
    "\n",
    "print(\"\\nError: {}\".format(la.norm(b_convolve - b_toeplitz)))"
   ]
  },
  {
   "cell_type": "markdown",
   "metadata": {},
   "source": [
    "Notice our $(2m-1) \\times m$ Hankel matrix looks like this:\n",
    "\n",
    "\\[\\begin{bmatrix}\n",
    "    0 & 0 & a \\\\\n",
    "    0 & a & b \\\\\n",
    "    a & b & c \\\\\n",
    "    b & c & 0 \\\\\n",
    "    c & 0 & 0\n",
    "\\end{bmatrix}\\]\n",
    "\n",
    "Notice we can break it up into two symmetric matrices\n",
    "\n",
    "\\[\\begin{bmatrix}\n",
    "    0 & 0 & a \\\\\n",
    "    0 & a & b \\\\\n",
    "    a & b & c \\\\\n",
    "    \\dots & \\dots & \\dots \\\\\n",
    "    b & c & \\vdots \\\\\n",
    "    c & 0 & \\vdots\n",
    "\\end{bmatrix}\\]"
   ]
  },
  {
   "cell_type": "code",
   "execution_count": 96,
   "metadata": {},
   "outputs": [],
   "source": [
    "def hankelMatvecMult(t,x):\n",
    "    assert(t.shape[1] == x.shape[0])\n",
    "    \n",
    "    t_len = t.shape[0]\n",
    "    x_len = x.shape[0]\n",
    "    b = np.zeros(t_len)\n",
    "    \n",
    "    b[:x_len] = symMatvecMul(t[:x_len, :], x)\n",
    "    b[x_len:] = symMatvecMul(t[x_len:, :-1], x[:-1])\n",
    "    \n",
    "    return b"
   ]
  },
  {
   "cell_type": "code",
   "execution_count": 97,
   "metadata": {},
   "outputs": [
    {
     "name": "stdout",
     "output_type": "stream",
     "text": [
      "[  450   915  2094  3494  3122  7921  4110  3838 10673   896  3474  7162\n",
      "  1373  2341   971    84 -3141 -5220  -342]\n",
      "[  450.   915.  2094.  3494.  3122.  7921.  4110.  3838. 10673.   896.\n",
      "  3474.  7162.  1373.  2341.   971.    84. -3141. -5220.  -342.]\n",
      "\n",
      "Error: 0.0\n"
     ]
    }
   ],
   "source": [
    "b_hankel = hankelMatvecMult(H,f[::-1])\n",
    "\n",
    "print(b_convolve)\n",
    "print(b_hankel)\n",
    "print(\"\\nError: {}\".format(la.norm(b_convolve - b_hankel)))"
   ]
  },
  {
   "cell_type": "markdown",
   "metadata": {},
   "source": [
    "Now we have a working Symmetric Matrix multiplication for our Hankel matrix. Let's first do some analysis of computations and then call it recursively."
   ]
  },
  {
   "cell_type": "code",
   "execution_count": 98,
   "metadata": {},
   "outputs": [],
   "source": [
    "def stdMatvecAnalysis(A,x):\n",
    "    m,n = A.shape\n",
    "    assert(n == x.shape[0])\n",
    "    \n",
    "    adds = mults = m*n\n",
    "    return np.array([adds,mults])\n",
    "\n",
    "def vAnalysis(A,b,i):\n",
    "    assert(i > 0)\n",
    "    \n",
    "    adds = 0\n",
    "    mults = 0\n",
    "    \n",
    "    v_i = 0.0 + A[i-1,i-1]\n",
    "    for j in range(b.size):\n",
    "        if (i-1 != j):\n",
    "            # v_i = v_i - A[i-1,j]\n",
    "            adds += 1\n",
    "            \n",
    "    mults += 1\n",
    "    return np.array([adds, mults])\n",
    "    # return v_i * b[i-1]\n",
    "\n",
    "def symMatvecMulAnalysis(A,x):\n",
    "    assert(A.shape[1] == x.size)\n",
    "    \n",
    "    x_len = x.size\n",
    "    c = np.zeros(x_len)\n",
    "    adds = 0\n",
    "    mults = 0\n",
    "    \n",
    "    for i in range(1, x_len + 1):\n",
    "        for k in range(i+1, x_len + 1):\n",
    "            # ans = z(A,x,i,k)\n",
    "            adds += 1; mults += 1\n",
    "            # c[i-1] = c[i-1] + ans\n",
    "            # c[k-1] = c[k-1] + ans\n",
    "            adds += 2\n",
    "        # c[i-1] = c[i-1] + v_at_i(A,x,i)\n",
    "        adds += vAnalysis(A,x,i)[0]\n",
    "        mults += vAnalysis(A,x,i)[1]\n",
    "        adds += 1\n",
    "        \n",
    "    return np.array([adds, mults])\n",
    "\n",
    "def hankelMatvecMulAnalysis(t,x):\n",
    "    assert(t.shape[1] == x.shape[0])\n",
    "    \n",
    "    t_len = t.shape[0]\n",
    "    x_len = x.shape[0]\n",
    "    adds = 0\n",
    "    mults = 0\n",
    "    \n",
    "    comp = symMatvecMulAnalysis(t[:x_len, :], x)\n",
    "    adds += comp[0]\n",
    "    mults += comp[1]\n",
    "    comp = symMatvecMulAnalysis(t[x_len:, :-1], x[:-1])\n",
    "    adds += comp[0]\n",
    "    mults += comp[1]\n",
    "    \n",
    "    return np.array([adds, mults])"
   ]
  },
  {
   "cell_type": "code",
   "execution_count": 99,
   "metadata": {},
   "outputs": [],
   "source": [
    "toeplitz_analysis = stdMatvecAnalysis(T, f)\n",
    "hankel_analysis = hankelMatvecMulAnalysis(H, f)"
   ]
  },
  {
   "cell_type": "code",
   "execution_count": 100,
   "metadata": {},
   "outputs": [
    {
     "name": "stdout",
     "output_type": "stream",
     "text": [
      "Standrd Toeplitz computation of 190 additions and 190 multiplications\n",
      "Symmetric Hankel computation of 424 additions and 100 multiplications\n"
     ]
    }
   ],
   "source": [
    "print(\"Standrd Toeplitz computation of {} additions and {} multiplications\"\n",
    "      .format(int(toeplitz_analysis[0]), int(toeplitz_analysis[1])))\n",
    "print(\"Symmetric Hankel computation of {} additions and {} multiplications\"\n",
    "      .format(int(hankel_analysis[0]), int(hankel_analysis[1])))"
   ]
  },
  {
   "cell_type": "markdown",
   "metadata": {},
   "source": [
    "Now let's see how we can improve/depress the performance when we do a nested Matvec multiplication"
   ]
  },
  {
   "cell_type": "code",
   "execution_count": 101,
   "metadata": {},
   "outputs": [],
   "source": [
    "def symMatvecMul(A,x):\n",
    "    assert(A.shape[1] == x.size)\n",
    "    \n",
    "    x = x.copy()\n",
    "    x_len = x.size\n",
    "    \n",
    "    # for a (n + 1, n) matrix\n",
    "    if(A.shape[0] == A.shape[1] + 1):\n",
    "        x = np.append(0, x)\n",
    "        x_len = x.size\n",
    "        extra_col = np.zeros((x_len,1))\n",
    "        extra_col[-1,0] = A[0,-1]\n",
    "        A = np.append(extra_col, A, axis=1)\n",
    "    elif(A.shape[0] + 1 == A.shape[1]):\n",
    "        A = np.append(A, np.zeros(x_len))\n",
    "    elif(A.shape[0] != A.shape[1]):\n",
    "        print(\"Invalid dimensions\")\n",
    "        assert(False)  \n",
    "    \n",
    "    c = np.zeros(x_len)\n",
    "        \n",
    "    for i in range(1, x_len + 1):\n",
    "        for k in range(i+1, x_len + 1):\n",
    "            ans = z(A,x,i,k)\n",
    "            c[i-1] = c[i-1] + ans\n",
    "            c[k-1] = c[k-1] + ans\n",
    "        c[i-1] = c[i-1] + v(A,x,i)\n",
    "\n",
    "    return c"
   ]
  },
  {
   "cell_type": "code",
   "execution_count": 102,
   "metadata": {},
   "outputs": [],
   "source": [
    "def nestedSymMatvecMul(A,x, cutoff = 4):\n",
    "    m,n = A.shape\n",
    "    assert(n == x.shape[0])\n",
    "    if(m <= cutoff or n <= cutoff):\n",
    "        return symMatvecMul(A,x)\n",
    "    \n",
    "    x_sol = np.zeros(m)\n",
    "    m_2 = round(m/2)\n",
    "    n_2 = round(n/2)\n",
    "    x_sol[:m_2] += nestedSymMatvecMul(A[:m_2,:n_2], x[:n_2])\n",
    "    x_sol[:m_2] += nestedSymMatvecMul(A[:m_2,n_2:], x[n_2:])\n",
    "    x_sol[m_2:] += nestedSymMatvecMul(A[m_2:,:n_2], x[:n_2])\n",
    "    x_sol[m_2:] += nestedSymMatvecMul(A[m_2:,n_2:], x[n_2:])\n",
    "    \n",
    "    return x_sol"
   ]
  },
  {
   "cell_type": "code",
   "execution_count": 103,
   "metadata": {},
   "outputs": [],
   "source": [
    "def nestedHankelMatvecMul(t,x, cutoff = 4):\n",
    "    assert(t.shape[1] == x.shape[0])\n",
    "    \n",
    "    t_len = t.shape[0]\n",
    "    x_len = x.shape[0]\n",
    "    b = np.zeros(t_len)\n",
    "    \n",
    "    b[:x_len] = nestedSymMatvecMul(t[:x_len, :x_len], x, cutoff)\n",
    "    b[x_len:] = nestedSymMatvecMul(t[x_len:, :-1], x[:-1], cutoff)\n",
    "    \n",
    "    return b"
   ]
  },
  {
   "cell_type": "code",
   "execution_count": 106,
   "metadata": {
    "scrolled": false
   },
   "outputs": [
    {
     "name": "stdout",
     "output_type": "stream",
     "text": [
      "Convolution: [  450   915  2094  3494  3122  7921  4110  3838 10673   896  3474  7162\n",
      "  1373  2341   971    84 -3141 -5220  -342]\n",
      "Nested Mat: [  450.   915.  2094.  3494.  3122.  7921.  4110.  3838. 13157.   896.\n",
      "  3474.  7162.  1373.  2341.   971.   234.   639. -5887.  -342.]\n",
      "\n",
      "Error: 4574.499426166758\n"
     ]
    }
   ],
   "source": [
    "b_nested_hankel_cutoff_4 = nestedHankelMatvecMul(H,f[::-1], 4)\n",
    "\n",
    "print(\"Convolution: {}\".format(b_convolve))\n",
    "print(\"Nested Mat: {}\".format(b_nested_hankel_cutoff_4))\n",
    "print(\"\\nError: {}\".format(la.norm(b_convolve - b_nested_hankel_cutoff_4), ord=2))"
   ]
  },
  {
   "cell_type": "code",
   "execution_count": null,
   "metadata": {},
   "outputs": [],
   "source": []
  }
 ],
 "metadata": {
  "kernelspec": {
   "display_name": "Python 3",
   "language": "python",
   "name": "python3"
  },
  "language_info": {
   "codemirror_mode": {
    "name": "ipython",
    "version": 3
   },
   "file_extension": ".py",
   "mimetype": "text/x-python",
   "name": "python",
   "nbconvert_exporter": "python",
   "pygments_lexer": "ipython3",
   "version": "3.7.0"
  }
 },
 "nbformat": 4,
 "nbformat_minor": 2
}
