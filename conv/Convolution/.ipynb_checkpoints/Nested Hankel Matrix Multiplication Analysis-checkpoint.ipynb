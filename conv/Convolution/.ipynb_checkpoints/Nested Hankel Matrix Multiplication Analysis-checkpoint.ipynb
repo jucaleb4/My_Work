{
 "cells": [
  {
   "cell_type": "markdown",
   "metadata": {},
   "source": [
    "## The Goal:\n",
    "\n",
    "The goal of this is to see if we can take the Hankel matrix and divide it to solve it recurisvely for a matrix vector multiplication. We can divide up the Hankel matrix and still retain its properties.\n",
    "\n",
    "I'll be taking the notes from \"Convolution as a matrix vector product\" and doing multiplication recursively.\n",
    "\n",
    "Hopefully we can answer the questions:\n",
    "1. How to get a Hankel matrix from convolution\n",
    "1. How to block up/divide the matrix \n",
    "1. Possibly see how Toeplitz matrix can be used... still looking into this"
   ]
  },
  {
   "cell_type": "code",
   "execution_count": 1,
   "metadata": {},
   "outputs": [],
   "source": [
    "import numpy as np\n",
    "import numpy.linalg as la\n",
    "import time"
   ]
  },
  {
   "cell_type": "markdown",
   "metadata": {},
   "source": [
    "Let's generate a random vector a, b $\\in R^n, n = 6$"
   ]
  },
  {
   "cell_type": "code",
   "execution_count": 2,
   "metadata": {},
   "outputs": [
    {
     "name": "stdout",
     "output_type": "stream",
     "text": [
      "a: [5.56623436 1.54376432 5.15318979 1.74517458 1.07692569 2.28117651]\n",
      "\n",
      "b: [3.38652389 2.2857712  4.61465524 1.71003968 6.86489875 4.73133541]\n"
     ]
    }
   ],
   "source": [
    "n = 6\n",
    "const = 10\n",
    "\n",
    "a = np.random.rand(n) * const\n",
    "b = np.random.rand(n) * const\n",
    "\n",
    "print(\"a: {}\\n\".format(a))\n",
    "print(\"b: {}\".format(b))"
   ]
  },
  {
   "cell_type": "markdown",
   "metadata": {},
   "source": [
    "Use numpy's convolve() to create the convolution"
   ]
  },
  {
   "cell_type": "code",
   "execution_count": 3,
   "metadata": {},
   "outputs": [
    {
     "name": "stdout",
     "output_type": "stream",
     "text": [
      "c: [18.85018566 17.95113298 46.66634494 34.33150995 72.26783217 63.98590997\n",
      " 55.84839905 48.73034483 19.55089443 20.7553424  10.79301117]\n"
     ]
    }
   ],
   "source": [
    "c = np.convolve(a,b)\n",
    "print(\"c: {}\".format(c))"
   ]
  },
  {
   "cell_type": "markdown",
   "metadata": {},
   "source": [
    "To create our Toeplitz matrix from vector a, we will need a $2m-1 \\times m$ matrix as described [here](https://en.wikipedia.org/wiki/Toeplitz_matrix#Discrete_convolution)"
   ]
  },
  {
   "cell_type": "code",
   "execution_count": 4,
   "metadata": {},
   "outputs": [],
   "source": [
    "def vectorToToeplitz(v):\n",
    "    m_size = v.shape[0]\n",
    "    H = np.zeros((m_size * 2 - 1, m_size))\n",
    "    for col in range(m_size):\n",
    "        H[col:col+m_size,col] = v\n",
    "    return H"
   ]
  },
  {
   "cell_type": "code",
   "execution_count": 5,
   "metadata": {},
   "outputs": [
    {
     "name": "stdout",
     "output_type": "stream",
     "text": [
      "Toeplitz:\n",
      " [[5.56623436 0.         0.         0.         0.         0.        ]\n",
      " [1.54376432 5.56623436 0.         0.         0.         0.        ]\n",
      " [5.15318979 1.54376432 5.56623436 0.         0.         0.        ]\n",
      " [1.74517458 5.15318979 1.54376432 5.56623436 0.         0.        ]\n",
      " [1.07692569 1.74517458 5.15318979 1.54376432 5.56623436 0.        ]\n",
      " [2.28117651 1.07692569 1.74517458 5.15318979 1.54376432 5.56623436]\n",
      " [0.         2.28117651 1.07692569 1.74517458 5.15318979 1.54376432]\n",
      " [0.         0.         2.28117651 1.07692569 1.74517458 5.15318979]\n",
      " [0.         0.         0.         2.28117651 1.07692569 1.74517458]\n",
      " [0.         0.         0.         0.         2.28117651 1.07692569]\n",
      " [0.         0.         0.         0.         0.         2.28117651]]\n"
     ]
    }
   ],
   "source": [
    "t = vectorToToeplitz(a)\n",
    "print(\"Toeplitz:\\n {}\".format(t))"
   ]
  },
  {
   "cell_type": "markdown",
   "metadata": {},
   "source": [
    "We can convert this to a Hankel matrix by multiplying it by matrix J as described [here](https://en.wikipedia.org/wiki/Hankel_matrix#Relation_between_Hankel_and_Toeplitz_matrices)"
   ]
  },
  {
   "cell_type": "code",
   "execution_count": 6,
   "metadata": {},
   "outputs": [],
   "source": [
    "def toeplitzToHankle(M):\n",
    "    '''\n",
    "    n_size = M.shape[1]\n",
    "    J = np.eye(n_size)[:,::-1]\n",
    "    return M @ J\n",
    "    '''\n",
    "    return M[:,::-1]"
   ]
  },
  {
   "cell_type": "code",
   "execution_count": 7,
   "metadata": {},
   "outputs": [
    {
     "name": "stdout",
     "output_type": "stream",
     "text": [
      "Hankel:\n",
      " [[0.         0.         0.         0.         0.         5.56623436]\n",
      " [0.         0.         0.         0.         5.56623436 1.54376432]\n",
      " [0.         0.         0.         5.56623436 1.54376432 5.15318979]\n",
      " [0.         0.         5.56623436 1.54376432 5.15318979 1.74517458]\n",
      " [0.         5.56623436 1.54376432 5.15318979 1.74517458 1.07692569]\n",
      " [5.56623436 1.54376432 5.15318979 1.74517458 1.07692569 2.28117651]\n",
      " [1.54376432 5.15318979 1.74517458 1.07692569 2.28117651 0.        ]\n",
      " [5.15318979 1.74517458 1.07692569 2.28117651 0.         0.        ]\n",
      " [1.74517458 1.07692569 2.28117651 0.         0.         0.        ]\n",
      " [1.07692569 2.28117651 0.         0.         0.         0.        ]\n",
      " [2.28117651 0.         0.         0.         0.         0.        ]]\n"
     ]
    }
   ],
   "source": [
    "h = toeplitzToHankle(t)\n",
    "print(\"Hankel:\\n {}\".format(h))"
   ]
  },
  {
   "cell_type": "markdown",
   "metadata": {},
   "source": [
    "Let's compare the discrete convolution from Numpy as the matrix multiplication with the Toeplitz Matrix"
   ]
  },
  {
   "cell_type": "code",
   "execution_count": 8,
   "metadata": {},
   "outputs": [
    {
     "name": "stdout",
     "output_type": "stream",
     "text": [
      "convolution: [18.85018566 17.95113298 46.66634494 34.33150995 72.26783217 63.98590997\n",
      " 55.84839905 48.73034483 19.55089443 20.7553424  10.79301117]\n",
      "toeplitz matmul: [18.85018566 17.95113298 46.66634494 34.33150995 72.26783217 63.98590997\n",
      " 55.84839905 48.73034483 19.55089443 20.7553424  10.79301117]\n"
     ]
    }
   ],
   "source": [
    "c_toeplitz = np.dot(t,b)\n",
    "print(\"convolution: {}\".format(c_toeplitz))\n",
    "print(\"toeplitz matmul: {}\".format(c))"
   ]
  },
  {
   "cell_type": "code",
   "execution_count": 9,
   "metadata": {},
   "outputs": [
    {
     "data": {
      "text/plain": [
       "1.879919374704706e-14"
      ]
     },
     "execution_count": 9,
     "metadata": {},
     "output_type": "execute_result"
    }
   ],
   "source": [
    "la.norm(c_toeplitz - c, ord=2)"
   ]
  },
  {
   "cell_type": "markdown",
   "metadata": {},
   "source": [
    "Let's examine if we can nest this into nested Toeplitz\n",
    "\n",
    "To begin, let's examine the 3x3 matrix $A$\n",
    "\\begin{bmatrix}\n",
    "    a & b & c \\\\\n",
    "    d & e & f \\\\\n",
    "    g & h & e\n",
    "  \\end{bmatrix}\n",
    "  and multiply by vector $v = \\begin{bmatrix} x & y & z \\end{bmatrix}$\n",
    "  \n",
    "The product $Av$ will be \n",
    "\\begin{bmatrix}\n",
    "    ax+by+cz \\\\\n",
    "    dx+ey+fz \\\\\n",
    "    gx+hy+ez\n",
    "  \\end{bmatrix}\n",
    "  \n",
    "To approach this and divide up the work, we can have an upper left 2x2 matrix $A_1$ upper right 2x1 matrix $A_2$, lower left matrix $A_3$ and lower right matrix $A_4$"
   ]
  },
  {
   "cell_type": "code",
   "execution_count": 10,
   "metadata": {},
   "outputs": [
    {
     "name": "stdout",
     "output_type": "stream",
     "text": [
      "A [[8.47408518 3.85282056 3.49391949]\n",
      " [5.7279909  4.64365932 9.20851566]\n",
      " [0.41979673 7.89418717 1.34372976]]\n",
      "\n",
      "A1 [[8.47408518 3.85282056]\n",
      " [5.7279909  4.64365932]]\n",
      "A2 [[3.49391949]\n",
      " [9.20851566]]\n",
      "A3 [[0.41979673 7.89418717]]\n",
      "A4 [[1.34372976]]\n"
     ]
    }
   ],
   "source": [
    "t.shape\n",
    "\n",
    "A = np.random.rand(3,3) * const\n",
    "v = np.random.rand(3) * const\n",
    "b = A @ v\n",
    "\n",
    "A1 = A[:2,:2]\n",
    "A2 = A[:2,2:]\n",
    "A3 = A[2:,:2]\n",
    "A4 = A[2:,2:]\n",
    "\n",
    "print(\"A {}\\n\".format(A))\n",
    "print(\"A1 {}\".format(A1)) #2,2\n",
    "print(\"A2 {}\".format(A2)) #2,1\n",
    "print(\"A3 {}\".format(A3)) #1,2\n",
    "print(\"A4 {}\".format(A4)) #1,1"
   ]
  },
  {
   "cell_type": "code",
   "execution_count": 11,
   "metadata": {},
   "outputs": [
    {
     "name": "stdout",
     "output_type": "stream",
     "text": [
      "b: [73.75505718 91.40547335 74.44738306]\n",
      "Av: [73.75505718 91.40547335 74.44738306]\n"
     ]
    }
   ],
   "source": [
    "A_sol = np.zeros(3)\n",
    "\n",
    "A_sol[:2] += A1 @ v[:2] #A[:2,:2]\n",
    "A_sol[:2] += A2 @ v[2:] #A[:2,2:] no transpose needed\n",
    "A_sol[2:] += A3 @ v[:2] #A[2:,:2]\n",
    "A_sol[2:] += A4 @ v[2:] #A[2:,2:]\n",
    "\n",
    "print(\"b: {}\".format(b))\n",
    "print(\"Av: {}\".format(A_sol))"
   ]
  },
  {
   "cell_type": "markdown",
   "metadata": {},
   "source": [
    "Create a general solution/algorithm for this"
   ]
  },
  {
   "cell_type": "code",
   "execution_count": 12,
   "metadata": {},
   "outputs": [],
   "source": [
    "def dividedMatvecMul(A,x):\n",
    "    m,n = A.shape\n",
    "    assert(n == x.shape[0])\n",
    "    x_sol = np.zeros(m)\n",
    "    m_2 = round(m/2)\n",
    "    n_2 = round(n/2)\n",
    "    x_sol[:m_2] += A[:m_2,:n_2] @ x[:n_2]\n",
    "    x_sol[:m_2] += A[:m_2,n_2:] @ x[n_2:]\n",
    "    x_sol[m_2:] += A[m_2:,:n_2] @ x[:n_2]\n",
    "    x_sol[m_2:] += A[m_2:,n_2:] @ x[n_2:]\n",
    "    \n",
    "    return x_sol"
   ]
  },
  {
   "cell_type": "code",
   "execution_count": 13,
   "metadata": {},
   "outputs": [
    {
     "name": "stdout",
     "output_type": "stream",
     "text": [
      "Nested sol [73.75505718 91.40547335 74.44738306]\n"
     ]
    }
   ],
   "source": [
    "b_sol = dividedMatvecMul(A,v)\n",
    "print(\"Nested sol {}\".format(b_sol))"
   ]
  },
  {
   "cell_type": "markdown",
   "metadata": {},
   "source": [
    "Large dimensions now with timing"
   ]
  },
  {
   "cell_type": "code",
   "execution_count": 14,
   "metadata": {},
   "outputs": [],
   "source": [
    "n = 10000\n",
    "a = np.random.rand(n) * const\n",
    "b = np.random.rand(n) * const"
   ]
  },
  {
   "cell_type": "code",
   "execution_count": 15,
   "metadata": {},
   "outputs": [
    {
     "name": "stdout",
     "output_type": "stream",
     "text": [
      "Total seconds: 0.03519558906555176 seconds\n"
     ]
    }
   ],
   "source": [
    "start = time.time()\n",
    "c = np.convolve(a,b)\n",
    "end = time.time()\n",
    "print(\"Total seconds: {} seconds\".format(end - start))"
   ]
  },
  {
   "cell_type": "code",
   "execution_count": 16,
   "metadata": {},
   "outputs": [],
   "source": [
    "t = vectorToToeplitz(a)"
   ]
  },
  {
   "cell_type": "code",
   "execution_count": 17,
   "metadata": {},
   "outputs": [
    {
     "name": "stdout",
     "output_type": "stream",
     "text": [
      "Total time: 0.16423368453979492 seconds\n"
     ]
    }
   ],
   "source": [
    "start = time.time()\n",
    "c_toeplitz = np.dot(t,b)\n",
    "end = time.time()\n",
    "print(\"Total time: {} seconds\".format(end - start))"
   ]
  },
  {
   "cell_type": "code",
   "execution_count": 18,
   "metadata": {},
   "outputs": [
    {
     "name": "stdout",
     "output_type": "stream",
     "text": [
      "2-Norm: 5.167873883073619e-09\n"
     ]
    }
   ],
   "source": [
    "print(\"2-Norm: {}\".format(la.norm(c_toeplitz - c, ord=2)))"
   ]
  },
  {
   "cell_type": "code",
   "execution_count": 19,
   "metadata": {},
   "outputs": [
    {
     "name": "stdout",
     "output_type": "stream",
     "text": [
      "Total time: 1.102482795715332 seconds\n"
     ]
    }
   ],
   "source": [
    "start = time.time()\n",
    "c_toeplitz_divided = dividedMatvecMul(t,b)\n",
    "end = time.time()\n",
    "print(\"Total time: {} seconds\".format(end - start))"
   ]
  },
  {
   "cell_type": "code",
   "execution_count": 20,
   "metadata": {},
   "outputs": [
    {
     "name": "stdout",
     "output_type": "stream",
     "text": [
      "2-Norm: 5.063701718211952e-09\n"
     ]
    }
   ],
   "source": [
    "print(\"2-Norm: {}\".format(la.norm(c_toeplitz_divided - c, ord=2)))"
   ]
  },
  {
   "cell_type": "markdown",
   "metadata": {},
   "source": [
    "Looking at the accuracy of doing nested matrix multiplication, we have found a accurate algorithm to help do matmul recursively if we wanted to. While the time is 10x, we could multi-thread it and take advantage of having indepedent work in teach thread. This helps set up or dive into \"how to block up/divide a matrix\""
   ]
  },
  {
   "cell_type": "markdown",
   "metadata": {},
   "source": [
    "Let's explore how to we can do the same work with a Hankel matrix instead of a Toeplitz. The advantage of using Hankel is exploiting its symmetric property, which we found can be solved faster with more additions, given that cost(multiplication) >> cost(addition). <br/><br/>\n",
    "My first guess is to do normal matrix multiplication with Hankel and then apply the anti-diagonal $J$ matrix. Let's see"
   ]
  },
  {
   "cell_type": "code",
   "execution_count": 21,
   "metadata": {},
   "outputs": [
    {
     "name": "stdout",
     "output_type": "stream",
     "text": [
      "Hankel: [[0.         0.         0.         ... 0.         0.         4.05924769]\n",
      " [0.         0.         0.         ... 0.         4.05924769 2.32156128]\n",
      " [0.         0.         0.         ... 4.05924769 2.32156128 9.88746071]\n",
      " ...\n",
      " [9.47484134 5.73069691 0.68707366 ... 0.         0.         0.        ]\n",
      " [5.73069691 0.68707366 0.         ... 0.         0.         0.        ]\n",
      " [0.68707366 0.         0.         ... 0.         0.         0.        ]]\n"
     ]
    }
   ],
   "source": [
    "h = toeplitzToHankle(t)\n",
    "print(\"Hankel: {}\".format(h))"
   ]
  },
  {
   "cell_type": "code",
   "execution_count": 22,
   "metadata": {},
   "outputs": [
    {
     "name": "stdout",
     "output_type": "stream",
     "text": [
      "Total time: 0.9450511932373047 seconds\n"
     ]
    }
   ],
   "source": [
    "start = time.time()\n",
    "c_hankel_divided = dividedMatvecMul(h,b[::-1])\n",
    "end = time.time()\n",
    "print(\"Total time: {} seconds\".format(end - start))"
   ]
  },
  {
   "cell_type": "code",
   "execution_count": 23,
   "metadata": {},
   "outputs": [
    {
     "name": "stdout",
     "output_type": "stream",
     "text": [
      "From Hankel: [ 33.3759864   40.9778535  129.84877992 ... 101.61503775  35.04350514\n",
      "   3.48890623]\n",
      "Convolution: [ 33.3759864   40.9778535  129.84877992 ... 101.61503775  35.04350514\n",
      "   3.48890623]\n",
      "2-Norm: 4.4006681436653434e-09\n"
     ]
    }
   ],
   "source": [
    "print(\"From Hankel: {}\".format(c_hankel_divided))\n",
    "print(\"Convolution: {}\".format(c_toeplitz_divided))\n",
    "\n",
    "print(\"2-Norm: {}\".format(la.norm(c_hankel_divided-c_toeplitz_divided, ord=2)))"
   ]
  },
  {
   "cell_type": "markdown",
   "metadata": {},
   "source": [
    "A general alternative to the nested Toeplitz algorithm could be to transform it to a Hankel matrix and then matrix multiple the Hankel with the x matrix in reverse"
   ]
  },
  {
   "cell_type": "markdown",
   "metadata": {},
   "source": [
    "Now to convert the divided matrix multiplication into a nested one"
   ]
  },
  {
   "cell_type": "code",
   "execution_count": 24,
   "metadata": {},
   "outputs": [],
   "source": [
    "def nestedMatvecMul(A,x):\n",
    "    m,n = A.shape\n",
    "    assert(n == x.shape[0])\n",
    "    if(m < 2 or n < 2):\n",
    "        return A@x\n",
    "    \n",
    "    x_sol = np.zeros(m)\n",
    "    m_2 = round(m/2)\n",
    "    n_2 = round(n/2)\n",
    "    x_sol[:m_2] += nestedMatvecMul(A[:m_2,:n_2], x[:n_2])\n",
    "    x_sol[:m_2] += nestedMatvecMul(A[:m_2,n_2:], x[n_2:])\n",
    "    x_sol[m_2:] += nestedMatvecMul(A[m_2:,:n_2], x[:n_2])\n",
    "    x_sol[m_2:] += nestedMatvecMul(A[m_2:,n_2:], x[n_2:])\n",
    "    \n",
    "    return x_sol"
   ]
  },
  {
   "cell_type": "code",
   "execution_count": 25,
   "metadata": {},
   "outputs": [
    {
     "name": "stdout",
     "output_type": "stream",
     "text": [
      "b: [56.55413705 30.73200471 73.92046332]\n",
      "Nested: [56.55413705 30.73200471 73.92046332]\n"
     ]
    }
   ],
   "source": [
    "A_small = np.random.rand(3,3) * const\n",
    "v_small = np.random.rand(3) * const\n",
    "b_small = A_small @ v_small\n",
    "\n",
    "nested_b_small = nestedMatvecMul(A_small,v_small)\n",
    "\n",
    "print(\"b: {}\".format(b_small))\n",
    "print(\"Nested: {}\".format(nested_b_small))"
   ]
  },
  {
   "cell_type": "code",
   "execution_count": 26,
   "metadata": {},
   "outputs": [
    {
     "name": "stdout",
     "output_type": "stream",
     "text": [
      "Total seconds: 0.0005319118499755859 seconds\n"
     ]
    }
   ],
   "source": [
    "n = 1000\n",
    "a = np.random.rand(n) * const\n",
    "b = np.random.rand(n) * const\n",
    "\n",
    "start = time.time()\n",
    "c = np.convolve(a,b)\n",
    "end = time.time()\n",
    "print(\"Total seconds: {} seconds\".format(end - start))"
   ]
  },
  {
   "cell_type": "code",
   "execution_count": 27,
   "metadata": {},
   "outputs": [],
   "source": [
    "t = vectorToToeplitz(a)"
   ]
  },
  {
   "cell_type": "code",
   "execution_count": 28,
   "metadata": {},
   "outputs": [
    {
     "name": "stdout",
     "output_type": "stream",
     "text": [
      "Total time: 4.160543918609619 seconds\n"
     ]
    }
   ],
   "source": [
    "start = time.time()\n",
    "c_nested_toeplitz = nestedMatvecMul(t,b)\n",
    "end = time.time()\n",
    "print(\"Total time: {} seconds\".format(end - start))"
   ]
  },
  {
   "cell_type": "code",
   "execution_count": 29,
   "metadata": {},
   "outputs": [
    {
     "name": "stdout",
     "output_type": "stream",
     "text": [
      "2-Norm: 1.1366551588738694e-10\n"
     ]
    }
   ],
   "source": [
    "print(\"2-Norm: {}\".format(la.norm(c_nested_toeplitz - c, ord=2)))"
   ]
  },
  {
   "cell_type": "markdown",
   "metadata": {},
   "source": [
    "## Computation Analysis\n",
    "\n",
    "Ideally, we'd like to find the number of addition, multiplication, and flop computations needed for a normal matrix vector multiplication"
   ]
  },
  {
   "cell_type": "code",
   "execution_count": 30,
   "metadata": {},
   "outputs": [],
   "source": [
    "global number_of_additions\n",
    "global number_of_multiplicaitons"
   ]
  },
  {
   "cell_type": "code",
   "execution_count": 31,
   "metadata": {},
   "outputs": [],
   "source": [
    "def nestedMatvecMulAnalysis(A,x):\n",
    "    m,n = A.shape\n",
    "    assert(n == x.shape[0])\n",
    "    result = np.zeros(2)\n",
    "    if(m < 2 or n < 2):\n",
    "        result[1] += m*n\n",
    "        if(n == 2): result[0] += 2\n",
    "        return result\n",
    "    \n",
    "    m_2 = round(m/2)\n",
    "    n_2 = round(n/2)\n",
    "    result += nestedMatvecMulAnalysis(A[:m_2,:n_2], x[:n_2])\n",
    "    result += nestedMatvecMulAnalysis(A[:m_2,n_2:], x[n_2:])\n",
    "    result += nestedMatvecMulAnalysis(A[m_2:,:n_2], x[:n_2])\n",
    "    result += nestedMatvecMulAnalysis(A[m_2:,n_2:], x[n_2:])\n",
    "    result[0] += m*n\n",
    "    return result\n",
    "\n",
    "def printAnalysis(A,b):\n",
    "    computation = nestedMatvecMulAnalysis(A,b)\n",
    "    print(\"Number of additions: {}\".format(int(computation[0])))\n",
    "    print(\"Number of multiplications: {}\".format(int(computation[1])))"
   ]
  },
  {
   "cell_type": "code",
   "execution_count": 32,
   "metadata": {},
   "outputs": [
    {
     "name": "stdout",
     "output_type": "stream",
     "text": [
      "Number of additions: 19942024\n",
      "Number of multiplications: 1999000\n"
     ]
    }
   ],
   "source": [
    "printAnalysis(t,b)"
   ]
  },
  {
   "cell_type": "code",
   "execution_count": null,
   "metadata": {},
   "outputs": [],
   "source": []
  }
 ],
 "metadata": {
  "kernelspec": {
   "display_name": "Python 3",
   "language": "python",
   "name": "python3"
  },
  "language_info": {
   "codemirror_mode": {
    "name": "ipython",
    "version": 3
   },
   "file_extension": ".py",
   "mimetype": "text/x-python",
   "name": "python",
   "nbconvert_exporter": "python",
   "pygments_lexer": "ipython3",
   "version": "3.5.2"
  }
 },
 "nbformat": 4,
 "nbformat_minor": 2
}
