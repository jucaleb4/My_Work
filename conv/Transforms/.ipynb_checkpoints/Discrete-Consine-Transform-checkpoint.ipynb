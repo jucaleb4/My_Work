{
 "cells": [
  {
   "cell_type": "code",
   "execution_count": 1,
   "metadata": {},
   "outputs": [],
   "source": [
    "import numpy as np\n",
    "import numpy.linalg as la\n",
    "import scipy.fftpack as scifft\n",
    "\n",
    "from math import ceil,log,cos,sin,pi\n",
    "  \n",
    "np.set_printoptions(linewidth=100)"
   ]
  },
  {
   "cell_type": "markdown",
   "metadata": {},
   "source": [
    "### Discrete (Co)sine Transform\n",
    "\n"
   ]
  },
  {
   "cell_type": "markdown",
   "metadata": {},
   "source": [
    "The Discrete Cosine Transform (DCT) or Discrete Sine Transform (DST) is a Fourier-based transform. Like DFT/FFT, the transformation turns a time-independent input into a space represented by the sin/cosine, typically able to represent the frequency space. The advantage of this method over the Discrete Fourier Transform (DFT) is that the values are real.\n",
    "\n",
    "DCT works with even-functions whereas DST works with odd-functions. The idea of odd/even functions is explained by [Euler's Formula](https://en.wikipedia.org/wiki/Euler%27s_formula)\n",
    "\n",
    "$${\\displaystyle e^{ix}=\\cos x+i\\sin x,}$$\n",
    "\n",
    "The Taylor expansion is\n",
    "\n",
    "$$e^{ix} = 1 + ix + \\frac{(ix)^2}{2!} + \\frac{(ix)^3}{3!} + \\dots = 1 + ix - \\frac{x^2}{2!} - \\frac{x^3i}{3!} + \\dots$$\n",
    "\n",
    "$$ = \\Big(1 - \\frac{x^2}{2!} + \\frac{x^4}{4!} + \\dots \\Big) + i \\Big(x - \\frac{x^3}{3!} + \\frac{x^5}{5!} \\dots \\Big) = cos(x) + isin(x)$$"
   ]
  },
  {
   "cell_type": "markdown",
   "metadata": {},
   "source": [
    "### Discrete Cosine Transform (DCT)\n",
    "\n",
    "The DCT expresses a function using a series of sinusoidals with different frequencies and amplitudes. DFT implies a *periodic* extension whereas DCT implies an *even* extension. \n",
    "\n",
    "However, the finite-ness of the DCT implies one must explicitly choose 1) whether the function if **both** even or odd at the boundaries and 2) and at what point to choose as even or odd. This choice of boundary conditions is responsible for DCT's \"energy compactification.\" \n",
    "\n",
    "DCT is formally defined as a linear, invertible function \n",
    "\n",
    "$$f: R^N \\rightarrow R^N$$\n",
    "\n",
    "[Fast Algorithms](https://www.nayuki.io/page/fast-discrete-cosine-transform-algorithms).\n",
    "[Paper](https://www2.mathematik.hu-berlin.de/~gaggle/S09/AUTODIFF/projects/papers/baszenski_fast_polynomial_multiplication_and_convolutions_related_to_the_discrete_cosine_transform.pdf)"
   ]
  },
  {
   "cell_type": "markdown",
   "metadata": {},
   "source": [
    "### DCT-I\n",
    "\n",
    "E.g. given a set of discrete points $x_0, \\dots, x_{n-1}$, the DCT transform them into $X_0, \\dots, X_{n-1}$ where\n",
    "\n",
    "$$X_k = \\frac{1}{2}(x_0 + (-1)^kx_{N-1}) + \\sum\\limits_{n=1}^{N-2}x_n \n",
    "cos \\Big[\\frac{\\pi}{N-1} nk\\Big]\n",
    "\\ \\ \\ \\ k = 0, \\dots, N-1$$\n",
    "\n",
    "The inverse DCT-I is just DCT-I multiplied by $\\frac{2}{N}$. Formally, we describe $DCT-I(N+1)$ as $C_N^I$.\n",
    "\n",
    "### Naive Implementation\n",
    "\n",
    "This is just a notebook to go over this [paper](https://www2.mathematik.hu-berlin.de/~gaggle/S09/AUTODIFF/projects/papers/baszenski_fast_polynomial_multiplication_and_convolutions_related_to_the_discrete_cosine_transform.pdf).\n",
    "\n",
    "Given an $n$-sized data input, we seek to compute a $N \\ge n+1$-sized Discrete Cosine Transform.\n",
    "\n",
    "Given points $G_N = \\{cos ( \\mu \\pi / N )  \\textrm{ for } \\mu = 0, \\dots, N \\}$, the DCT of an input data of $a$ (where any entries after $n$ are set to $0$) is done through the matrix-multiplication with matrix\n",
    "\n",
    "$$C_N^I = \\Bigg(\\varepsilon_{N,k} \\frac{\\mu k \\pi }{N}\\Bigg) \\in R^{N\\times N}$$\n",
    "\n",
    "Here, $\\varepsilon$ is $\\frac{1}{2}$ when $k=0,N$ else it is $1$. We note this is called $DCT-I(N+1)$ where $N \\ge n+1$. For simplicity's sake, we will just say $N \\ge n$."
   ]
  },
  {
   "cell_type": "code",
   "execution_count": 2,
   "metadata": {},
   "outputs": [],
   "source": [
    "def DCT_mat(n):\n",
    "    # computes DCT(n)\n",
    "    M = np.zeros((n,n))\n",
    "    for u in range(n):\n",
    "        for k in range(n):\n",
    "            e = (.5 if k==0 or k==n-1 else 1)\n",
    "            M[u,k] = ( e * cos((u*k*pi)/(n-1)) )\n",
    "    return M"
   ]
  },
  {
   "cell_type": "code",
   "execution_count": 3,
   "metadata": {},
   "outputs": [
    {
     "name": "stdout",
     "output_type": "stream",
     "text": [
      "Conditioning: 2.1583123951777003\n",
      "Error: 1.0120823209434702e-16\n"
     ]
    }
   ],
   "source": [
    "n = 5\n",
    "a = np.random.random(n)\n",
    "\n",
    "dct1Lib = scifft.dct(a,type=1,n=n+1)\n",
    "\n",
    "DC = DCT_mat(n+1)\n",
    "dct1 = np.dot(DC,np.append(a,np.zeros(1)))*2\n",
    "\n",
    "print(\"Conditioning:\",la.norm(DC,ord=2))\n",
    "print(\"Error:\",la.norm(dct1 - dct1Lib)/la.norm(dct1Lib))"
   ]
  },
  {
   "cell_type": "markdown",
   "metadata": {},
   "source": [
    "### Inverse DCT-I\n",
    "\n",
    "It is shown that $(C_N^I)^{-1} = \\frac{2}{N}C_N^I$."
   ]
  },
  {
   "cell_type": "code",
   "execution_count": 4,
   "metadata": {},
   "outputs": [
    {
     "name": "stdout",
     "output_type": "stream",
     "text": [
      "Inverse Error: 2.636615910278469e-16\n"
     ]
    }
   ],
   "source": [
    "a2 = 2/n * np.dot(DC,dct1/2)\n",
    "print(\"Inverse Error:\", la.norm(a2[:-1] - a)/la.norm(a))"
   ]
  },
  {
   "cell_type": "markdown",
   "metadata": {},
   "source": [
    "### Chebyshev Polynomial Multiplication\n",
    "\n",
    "Given input data size $n,m$ of $a,b$ (fill the rest with $0$s), the Chebyshev Polynomial multiplicaiton for coefficients can be modeled with\n",
    "\n",
    "$$c = \\frac{2}{N}C_N^I\\Big(\\big(C_N^Ia \\big) \\odot \\big(C_N^Ib \\big)\\Big)$$\n",
    "\n",
    "Again, $C_N^I$ correponds to $DCT-I(N+1)$.\n",
    "\n",
    "Here, note $N \\ge n + v + 1$. Since the vector sizes are the same, $n = v$."
   ]
  },
  {
   "cell_type": "code",
   "execution_count": 5,
   "metadata": {},
   "outputs": [
    {
     "name": "stdout",
     "output_type": "stream",
     "text": [
      "Last 9 error: 3.983592053347186e-16\n"
     ]
    }
   ],
   "source": [
    "n = 10\n",
    "\n",
    "DC = DCT_mat(2*n+1)\n",
    "\n",
    "a = np.random.random(n)\n",
    "b = np.random.random(n)\n",
    "az = np.append(a, np.zeros(n+1))\n",
    "bz = np.append(b, np.zeros(n+1))\n",
    "\n",
    "mult = (2/n) * np.dot(DC, np.dot(DC,az) * np.dot(DC,bz))[:-2]\n",
    "convLib = np.convolve(a,b)\n",
    "\n",
    "print(\"Last {} error:\".format(n-1),la.norm(mult[-n+1:]-convLib[-n+1:])/la.norm(mult[-n+1:]))"
   ]
  },
  {
   "cell_type": "markdown",
   "metadata": {},
   "source": [
    "### Fast DCT-I Algorithm\n",
    "\n",
    "#### DCT-I\n",
    "\n",
    "We follow a method to do a fast DCT-I Algorithm from the paper. Suppose we are doing DCT-I$(N+1)$. Let $N_2 = N/2$.\n",
    "\n",
    "Let \n",
    "\n",
    "$$f = (a_l + a_{N-l})_{l=0}^{N_2}$$\n",
    "\n",
    "$$g = (a_l - a_{N-l})_{l=0}^{N_2}$$\n",
    "\n",
    "With $f,g$, we get\n",
    "\n",
    "$$\\hat{f} = \\textrm{DCT-I}(N_2 + 1)f$$\n",
    "\n",
    "$$\\bar{g} = \\textrm{DCT-III}(N_2)g$$\n",
    "\n",
    "where $\\hat{f}$ contains the even-indexed (zero based) values and $\\bar{g}$ containst the odd-indexed of doing $DCT-I(N+1)a$."
   ]
  },
  {
   "cell_type": "code",
   "execution_count": 10,
   "metadata": {},
   "outputs": [],
   "source": [
    "def fastDCT_I(v):\n",
    "    # assume 2^p+1 array passed in\n",
    "    N = len(v)-1\n",
    "    if N <= 1:\n",
    "        DC = DCT_mat(N+1)\n",
    "        return np.dot(DC, v)*2\n",
    "        \n",
    "    N2 = N//2\n",
    "    f = v[:N2+1] + v[-N2-1:][::-1]\n",
    "    g = v[:N2] - v[-N2:][::-1]\n",
    "    \n",
    "    dct1 = fastDCT_I(f)\n",
    "    dct3 = scifft.dct(g, type=3)\n",
    "\n",
    "    # intertwines the two arrays as even/odd indices\n",
    "    return np.reshape(\n",
    "                    np.vstack(( dct1, np.append(dct3,np.zeros(1))) ), \n",
    "            newshape=(N+2,), order='F')[:-1]"
   ]
  },
  {
   "cell_type": "code",
   "execution_count": 11,
   "metadata": {},
   "outputs": [
    {
     "name": "stdout",
     "output_type": "stream",
     "text": [
      "Size: 32769\n",
      "Error: 6.685813299361061e-15\n"
     ]
    }
   ],
   "source": [
    "p = 15\n",
    "N = 2**p\n",
    "a = np.random.random(N+1)\n",
    "\n",
    "dct1Lib = scifft.dct(a,type=1)\n",
    "fastDct = fastDCT_I(a)\n",
    "\n",
    "print(\"Size:\",N+1)\n",
    "print(\"Error:\",la.norm(dct1Lib-fastDct)/la.norm(dct1Lib))"
   ]
  },
  {
   "cell_type": "markdown",
   "metadata": {},
   "source": [
    "### DCT-II\n",
    "This is the standard DCT.\n",
    "\n",
    "$$X_k = \\sum\\limits_{n=0}^{N-1}x_n cos \\Big[\\frac{\\pi}{N} \\Big(n + \\frac{1}{2} \\Big) k\\Big]\n",
    "\\ \\ \\ \\ k = 0, \\dots, N-1$$\n",
    "\n",
    "The inverse of DCT-II is just DCT-III multiplied by $\\frac{2}{N}$."
   ]
  },
  {
   "cell_type": "code",
   "execution_count": 12,
   "metadata": {},
   "outputs": [],
   "source": [
    "# fast algorithm"
   ]
  },
  {
   "cell_type": "markdown",
   "metadata": {},
   "source": [
    "### DCT-III\n",
    "This can be called the IDCT-II.\n",
    "\n",
    "$$X_k = \\frac{1}{2}x_0 + \\sum\\limits_{n=1}^{N-1}x_n cos \\Big[\\frac{\\pi}{N} n\\Big(\\frac{1}{2} + k \\Big)\\Big]\n",
    "\\ \\ \\ \\ k = 0, \\dots, N-1$$\n",
    "\n",
    "\n",
    "#### Iterative Method\n",
    "\n",
    "This can be computed by first steting $h_l = \\varepsilon_{N,l}g_l$ where $g$ is the input and $\\varepsilon$ is $1$ for all except the first and last one.\n",
    "\n",
    "$$\\tilde{h_j} = \\sum_{l=0}^{N-1} h_l cos \\bigg[ \\frac{(4j+1)l \\pi}{N} \\bigg] \\textrm{ for } j = 0, \\dots, N-1$$\n",
    "\n",
    "where\n",
    "\n",
    "$$\n",
    "\\tilde{h_j} = \n",
    "\\begin{cases}\n",
    "  \\tilde{g}_{2j} & \\text{for } j= 0,\\dots, N_2 - 1\\\\    \n",
    "  \\tilde{g}_{N-2j-1} & \\text{for } j= N_2,\\dots, N - 1\n",
    "\\end{cases}\n",
    "$$"
   ]
  },
  {
   "cell_type": "code",
   "execution_count": 13,
   "metadata": {},
   "outputs": [],
   "source": [
    "def bruteDCT_III(v):\n",
    "    h = v.copy()\n",
    "    h[0] *= 0.5; # h[-1] *= 0.5\n",
    "    n = len(v)\n",
    "    h2 = np.zeros(n)\n",
    "    for j in range(n):\n",
    "        for l in range(n):\n",
    "            h2[j] += h[l] * cos( ((4*j+1)*l*pi) / (2*n) )\n",
    "    h2[n//2:] = h2[n//2:][::-1]\n",
    "    return 2 * np.reshape(\n",
    "                np.reshape(\n",
    "                    h2, newshape=((2,-1)), order='C'), \n",
    "                newshape=(-1,), order='F')"
   ]
  },
  {
   "cell_type": "code",
   "execution_count": 14,
   "metadata": {},
   "outputs": [
    {
     "name": "stdout",
     "output_type": "stream",
     "text": [
      "Error: 2.2576665752355437e-15\n"
     ]
    }
   ],
   "source": [
    "p = 5\n",
    "n = 2**p\n",
    "g = np.random.random(n)\n",
    "\n",
    "dct3 = bruteDCT_III(g)\n",
    "dct3Lib = scifft.dct(g,type=3)\n",
    "\n",
    "print(\"Error:\",la.norm(dct3 - dct3Lib)/la.norm(dct3Lib))"
   ]
  },
  {
   "cell_type": "markdown",
   "metadata": {},
   "source": [
    "#### Fast DCT-III\n",
    "\n",
    "Using a new formulation for divide-and-conquer from the paper, we can reduce the summation to just $N_2 = N/2$ elements by\n",
    "\n",
    "$$\\tilde{h}_j = \\sum\\limits_{n=0}^{N_2-1}h_n^{I_1}cos\\Big[\\frac{(4j+1)n \\pi}{N} \\Big] $$\n",
    "\n",
    "where we define\n",
    "\n",
    "$$\n",
    "\\begin{cases}\n",
    "  h_0^{I_1} = h_0 + (-1)^{i_0}h_{N_2}\\frac{\\sqrt 2}{2} & \\text{for } n= 0 \\\\    \n",
    "  h_n^{I_1} = h_n - h_{N-n} + (-1)^{i_0}h_{N_2 +n} \\sqrt 2 & \\text{for } n= 1,\\dots,N_2-1\n",
    "\\end{cases}\n",
    "$$\n",
    "\n",
    "For annotation purposes, $I = j$, where $I_d$ means we only care about the first $d$ LSB of $I$. Then, $I_1$ should only take in the first bit, which just marks if it is even or odd. Thus, $i_0$ is just one single bit at the $0^{th}$ index."
   ]
  },
  {
   "cell_type": "code",
   "execution_count": 15,
   "metadata": {},
   "outputs": [],
   "source": [
    "def oneLevel_DCT_III(a):\n",
    "    n = len(a)\n",
    "    p = int(log(n,2))\n",
    "    assert(n == 2**p)\n",
    "    \n",
    "    v = a.copy()\n",
    "    v[0] *= 0.5\n",
    "    \n",
    "    v2 = np.zeros((2,n//2))\n",
    "    v2[0,0] = v[0] + (-1)**0 * v[n//2] * (1/2)**0.5\n",
    "    v2[1,0] = v[0] + (-1)**1 * v[n//2] * (1/2)**0.5\n",
    "    for x in range(2):\n",
    "        for y in range(1,n//2):\n",
    "            v2[x,y] = v[y] - v[n - y] + (-1)**x * v[n//2 + y] * 2**0.5\n",
    "    \n",
    "    h = np.zeros(n)\n",
    "    for j in range(n):\n",
    "        for i in range(n//2):\n",
    "            h[j] += v2[j%2,i] * cos( ((4*j+1)*i*pi) / (2*n) )\n",
    "\n",
    "    h[n//2:] = h[n//2:][::-1]\n",
    "    return 2 * np.reshape(\n",
    "                np.reshape(\n",
    "                    h, newshape=((2,-1)), order='C'), \n",
    "                newshape=(-1,), order='F')"
   ]
  },
  {
   "cell_type": "code",
   "execution_count": 16,
   "metadata": {},
   "outputs": [
    {
     "name": "stdout",
     "output_type": "stream",
     "text": [
      "Error: 2.6812345316546807e-15\n"
     ]
    }
   ],
   "source": [
    "p = 5\n",
    "n = 2**p\n",
    "v = np.random.random(n)\n",
    "\n",
    "dct3Lib = scifft.dct(v,type=3)\n",
    "dct3_1lvl = oneLevel_DCT_III(v)\n",
    "\n",
    "print(\"Error:\",la.norm(dct3Lib - dct3_1lvl)/la.norm(dct3Lib))"
   ]
  },
  {
   "cell_type": "markdown",
   "metadata": {},
   "source": [
    "Notice how we converted $n^2$ flops in exchange for $n + \\frac{n^2}{2}$ flops. If we repeat this recursively,\n",
    "we should only require $\\Theta(nlogn)$ flops.\n",
    "\n",
    "### Recursive Formula for DCT-III(N)\n",
    "\n",
    "The general recursive formula is for $\\rho = 2, \\dots, log(n)$, we have:\n",
    "\n",
    "$$\n",
    "h_j^{I_\\rho} = \n",
    "\\begin{cases}\n",
    "  h_0^{I_{\\rho - 1}} + (-1)^{i_{\\rho-1}} h_{N_\\rho}^{I_{\\rho-1}} \\gamma\\big( I_{\\rho-1} \\big) & \\text{for } j= 0 \\\\    \n",
    "  h_j - h_{N_\\rho-j}^{I_{\\rho-1}} + 2(-1)^{i_{\\rho-1}}h_{N_{\\rho+1} +n}^{I_{\\rho-1}} \\gamma\\big( I_{\\rho-1} \\big) & \\text{for } j= 1,\\dots,N_{\\rho+1}-1\n",
    "\\end{cases}\n",
    "$$\n",
    "\n",
    "where $N_{\\rho} = \\frac{N}{2^\\rho}$, $\\gamma\\big( I_{\\rho-1} \\big) = cos\\bigg( \\frac{\\big(4(I_{\\rho-1})_2 + 1\\big)\\pi}{2^{\\rho+1}} \\bigg)$, and $(I_{\\rho-1})$ takes all but the MSB in decimal form."
   ]
  },
  {
   "cell_type": "code",
   "execution_count": 57,
   "metadata": {},
   "outputs": [],
   "source": [
    "# fast algorithm\n",
    "def bitSelect(num,i):\n",
    "    # selects ith bit\n",
    "    assert(num >= 1 << i)\n",
    "    return (num >> i) & 1\n",
    "\n",
    "def bitGroupSelect(num,i):\n",
    "    assert(i > 0 and num >= 1 << (i-1) )\n",
    "    return num % (1 << i)\n",
    "\n",
    "def lamb(val,i):\n",
    "    return cos( (4*bitGroupSelect(val,i) + 1)*pi/(2**(i+2)) )"
   ]
  },
  {
   "cell_type": "markdown",
   "metadata": {},
   "source": [
    "### Image Compression\n",
    "\n",
    "[Link](https://www.math.cuhk.edu.hk/~lmlui/dct.pdf). One can use DCT to compress an image. This is typically done through a 5-step process\n",
    "\n",
    "1. Image is broken up into $8 \\times 8$ blocks\n",
    "1. Working Left to Right, Top to Bottom, apply DCT to each block\n",
    "1. Each block is compressed through quantization\n",
    "1. Array of compressed blocks is stored in less space\n",
    "1. We can retrieve image back using IDCT\n",
    "\n",
    "#### Quantization\n",
    "\n",
    "Quantization is the process of reducing the information of the DCT. Suppose an image $I$ has been transformed to its DCT $D$. Define a quanitzation matrix, which we use to form a new quantizied (lossy) matrix of\n",
    "\n",
    "$$C_{j,i} = round\\bigg(\\frac{C_{j,i}}{Q_{j,i}}\\bigg)$$\n",
    "\n",
    "This usually results in a matrix of all $0s$ except for the top left corner."
   ]
  },
  {
   "cell_type": "markdown",
   "metadata": {},
   "source": [
    "### Discrete Sine Transform\n",
    "\n",
    "[Background](https://www5.in.tum.de/lehre/vorlesungen/asc/ss10/vorlesung/dst.pdf). [Notebook](https://relate.cs.illinois.edu/course/cs450-f18/file-version/355b826d764d18c31604b32ddad4ee1efcd73d52/demos/upload/12-fft/Fast%20Fourier%20Transform.html). \n",
    "\n",
    "How to compute the DST using FFT\n",
    "\n",
    "Via pre-/postprocessing:\n",
    "1. generate $2N$ vector with odd symmetry \n",
    "$$x_{−k} =−x_k \\textrm{ for } k=1,...N−1,  x_0 = x_N = 0$$\n",
    "1. coefficients $X_k$ via fast, real-valued FFT on vector $x$\n",
    "1. postprocessing:\n",
    "$$X􏰅_k =−Im\\{X_k\\} \\textrm{ for } k =1,...,N−1$$\n",
    "1. if necessary: scaling"
   ]
  },
  {
   "cell_type": "code",
   "execution_count": 23,
   "metadata": {},
   "outputs": [
    {
     "name": "stdout",
     "output_type": "stream",
     "text": [
      "1.309007208353462e-15\n"
     ]
    }
   ],
   "source": [
    "# https://relate.cs.illinois.edu/course/cs450-f18/file-version/355b826d764d18c31604b32ddad4ee1efcd73d52/demos/upload/12-fft/Fast%20Fourier%20Transform.html\n",
    "def fast_DST(v):\n",
    "    # setup a padded vector [0,v,0,...,0] of dimensions 2(n+1)\n",
    "    w = np.concatenate([np.asarray([0.j]),v,0.j*np.zeros(v.size+1)])\n",
    "\n",
    "    u = np.fft.fft(w) # compute FFT of padded vector\n",
    "    z = u-u.conj() # extract only imaginary part\n",
    "\n",
    "    # return rescaled subvector\n",
    "    return (-1.j*np.sqrt(1./(2.*(v.size+1.))))*z[1:1+v.size]\n",
    "\n",
    "n = 7 # so that DFT dimension is 2(n+1)=16\n",
    "X = - np.sqrt(2./(n+1.))*np.sin(np.pi*np.outer(np.arange(1,n+1),np.arange(1,n+1))/(n+1.))\n",
    "\n",
    "v = np.random.random(n)\n",
    "\n",
    "print(la.norm( X @ v - fast_DST(v)))"
   ]
  }
 ],
 "metadata": {
  "kernelspec": {
   "display_name": "Python 3",
   "language": "python",
   "name": "python3"
  },
  "language_info": {
   "codemirror_mode": {
    "name": "ipython",
    "version": 3
   },
   "file_extension": ".py",
   "mimetype": "text/x-python",
   "name": "python",
   "nbconvert_exporter": "python",
   "pygments_lexer": "ipython3",
   "version": "3.7.0"
  }
 },
 "nbformat": 4,
 "nbformat_minor": 2
}
