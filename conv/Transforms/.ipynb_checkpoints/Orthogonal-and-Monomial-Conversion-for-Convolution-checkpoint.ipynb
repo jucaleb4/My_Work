{
 "cells": [
  {
   "cell_type": "code",
   "execution_count": 1,
   "metadata": {},
   "outputs": [],
   "source": [
    "import numpy as np\n",
    "import numpy.linalg as la\n",
    "import scipy.linalg as scila\n",
    "\n",
    "from func import *\n",
    "from math import pi"
   ]
  },
  {
   "cell_type": "markdown",
   "metadata": {},
   "source": [
    "### Monomial Polynomials\n",
    "\n",
    "Monomials is just a power series, where the $i^{th}$ coefficient is paired with the basis term of $x^i$. We can represent this as the Vandermonde matrix.\n",
    "\n",
    "### Chebyshev Polynomials\n",
    "\n",
    "The Chebyshev Polynomials are a basis of orthogonal polynomials. They are defined with 2 base cases and a recurrence of:\n",
    "\n",
    "$$T_0(x) = 1, T_1(x) = x, T_{k+2}(x) = 2xT_{k-1}(x) - T_{k-2}(x)$$\n",
    "\n",
    "### The Expansion Problem (Chebyshev to Monomial)\n",
    "\n",
    "The Expansion problem, as defined by Bostan and Salvy, is converting a discrete set of points in $K$ from the Chebyshev basis to the Monomial basis. This can be done naively in $O(n^2)$ time by defining the matrix $F_{i,j}$ where the coefficient of $x^i$ is from $T_j$ as defined by the Chebshev basis."
   ]
  },
  {
   "cell_type": "code",
   "execution_count": 2,
   "metadata": {},
   "outputs": [],
   "source": [
    "def expansionFMat(n,a=2,b=1):\n",
    "    assert(n > 0)\n",
    "    F = np.zeros((n,n))\n",
    "    F[0,0] = 1\n",
    "    if(n == 1):\n",
    "        return F\n",
    "    \n",
    "    F[1,1] = 1\n",
    "    prev = np.asarray([0,1])\n",
    "    curr = np.asarray([-1,0,2])\n",
    "    nxt = np.zeros(3)\n",
    "    for j in range(2,n):\n",
    "        F[:j+1,j] = curr\n",
    "        \n",
    "        nxt = np.zeros(j+2)\n",
    "        nxt[-len(curr):] = a*curr\n",
    "        nxt[:len(prev)] -= b*prev\n",
    "        prev = curr\n",
    "        curr = nxt\n",
    "        \n",
    "    return F"
   ]
  },
  {
   "cell_type": "code",
   "execution_count": 3,
   "metadata": {},
   "outputs": [],
   "source": [
    "n = 4\n",
    "\n",
    "def rowExtremas(M):\n",
    "    for i in range(len(M)):\n",
    "        print(\"row {} max is {}, min is {}\".format(i, max(M[i]), min((M[i]))))\n",
    "    print(\"\")"
   ]
  },
  {
   "cell_type": "code",
   "execution_count": 4,
   "metadata": {},
   "outputs": [
    {
     "name": "stdout",
     "output_type": "stream",
     "text": [
      "row 0 max is 1.0, min is -1.0\n",
      "row 1 max is 1.0, min is -3.0\n",
      "row 2 max is 2.0, min is 0.0\n",
      "row 3 max is 4.0, min is 0.0\n",
      "\n",
      "5.551115123125783e-17\n",
      "Chebyshev Transform: 5.036796290982292\n"
     ]
    }
   ],
   "source": [
    "F = expansionFMat(n)\n",
    "rowExtremas(F)\n",
    "\n",
    "x = np.random.random(n)\n",
    "\n",
    "y = scla.solve_triangular(F,x,lower=False)\n",
    "print(la.norm(np.dot(F,y) - x))\n",
    "print(\"Chebyshev Transform:\",la.norm(F,ord=2))"
   ]
  },
  {
   "cell_type": "markdown",
   "metadata": {},
   "source": [
    "### New Recurrance\n",
    "\n",
    "For numerical stability reasons, we define the new recurrance to be:\n",
    "\n",
    "$$T_0(x) = 1, T_1(x) = x, T_{k+2}(x) = xT_{k-1}(x) - \\frac{1}{100}T_{k-2}(x)$$"
   ]
  },
  {
   "cell_type": "code",
   "execution_count": 5,
   "metadata": {},
   "outputs": [
    {
     "name": "stdout",
     "output_type": "stream",
     "text": [
      "row 0 max is 1.0, min is -1.0\n",
      "row 1 max is 1.0, min is -1.01\n",
      "row 2 max is 2.0, min is 0.0\n",
      "row 3 max is 2.0, min is 0.0\n",
      "\n",
      "0.0\n",
      "Chebyshev Transform: 2.2933781868135528\n"
     ]
    }
   ],
   "source": [
    "Fsmall = expansionFMat(n, 1, 0.01)\n",
    "\n",
    "rowExtremas(Fsmall)\n",
    "\n",
    "x = np.random.random(n)\n",
    "\n",
    "y = scla.solve_triangular(Fsmall,x,lower=False)\n",
    "print(la.norm(np.dot(Fsmall,y) - x))\n",
    "print(\"Chebyshev Transform:\",la.norm(Fsmall,ord=2))"
   ]
  },
  {
   "cell_type": "markdown",
   "metadata": {},
   "source": [
    "### Evaluating\n",
    "\n",
    "With the new set of orthogonal polynomials, we need to evaluate terms at a specific time, i.e.\n",
    "\n",
    "$$f(t_j) = \\sum\\limits_{i}^{d-1} c_i(t_j)^i$$\n",
    "\n",
    "In our new basis represented by the upper-triangular matrix $F$, the different rows represent the coefficients for $t^j$ in ascending order down (so the bottom has the largest coefficient), and the columns represent the different polynomials $P_i$ in increasing fashion.\n",
    "\n",
    "For instance, to get the first $4$ Chebyshev Polynomials, we get the matrix\n",
    "\n",
    "$$\n",
    "\\begin{bmatrix}\n",
    " 1 &  0 & -1 &  0 \\\\\n",
    " 0 &  1 &  0 & -3 \\\\\n",
    " 0 &  0 &  2 &  0 \\\\\n",
    " 0 &  0 &  0 &  4\n",
    "\\end{bmatrix}\n",
    "$$\n",
    "\n",
    "The first four Chebyshev polynomials are\n",
    "\n",
    "$$1, \\ t, \\ 2t^2 - 1, \\ 4t^3-3t$$"
   ]
  },
  {
   "cell_type": "code",
   "execution_count": 6,
   "metadata": {},
   "outputs": [],
   "source": [
    "def evaluateBasis(B,t,i):\n",
    "    \"\"\"\n",
    "    @B: matrix basis\n",
    "    @t: time to evaluate at\n",
    "    @i: the i-th polynomial\n",
    "    \"\"\"\n",
    "    n = len(B)\n",
    "    total = 0\n",
    "    for e in range(n):\n",
    "        total += B[e,i] * t**e\n",
    "    return total"
   ]
  },
  {
   "cell_type": "markdown",
   "metadata": {},
   "source": [
    "### Testing Against Chebyshev Basis"
   ]
  },
  {
   "cell_type": "code",
   "execution_count": 7,
   "metadata": {},
   "outputs": [],
   "source": [
    "n = 6\n",
    "chebyStd = chebyMatrix(n)"
   ]
  },
  {
   "cell_type": "code",
   "execution_count": 8,
   "metadata": {},
   "outputs": [],
   "source": [
    "def evalPolynomialVander(B,full=False):\n",
    "    n = len(B)\n",
    "    z = n if full else 2*n-1\n",
    "    nodes = chebyNodes(z)\n",
    "    # nodes = np.linspace(1,-1,z)\n",
    "    V = np.zeros((z,n))\n",
    "    for i in range(z):\n",
    "        for j in range(n):\n",
    "            V[i,j] = evaluateBasis(B,nodes[i],j)\n",
    "    return V"
   ]
  },
  {
   "cell_type": "code",
   "execution_count": 9,
   "metadata": {},
   "outputs": [
    {
     "name": "stdout",
     "output_type": "stream",
     "text": [
      "Expansion Conditioning: 26.35378928738637\n",
      "Interoplation Conditioning: 3.3166247903554003\n",
      "Error: 5.5124107565143065e-16\n"
     ]
    }
   ],
   "source": [
    "chebyExp = expansionFMat(n)\n",
    "chebyV = evalPolynomialVander(chebyExp)\n",
    "      \n",
    "print(\"Expansion Conditioning:\", la.norm(chebyExp, ord=2))\n",
    "print(\"Interoplation Conditioning:\", la.norm(chebyV, ord=2))\n",
    "print(\"Error:\",la.norm(chebyV - chebyStd, ord='f')/la.norm(chebyStd, ord='f'))"
   ]
  },
  {
   "cell_type": "markdown",
   "metadata": {},
   "source": [
    "### Testing Small Orthgonality"
   ]
  },
  {
   "cell_type": "code",
   "execution_count": 10,
   "metadata": {},
   "outputs": [
    {
     "name": "stdout",
     "output_type": "stream",
     "text": [
      "Expansion Conditioning: 2.695707555806841\n",
      "Interpolation Conditioning: 3.4438606718691274\n"
     ]
    }
   ],
   "source": [
    "smallBasis = expansionFMat(n,1,0.01)\n",
    "chebySmallV = evalPolynomialVander(smallBasis)\n",
    "\n",
    "print(\"Expansion Conditioning:\", la.norm(smallBasis, ord=2))\n",
    "print(\"Interpolation Conditioning:\", la.norm(chebySmallV, ord=2))"
   ]
  },
  {
   "cell_type": "code",
   "execution_count": 11,
   "metadata": {},
   "outputs": [
    {
     "name": "stdout",
     "output_type": "stream",
     "text": [
      "[[ 1.      0.     -1.      0.      0.01    0.    ]\n",
      " [ 0.      1.      0.     -1.01    0.      0.0201]\n",
      " [ 0.      0.      2.      0.     -1.03    0.    ]\n",
      " [ 0.      0.      0.      2.      0.     -1.05  ]\n",
      " [ 0.      0.      0.      0.      2.      0.    ]\n",
      " [ 0.      0.      0.      0.      0.      2.    ]]\n"
     ]
    }
   ],
   "source": [
    "print(smallBasis)"
   ]
  },
  {
   "cell_type": "markdown",
   "metadata": {},
   "source": [
    "### Toom-Cook\n",
    "\n",
    "We use our small orthogonal polynomial to do Toom-Cook with one level of recursion"
   ]
  },
  {
   "cell_type": "code",
   "execution_count": 12,
   "metadata": {},
   "outputs": [],
   "source": [
    "# just single level\n",
    "def orthoInterpolate(f,g):\n",
    "    n = len(f)\n",
    "    assert(n == len(g))\n",
    "    \n",
    "    # compose to orthogonal basis\n",
    "    composeBasis = expansionFMat(n,1,0.01)\n",
    "    f2 = scla.solve_triangular(composeBasis,f,lower=False)\n",
    "    g2 = scla.solve_triangular(composeBasis,g,lower=False)\n",
    "\n",
    "    # evaluate \n",
    "    V = evalPolynomialVander(composeBasis)\n",
    "    p = np.dot(V,f2)\n",
    "    q = np.dot(V,g2)\n",
    "\n",
    "    # multiply\n",
    "    r = p*q\n",
    "\n",
    "    # interpolate\n",
    "    decomposeBasis = expansionFMat(2*n-1,1,0.01)\n",
    "    Vinter = evalPolynomialVander(decomposeBasis,full=True)\n",
    "    I = la.solve(Vinter, r)\n",
    "\n",
    "    # decompose back to monomial\n",
    "    return np.dot(decomposeBasis,I)"
   ]
  },
  {
   "cell_type": "code",
   "execution_count": 13,
   "metadata": {},
   "outputs": [],
   "source": [
    "n = 8\n",
    "f = np.random.random(n)\n",
    "g = np.random.random(n)\n",
    "\n",
    "conv = orthoInterpolate(f,g)\n",
    "convLib = np.convolve(f,g)"
   ]
  },
  {
   "cell_type": "code",
   "execution_count": 14,
   "metadata": {},
   "outputs": [],
   "source": [
    "def errorAnalysis(result,control):\n",
    "    assert(len(result) == len(control))\n",
    "    for i in range(1,len(control)+1):\n",
    "        print(\"Total Error for {} elements\".format(i),\":\",la.norm(result[:i]-control[:i])/la.norm(control[:i]))\n",
    "    print(\"\")\n",
    "\n",
    "    for i in range(len(control)):\n",
    "        print(\"Element Error for idx {}\".format(i),\":\",la.norm(result[i]-control[i])/la.norm(control[i]))\n",
    "    print(\"\")"
   ]
  },
  {
   "cell_type": "code",
   "execution_count": 15,
   "metadata": {},
   "outputs": [
    {
     "name": "stdout",
     "output_type": "stream",
     "text": [
      "Compose conditioning: 2.8732194333428684\n",
      "Evaluate conditioning: 4.208353882310951\n",
      "Decompose conditioning: 3.1517140525970944\n",
      "Interpolate conditioning: 4.846264849357816\n"
     ]
    }
   ],
   "source": [
    "# errorAnalysis(conv,convLib)\n",
    "\n",
    "composeBasis = expansionFMat(n,1,0.01)\n",
    "V = evalPolynomialVander(composeBasis)\n",
    "decomposeBasis = expansionFMat(2*n-1,1,0.01)\n",
    "Vinter = evalPolynomialVander(decomposeBasis,full=True)\n",
    "    \n",
    "print(\"Compose conditioning:\",la.norm(composeBasis,ord=2))\n",
    "print(\"Evaluate conditioning:\",la.norm(V,ord=2))\n",
    "print(\"Decompose conditioning:\",la.norm(decomposeBasis,ord=2))\n",
    "print(\"Interpolate conditioning:\",la.norm(Vinter,ord=2))"
   ]
  },
  {
   "cell_type": "markdown",
   "metadata": {},
   "source": [
    "### Sources of Error\n",
    "\n",
    "While the system is quite well-conditioned, we still see the classical errors of as [presented here](https://math.stackexchange.com/questions/200924/why-is-lagrange-interpolation-numerically-unstable).\n",
    "\n",
    "This begs two questions:\n",
    "\n",
    "1. Is our small orthogonal polynomials even orthogonal\n",
    "2. Or is it inherently bad to convolve?"
   ]
  },
  {
   "cell_type": "code",
   "execution_count": 16,
   "metadata": {},
   "outputs": [
    {
     "name": "stdout",
     "output_type": "stream",
     "text": [
      "1.1269884916627822e-16\n"
     ]
    }
   ],
   "source": [
    "composeBasis = expansionFMat(n,1,0.01)\n",
    "f2 = scla.solve_triangular(composeBasis,f,lower=False)\n",
    "frecover = np.dot(composeBasis,f2)\n",
    "\n",
    "print(la.norm(f - frecover)/la.norm(f))"
   ]
  },
  {
   "cell_type": "markdown",
   "metadata": {},
   "source": [
    "### Comparison to Chebyshev Polynomial Conversion\n",
    "\n",
    "We compare the use of small orthogonal polynomials to our change of basis to just Chebyshev Polynomials"
   ]
  },
  {
   "cell_type": "code",
   "execution_count": 17,
   "metadata": {},
   "outputs": [
    {
     "name": "stdout",
     "output_type": "stream",
     "text": [
      "Error: 6.040614556835802e-13\n",
      "\n"
     ]
    }
   ],
   "source": [
    "exF = expansionFMat(n)\n",
    "exF2 = expansionFMat(2*n-1)\n",
    "\n",
    "# convert to Chebshev\n",
    "fc = scla.solve_triangular(exF,f,lower=False)\n",
    "gc = scla.solve_triangular(exF,g,lower=False)\n",
    "\n",
    "# chebshev interpolation\n",
    "vc = chebyInterpolate(fc,gc)\n",
    "\n",
    "# convert back\n",
    "conv = np.dot(exF2,vc)\n",
    "\n",
    "# control\n",
    "convLib = np.convolve(f,g)\n",
    "\n",
    "print(\"Error:\",la.norm(conv-convLib)/la.norm(convLib))\n",
    "print(\"\")\n",
    "# errorAnalysis(conv,convLib)"
   ]
  },
  {
   "cell_type": "markdown",
   "metadata": {},
   "source": [
    "### Standard Toom-Cook"
   ]
  },
  {
   "cell_type": "code",
   "execution_count": 20,
   "metadata": {},
   "outputs": [
    {
     "name": "stdout",
     "output_type": "stream",
     "text": [
      "Error: 4.979095072610425e-11\n",
      "\n"
     ]
    }
   ],
   "source": [
    "conv = TCconv2(f,g,k=n)\n",
    "\n",
    "print(\"Error:\",la.norm(conv-convLib)/la.norm(convLib))\n",
    "print(\"\")\n",
    "# errorAnalysis(conv,convLib)"
   ]
  },
  {
   "cell_type": "markdown",
   "metadata": {},
   "source": [
    "So the methodology is not better than Monomial interpolation.\n",
    "\n",
    "### Possible Sources of Error\n",
    "\n",
    "While the Chebyshev Interpolation error should be well-conditioned, the stability of converting brings some unfriendly errors. Particularly, converting from one basis to another is ill-conditioned.\n",
    "\n",
    "When compared to the Vandermonde matrix of the monomial interpolation, the Chebyshev coefficents are quiet bad."
   ]
  },
  {
   "cell_type": "code",
   "execution_count": 19,
   "metadata": {},
   "outputs": [
    {
     "name": "stdout",
     "output_type": "stream",
     "text": [
      "Vandermonde Conditioning: 23423.763539533997\n",
      "Decomposition Conditioning: 142.378502437558\n",
      "Expansion Conditioning: 57813.677997307335\n"
     ]
    }
   ],
   "source": [
    "print(\"Vandermonde Conditioning:\",la.norm(np.vander(rs(n),increasing=True),ord=2))\n",
    "\n",
    "print(\"Decomposition Conditioning:\",la.norm(exF,ord=2))\n",
    "\n",
    "print(\"Expansion Conditioning:\",la.norm(exF2,ord=2))"
   ]
  }
 ],
 "metadata": {
  "kernelspec": {
   "display_name": "Python 3",
   "language": "python",
   "name": "python3"
  },
  "language_info": {
   "codemirror_mode": {
    "name": "ipython",
    "version": 3
   },
   "file_extension": ".py",
   "mimetype": "text/x-python",
   "name": "python",
   "nbconvert_exporter": "python",
   "pygments_lexer": "ipython3",
   "version": "3.7.3"
  }
 },
 "nbformat": 4,
 "nbformat_minor": 2
}
