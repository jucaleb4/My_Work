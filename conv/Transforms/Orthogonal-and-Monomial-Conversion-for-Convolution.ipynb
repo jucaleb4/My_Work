{
 "cells": [
  {
   "cell_type": "code",
   "execution_count": 1,
   "metadata": {},
   "outputs": [],
   "source": [
    "import numpy as np\n",
    "import numpy.linalg as la\n",
    "import scipy.linalg as scila\n",
    "\n",
    "from func import *\n",
    "from math import pi"
   ]
  },
  {
   "cell_type": "markdown",
   "metadata": {},
   "source": [
    "### Monomial Polynomials\n",
    "\n",
    "Monomials is just a power series, where the $i^{th}$ coefficient is paired with the basis term of $x^i$. We can represent this as the Vandermonde matrix.\n",
    "\n",
    "### Chebyshev Polynomials\n",
    "\n",
    "The Chebyshev Polynomials are a basis of orthogonal polynomials. They are defined with 2 base cases and a recurrence of:\n",
    "\n",
    "$$T_0(x) = 1, T_1(x) = x, T_{k+2}(x) = 2xT_{k-1}(x) - T_{k-2}(x)$$\n",
    "\n",
    "### The Expansion Problem (Chebyshev to Monomial)\n",
    "\n",
    "The Expansion problem, as defined by Bostan and Salvy, is converting a discrete set of points in $K$ from the Chebyshev basis to the Monomial basis. This can be done naively in $O(n^2)$ time by defining the matrix $F_{i,j}$ where the coefficient of $x^i$ is from $T_j$ as defined by the Chebshev basis."
   ]
  },
  {
   "cell_type": "code",
   "execution_count": 2,
   "metadata": {},
   "outputs": [],
   "source": [
    "def expansionFMat(n,a=2,b=1):\n",
    "    assert(n > 0)\n",
    "    F = np.zeros((n,n))\n",
    "    F[0,0] = 1\n",
    "    if(n == 1):\n",
    "        return F\n",
    "    \n",
    "    F[1,1] = 1\n",
    "    prev = np.asarray([0,1])\n",
    "    curr = np.asarray([-1,0,2])\n",
    "    nxt = np.zeros(3)\n",
    "    for j in range(2,n):\n",
    "        F[:j+1,j] = curr\n",
    "        \n",
    "        nxt = np.zeros(j+2)\n",
    "        nxt[-len(curr):] = a*curr\n",
    "        nxt[:len(prev)] -= b*prev\n",
    "        prev = curr\n",
    "        curr = nxt\n",
    "        \n",
    "    return F"
   ]
  },
  {
   "cell_type": "code",
   "execution_count": 7,
   "metadata": {},
   "outputs": [],
   "source": [
    "n = 100\n",
    "\n",
    "def rowExtremas(M):\n",
    "    for i in range(len(M)):\n",
    "        print(\"row {} max is {}, min is {}\".format(i, max(M[i]), min((M[i]))))\n",
    "    print(\"\")"
   ]
  },
  {
   "cell_type": "code",
   "execution_count": 63,
   "metadata": {},
   "outputs": [
    {
     "name": "stdout",
     "output_type": "stream",
     "text": [
      "0.008574616713695304\n",
      "Chebyshev Transform: 1.2283680538636764e+37\n"
     ]
    }
   ],
   "source": [
    "F = expansionFMat(n)\n",
    "# rowExtremas(F)\n",
    "\n",
    "# print(F)\n",
    "\n",
    "x = np.random.random(n)\n",
    "\n",
    "y = scla.solve_triangular(F,x,lower=False)\n",
    "print(la.norm(np.dot(F,y) - x))\n",
    "print(\"Chebyshev Transform:\",la.norm(F,ord=2))"
   ]
  },
  {
   "cell_type": "markdown",
   "metadata": {},
   "source": [
    "### New Recurrance\n",
    "\n",
    "For numerical stability reasons, we define the new recurrance to be:\n",
    "\n",
    "$$T_0(x) = 1, T_1(x) = x, T_{k+2}(x) = xT_{k-1}(x) - \\frac{1}{100}T_{k-2}(x)$$"
   ]
  },
  {
   "cell_type": "code",
   "execution_count": 20,
   "metadata": {},
   "outputs": [
    {
     "name": "stdout",
     "output_type": "stream",
     "text": [
      "4.165186303040984e-15\n",
      "Chebyshev Transform: 15.64675568439878\n"
     ]
    }
   ],
   "source": [
    "Fsmall = expansionFMat(n, 1, 0.01)\n",
    "\n",
    "# rowExtremas(Fsmall)\n",
    "\n",
    "x = np.random.random(n)\n",
    "\n",
    "y = scla.solve_triangular(Fsmall,x,lower=False)\n",
    "print(la.norm(np.dot(Fsmall,y) - x))\n",
    "print(\"Chebyshev Transform:\",la.cond(Fsmall,p=2))"
   ]
  },
  {
   "cell_type": "markdown",
   "metadata": {},
   "source": [
    "### Evaluating\n",
    "\n",
    "With the new set of orthogonal polynomials, we need to evaluate terms at a specific time, i.e.\n",
    "\n",
    "$$f(t_j) = \\sum\\limits_{i}^{d-1} c_i(t_j)^i$$\n",
    "\n",
    "In our new basis represented by the upper-triangular matrix $F$, the different rows represent the coefficients for $t^j$ in ascending order down (so the bottom has the largest coefficient), and the columns represent the different polynomials $P_i$ in increasing fashion.\n",
    "\n",
    "For instance, to get the first $4$ Chebyshev Polynomials, we get the matrix\n",
    "\n",
    "$$\n",
    "\\begin{bmatrix}\n",
    " 1 &  0 & -1 &  0 \\\\\n",
    " 0 &  1 &  0 & -3 \\\\\n",
    " 0 &  0 &  2 &  0 \\\\\n",
    " 0 &  0 &  0 &  4\n",
    "\\end{bmatrix}\n",
    "$$\n",
    "\n",
    "The first four Chebyshev polynomials are\n",
    "\n",
    "$$1, \\ t, \\ 2t^2 - 1, \\ 4t^3-3t$$"
   ]
  },
  {
   "cell_type": "code",
   "execution_count": 21,
   "metadata": {},
   "outputs": [],
   "source": [
    "def evaluateBasis(B,t,i):\n",
    "    \"\"\"\n",
    "    @B: matrix basis\n",
    "    @t: time to evaluate at\n",
    "    @i: the i-th polynomial\n",
    "    \"\"\"\n",
    "    n = len(B)\n",
    "    total = 0\n",
    "    for e in range(n):\n",
    "        total += B[e,i] * t**e\n",
    "    return total"
   ]
  },
  {
   "cell_type": "markdown",
   "metadata": {},
   "source": [
    "### Testing Against Chebyshev Basis"
   ]
  },
  {
   "cell_type": "code",
   "execution_count": 45,
   "metadata": {},
   "outputs": [],
   "source": [
    "n = 100\n",
    "chebyStd = chebyMatrix(n)"
   ]
  },
  {
   "cell_type": "code",
   "execution_count": 46,
   "metadata": {},
   "outputs": [],
   "source": [
    "def evalPolynomialVander(B,full=False):\n",
    "    n = len(B)\n",
    "    z = n if full else 2*n-1\n",
    "    nodes = chebyNodes(z)\n",
    "    # nodes = np.linspace(1,-1,z)\n",
    "    V = np.zeros((z,n))\n",
    "    for i in range(z):\n",
    "        for j in range(n):\n",
    "            V[i,j] = evaluateBasis(B,nodes[i],j)\n",
    "    return V"
   ]
  },
  {
   "cell_type": "code",
   "execution_count": 47,
   "metadata": {},
   "outputs": [
    {
     "name": "stdout",
     "output_type": "stream",
     "text": [
      "Expansion Conditioning: 1.2283680538636764e+37\n",
      "Interoplation Conditioning: 5.357964560677981e+21\n",
      "Error: 5.815528726189489e+19\n"
     ]
    }
   ],
   "source": [
    "chebyExp = expansionFMat(n)\n",
    "chebyV = evalPolynomialVander(chebyExp)\n",
    "      \n",
    "print(\"Expansion Conditioning:\", la.norm(chebyExp, ord=2))\n",
    "print(\"Interoplation Conditioning:\", la.norm(chebyV, ord=2))\n",
    "print(\"Error:\",la.norm(chebyV - chebyStd, ord='f')/la.norm(chebyStd, ord='f'))"
   ]
  },
  {
   "cell_type": "markdown",
   "metadata": {},
   "source": [
    "### Testing Small Orthgonality"
   ]
  },
  {
   "cell_type": "code",
   "execution_count": 48,
   "metadata": {},
   "outputs": [
    {
     "name": "stdout",
     "output_type": "stream",
     "text": [
      "Expansion Conditioning: 6.994743601691826\n",
      "Interpolation Conditioning: 22.91415864924521\n"
     ]
    }
   ],
   "source": [
    "smallBasis = expansionFMat(n,1,0.01)\n",
    "chebySmallV = evalPolynomialVander(smallBasis)\n",
    "\n",
    "print(\"Expansion Conditioning:\", la.norm(smallBasis, ord=2))\n",
    "print(\"Interpolation Conditioning:\", la.norm(chebySmallV, ord=2))"
   ]
  },
  {
   "cell_type": "code",
   "execution_count": 49,
   "metadata": {},
   "outputs": [
    {
     "name": "stdout",
     "output_type": "stream",
     "text": [
      "[[ 1.0000e+00  0.0000e+00 -1.0000e+00 ...  0.0000e+00 -1.0000e-96\n",
      "   0.0000e+00]\n",
      " [ 0.0000e+00  1.0000e+00  0.0000e+00 ...  4.8010e-93  0.0000e+00\n",
      "  -4.9010e-95]\n",
      " [ 0.0000e+00  0.0000e+00  2.0000e+00 ...  0.0000e+00  1.1765e-91\n",
      "   0.0000e+00]\n",
      " ...\n",
      " [ 0.0000e+00  0.0000e+00  0.0000e+00 ...  2.0000e+00  0.0000e+00\n",
      "  -2.9300e+00]\n",
      " [ 0.0000e+00  0.0000e+00  0.0000e+00 ...  0.0000e+00  2.0000e+00\n",
      "   0.0000e+00]\n",
      " [ 0.0000e+00  0.0000e+00  0.0000e+00 ...  0.0000e+00  0.0000e+00\n",
      "   2.0000e+00]]\n"
     ]
    }
   ],
   "source": [
    "print(smallBasis)"
   ]
  },
  {
   "cell_type": "markdown",
   "metadata": {},
   "source": [
    "### Toom-Cook\n",
    "\n",
    "We use our small orthogonal polynomial to do Toom-Cook with one level of recursion"
   ]
  },
  {
   "cell_type": "code",
   "execution_count": 50,
   "metadata": {},
   "outputs": [],
   "source": [
    "# just single level\n",
    "def orthoInterpolate(f,g):\n",
    "    n = len(f)\n",
    "    assert(n == len(g))\n",
    "    \n",
    "    # compose to orthogonal basis\n",
    "    composeBasis = expansionFMat(n,1,0.01)\n",
    "    f2 = scla.solve_triangular(composeBasis,f,lower=False)\n",
    "    g2 = scla.solve_triangular(composeBasis,g,lower=False)\n",
    "\n",
    "    # evaluate \n",
    "    V = evalPolynomialVander(composeBasis)\n",
    "    p = np.dot(V,f2)\n",
    "    q = np.dot(V,g2)\n",
    "\n",
    "    # multiply\n",
    "    r = p*q\n",
    "\n",
    "    # interpolate\n",
    "    decomposeBasis = expansionFMat(2*n-1,1,0.01)\n",
    "    Vinter = evalPolynomialVander(decomposeBasis,full=True)\n",
    "    I = la.solve(Vinter, r)\n",
    "\n",
    "    # decompose back to monomial\n",
    "    return np.dot(decomposeBasis,I)"
   ]
  },
  {
   "cell_type": "code",
   "execution_count": 51,
   "metadata": {},
   "outputs": [
    {
     "name": "stdout",
     "output_type": "stream",
     "text": [
      "12687.98676348165\n"
     ]
    }
   ],
   "source": [
    "f = np.random.random(n)\n",
    "g = np.random.random(n)\n",
    "\n",
    "conv = orthoInterpolate(f,g)\n",
    "convLib = np.convolve(f,g)\n",
    "\n",
    "print(la.norm(conv-convLib)/la.norm(convLib))"
   ]
  },
  {
   "cell_type": "code",
   "execution_count": 52,
   "metadata": {},
   "outputs": [],
   "source": [
    "def errorAnalysis(result,control):\n",
    "    assert(len(result) == len(control))\n",
    "    for i in range(1,len(control)+1):\n",
    "        print(\"Total Error for {} elements\".format(i),\":\",la.norm(result[:i]-control[:i])/la.norm(control[:i]))\n",
    "    print(\"\")\n",
    "\n",
    "    for i in range(len(control)):\n",
    "        print(\"Element Error for idx {}\".format(i),\":\",la.norm(result[i]-control[i])/la.norm(control[i]))\n",
    "    print(\"\")"
   ]
  },
  {
   "cell_type": "code",
   "execution_count": 53,
   "metadata": {},
   "outputs": [
    {
     "name": "stdout",
     "output_type": "stream",
     "text": [
      "Compose conditioning: 6.994743601691826\n",
      "Evaluate conditioning: 22.91415864924521\n",
      "Decompose conditioning: 18.07655574065172\n",
      "Interpolate conditioning: 23.325273247217634\n"
     ]
    }
   ],
   "source": [
    "# errorAnalysis(conv,convLib)\n",
    "\n",
    "composeBasis = expansionFMat(n,1,0.01)\n",
    "V = evalPolynomialVander(composeBasis)\n",
    "decomposeBasis = expansionFMat(2*n-1,1,0.01)\n",
    "Vinter = evalPolynomialVander(decomposeBasis,full=True)\n",
    "    \n",
    "print(\"Compose conditioning:\",la.norm(composeBasis,ord=2))\n",
    "print(\"Evaluate conditioning:\",la.norm(V,ord=2))\n",
    "print(\"Decompose conditioning:\",la.norm(decomposeBasis,ord=2))\n",
    "print(\"Interpolate conditioning:\",la.norm(Vinter,ord=2))"
   ]
  },
  {
   "cell_type": "markdown",
   "metadata": {},
   "source": [
    "### Sources of Error\n",
    "\n",
    "While the system is quite well-conditioned, we still see the classical errors of as [presented here](https://math.stackexchange.com/questions/200924/why-is-lagrange-interpolation-numerically-unstable).\n",
    "\n",
    "This begs two questions:\n",
    "\n",
    "1. Is our small orthogonal polynomials even orthogonal\n",
    "2. Or is it inherently bad to convolve?"
   ]
  },
  {
   "cell_type": "code",
   "execution_count": 41,
   "metadata": {},
   "outputs": [
    {
     "name": "stdout",
     "output_type": "stream",
     "text": [
      "1.410289342156766e-16\n"
     ]
    }
   ],
   "source": [
    "composeBasis = expansionFMat(n,1,0.01)\n",
    "f2 = scla.solve_triangular(composeBasis,f,lower=False)\n",
    "frecover = np.dot(composeBasis,f2)\n",
    "\n",
    "print(la.norm(f - frecover)/la.norm(f))"
   ]
  },
  {
   "cell_type": "markdown",
   "metadata": {},
   "source": [
    "### Comparison to Chebyshev Polynomial Conversion\n",
    "\n",
    "We compare the use of small orthogonal polynomials to our change of basis to just Chebyshev Polynomials"
   ]
  },
  {
   "cell_type": "code",
   "execution_count": 72,
   "metadata": {
    "scrolled": false
   },
   "outputs": [
    {
     "name": "stdout",
     "output_type": "stream",
     "text": [
      "Error: 6.745607244150876e-06\n",
      "\n",
      "Error2: 6.324206194888517e-06\n",
      "[0.57317641 0.675038   0.9332859  1.26916031 1.6550433  2.08237118\n",
      " 2.35987839 2.16396176 2.58484007 2.93406777 2.57171889 3.99332635\n",
      " 3.51478369 3.56830158 4.59755768 4.27465926 4.33404893 4.34749152\n",
      " 3.39977172 3.25835676 3.15189961 2.04331765 2.71386128 2.60019285\n",
      " 1.69522931 1.86828311 1.44836266 1.04824543 1.1920618  0.82349059\n",
      " 0.12493627]\n",
      "[0.57317641 0.675038   0.9332859  1.26916031 1.6550433  2.08237118\n",
      " 2.35987839 2.16396177 2.58484009 2.9340677  2.57171866 3.99332671\n",
      " 3.51478506 3.56830039 4.59755215 4.27466183 4.33406484 4.34748809\n",
      " 3.39973865 3.25835893 3.15194943 2.04331856 2.71380745 2.60018975\n",
      " 1.69526996 1.86828582 1.44834231 1.04824429 1.19206787 0.82349079\n",
      " 0.12493545]\n"
     ]
    }
   ],
   "source": [
    "exF = expansionFMat(n)\n",
    "exF2 = expansionFMat(2*n-1)\n",
    "\n",
    "z = 2*n-1\n",
    "i = np.arange(n, dtype=np.float64)\n",
    "j = np.arange(z, dtype=np.float64)\n",
    "# Chebyshev nodes:\n",
    "nodes = np.cos((2*j+1)/(2*z)*np.pi)\n",
    "V = np.vander(nodes,N=n,increasing=True)\n",
    "V2 = np.vander(nodes,increasing=True)\n",
    "sb = np.dot(V,f) * np.dot(V,g)\n",
    "V3 = np.cos(j * np.arccos(nodes.reshape(-1, 1)))\n",
    "s = la.solve(V3,sb)\n",
    "c = np.dot(exF2,s)\n",
    "\n",
    "# convert to Chebshev\n",
    "fc = scla.solve_triangular(exF,f,lower=False)\n",
    "gc = scla.solve_triangular(exF,g,lower=False)\n",
    "\n",
    "# chebshev interpolation\n",
    "vc = chebyInterpolate(fc,gc)\n",
    "\n",
    "# convert back\n",
    "conv = np.dot(exF2,vc)\n",
    "\n",
    "# control\n",
    "convLib = np.convolve(f,g)\n",
    "\n",
    "print(\"Error:\",la.norm(conv-convLib)/la.norm(convLib))\n",
    "print(\"\")\n",
    "# errorAnalysis(conv,convLib)\n",
    "print(\"Error2:\",la.norm(convLib-c)/la.norm(convLib))\n",
    "print(c)\n",
    "print(convLib)"
   ]
  },
  {
   "cell_type": "markdown",
   "metadata": {},
   "source": [
    "### Standard Toom-Cook"
   ]
  },
  {
   "cell_type": "code",
   "execution_count": 20,
   "metadata": {},
   "outputs": [
    {
     "name": "stdout",
     "output_type": "stream",
     "text": [
      "Error: 4.979095072610425e-11\n",
      "\n"
     ]
    }
   ],
   "source": [
    "conv = TCconv2(f,g,k=n)\n",
    "\n",
    "print(\"Error:\",la.norm(conv-convLib)/la.norm(convLib))\n",
    "print(\"\")\n",
    "# errorAnalysis(conv,convLib)"
   ]
  },
  {
   "cell_type": "markdown",
   "metadata": {},
   "source": [
    "So the methodology is not better than Monomial interpolation.\n",
    "\n",
    "### Possible Sources of Error\n",
    "\n",
    "While the Chebyshev Interpolation error should be well-conditioned, the stability of converting brings some unfriendly errors. Particularly, converting from one basis to another is ill-conditioned.\n",
    "\n",
    "When compared to the Vandermonde matrix of the monomial interpolation, the Chebyshev coefficents are quiet bad."
   ]
  },
  {
   "cell_type": "code",
   "execution_count": 19,
   "metadata": {},
   "outputs": [
    {
     "name": "stdout",
     "output_type": "stream",
     "text": [
      "Vandermonde Conditioning: 23423.763539533997\n",
      "Decomposition Conditioning: 142.378502437558\n",
      "Expansion Conditioning: 57813.677997307335\n"
     ]
    }
   ],
   "source": [
    "print(\"Vandermonde Conditioning:\",la.norm(np.vander(rs(n),increasing=True),ord=2))\n",
    "\n",
    "print(\"Decomposition Conditioning:\",la.norm(exF,ord=2))\n",
    "\n",
    "print(\"Expansion Conditioning:\",la.norm(exF2,ord=2))"
   ]
  }
 ],
 "metadata": {
  "kernelspec": {
   "display_name": "Python 3",
   "language": "python",
   "name": "python3"
  },
  "language_info": {
   "codemirror_mode": {
    "name": "ipython",
    "version": 3
   },
   "file_extension": ".py",
   "mimetype": "text/x-python",
   "name": "python",
   "nbconvert_exporter": "python",
   "pygments_lexer": "ipython3",
   "version": "3.7.3"
  }
 },
 "nbformat": 4,
 "nbformat_minor": 2
}
