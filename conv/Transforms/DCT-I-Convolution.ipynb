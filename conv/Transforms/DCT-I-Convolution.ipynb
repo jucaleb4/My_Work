{
 "cells": [
  {
   "cell_type": "code",
   "execution_count": 1,
   "metadata": {},
   "outputs": [],
   "source": [
    "import numpy as np\n",
    "import numpy.linalg as la\n",
    "import scipy.fftpack as scifft\n",
    "\n",
    "from math import ceil,log,cos,sin,pi\n",
    "  \n",
    "np.set_printoptions(linewidth=100)"
   ]
  },
  {
   "cell_type": "markdown",
   "metadata": {},
   "source": [
    "### DCT-I Relation to Circular Convolution\n",
    "\n",
    "From the paper, let $a,b$ be the input with size $n$. Create a transformation $x$ where $x_0 = a_0$ and\n",
    "\n",
    "$$x_j = x_{2n-j} \\textrm{ for } j = 1, \\dots, n$$\n",
    "\n",
    "Define $y_j$ similarly. Furthermore, define $z$ where\n",
    "\n",
    "$$z = x \\ast y = 2c$$\n",
    "\n",
    "where $\\ast$ indicates circulation convolution. We define $c = a \\ast^I b$. We recall that\n",
    "\n",
    "$$C_N^I(a \\ast^I b) = (C_N^Ia) \\odot (C_N^Ib)$$\n",
    "\n",
    "$$a \\ast^I b = \\frac{1}{n} C_N^I \\Big( (C_N^Ia) \\odot (C_N^Ib) \\Big) $$"
   ]
  },
  {
   "cell_type": "code",
   "execution_count": 2,
   "metadata": {},
   "outputs": [],
   "source": [
    "def transformVec(v):\n",
    "    # returns 2n-2 size input\n",
    "    return np.append(v,v[1:-1][::-1])\n",
    "\n",
    "def DCT_mat(n):\n",
    "    # computes DCT(n)\n",
    "    M = np.zeros((n,n))\n",
    "    for u in range(n):\n",
    "        for k in range(n):\n",
    "            e = (.5 if k==0 or k==n-1 else 1)\n",
    "            M[u,k] = ( e * cos((u*k*pi)/(n-1)) )\n",
    "    return M\n",
    "\n",
    "def DCTI_2n(a,b):\n",
    "    # DCT-(N+1)\n",
    "    n = len(a)\n",
    "    assert(n == len(b))\n",
    "\n",
    "    DC = DCT_mat(2*n+1)\n",
    "\n",
    "    az = np.append(a,np.zeros(n+1))\n",
    "    bz = np.append(b,np.zeros(n+1))\n",
    "\n",
    "    c = np.dot(DC,az) * np.dot(DC,bz)\n",
    "    return (2/n) * np.dot(DC, c)"
   ]
  },
  {
   "cell_type": "code",
   "execution_count": 3,
   "metadata": {},
   "outputs": [
    {
     "name": "stdout",
     "output_type": "stream",
     "text": [
      "Error: 8.610315698356249e-16\n"
     ]
    }
   ],
   "source": [
    "n = 150\n",
    "a = np.random.random(n)\n",
    "b = np.random.random(n)\n",
    "c = DCTI_2n(a,b)\n",
    "\n",
    "# circular convolution\n",
    "az = np.append(a,np.zeros(n+1))\n",
    "bz = np.append(b,np.zeros(n+1))\n",
    "x = transformVec(az)\n",
    "y = transformVec(bz)\n",
    "z = np.real(np.fft.ifft( np.fft.fft(x) * np.fft.fft(y) ))\n",
    "z = z[:2*n+1]\n",
    "\n",
    "print(\"Error:\",la.norm(c-z)/la.norm(z))"
   ]
  },
  {
   "cell_type": "markdown",
   "metadata": {},
   "source": [
    "### Circular to Linear Convolution\n",
    "\n",
    "[Proof](#) needed still.\n",
    "\n",
    "We know we can convert circular convolution to linear convolution by padding the result with $n/2$ \n",
    "$0$s."
   ]
  },
  {
   "cell_type": "code",
   "execution_count": 7,
   "metadata": {},
   "outputs": [
    {
     "name": "stdout",
     "output_type": "stream",
     "text": [
      "Error: 1.8329231818637207e-16\n"
     ]
    }
   ],
   "source": [
    "n = 3\n",
    "a = np.random.random(n)\n",
    "b = np.random.random(n)\n",
    "\n",
    "# works for padding by n/2 0s\n",
    "pad = (n+1)//2\n",
    "az = np.append(np.zeros(pad), a)\n",
    "bz = np.append(np.zeros(pad), b)\n",
    "\n",
    "c = DCTI_2n(az,bz)\n",
    "c = c[2*pad : 2*(n+pad)-1]\n",
    "\n",
    "convLib = np.convolve(a,b)\n",
    "\n",
    "print(\"Error:\",la.norm(c - convLib)/la.norm(convLib))"
   ]
  },
  {
   "cell_type": "markdown",
   "metadata": {},
   "source": [
    "If we only want a reduced convolution, we don't need to pad at all then. Instead, we extract the select $n$ terms."
   ]
  },
  {
   "cell_type": "code",
   "execution_count": 8,
   "metadata": {},
   "outputs": [
    {
     "name": "stdout",
     "output_type": "stream",
     "text": [
      "Error: 2.0441780014244004e-15\n"
     ]
    }
   ],
   "source": [
    "n = 150\n",
    "a = np.random.random(n)\n",
    "b = np.random.random(n)\n",
    "\n",
    "# works for padding by n/2 0s\n",
    "pad = 0\n",
    "c = DCTI_2n(a,b)\n",
    "c = c[n-1:2*n-1]\n",
    "\n",
    "convLib = np.convolve(a,b)\n",
    "convLib = convLib[-n:]\n",
    "print(\"Error:\",la.norm(c - convLib)/la.norm(convLib))"
   ]
  },
  {
   "cell_type": "markdown",
   "metadata": {},
   "source": [
    "### Fast Algorithms"
   ]
  },
  {
   "cell_type": "code",
   "execution_count": 9,
   "metadata": {},
   "outputs": [],
   "source": [
    "# https://www.nayuki.io/page/fast-discrete-cosine-transform-algorithms\n",
    "def fastDCT_III(vector, root=True, scaled=True):\n",
    "    if root:\n",
    "        vector = vector.copy() * (2 if scaled else 1)\n",
    "        vector[0] /= 2.0\n",
    "    n = vector.size\n",
    "    if n == 1: return vector\n",
    "    else:\n",
    "        half = n // 2\n",
    "        alpha = vector[0 : : 2].copy()\n",
    "        beta  = vector[1 : : 2].copy()\n",
    "        beta[1 : ] += vector[1 : n - 1 : 2]\n",
    "        fastDCT_III(alpha, False)\n",
    "        fastDCT_III(beta , False)\n",
    "        beta /= np.cos(np.arange(0.5, half + 0.5) * (np.pi / n)) * 2.0\n",
    "        vector[ : half] = alpha + beta\n",
    "        vector[n - 1 : half - 1 : -1] = alpha - beta\n",
    "        return vector"
   ]
  },
  {
   "cell_type": "code",
   "execution_count": 10,
   "metadata": {},
   "outputs": [
    {
     "name": "stdout",
     "output_type": "stream",
     "text": [
      "Error: 3.589120707394252e-14\n"
     ]
    }
   ],
   "source": [
    "p = 10\n",
    "n = 2**p\n",
    "v = np.random.random(n)\n",
    "\n",
    "dct3Lib = scifft.dct(v,type=3)\n",
    "dct3_1lvl = fastDCT_III(v)\n",
    "\n",
    "print(\"Error:\",la.norm(dct3Lib - dct3_1lvl)/la.norm(dct3Lib))"
   ]
  },
  {
   "cell_type": "markdown",
   "metadata": {},
   "source": [
    "### Other Fast Algorithms"
   ]
  },
  {
   "cell_type": "code",
   "execution_count": 11,
   "metadata": {},
   "outputs": [],
   "source": [
    "def fastDCT_Ib(v):\n",
    "    # assume 2^p+1 array passed in\n",
    "    N = len(v)-1\n",
    "    if N <= 1:\n",
    "        DC = DCT_mat(N+1)\n",
    "        return np.dot(DC, v)*2\n",
    "        \n",
    "    N2 = N//2\n",
    "    f = v[:N2+1] + v[-N2-1:][::-1]\n",
    "    g = v[:N2] - v[-N2:][::-1]\n",
    "    \n",
    "    dct1 = fastDCT_Ib(f)\n",
    "    dct3 = fastDCT_III(g)\n",
    "\n",
    "    # intertwines the two arrays as even/odd indices\n",
    "    return np.reshape(\n",
    "                    np.vstack(( dct1, np.append(dct3, np.zeros(1))) ), \n",
    "            newshape=(N+2,), order='F')[:-1]\n",
    "\n",
    "def DCT_conv(f,g):\n",
    "    # low-rank convolution\n",
    "    n = len(f)\n",
    "    assert(n == 2**(int(log(n,2))))\n",
    "    fz = np.append(f,np.zeros(n+1))\n",
    "    gz = np.append(g,np.zeros(n+1))\n",
    "    \n",
    "    c = fastDCT_Ib(fz) * fastDCT_Ib(gz)\n",
    "    return (1/(4*n)) * fastDCT_Ib(c)[n-1:2*n-1]"
   ]
  },
  {
   "cell_type": "code",
   "execution_count": 12,
   "metadata": {},
   "outputs": [
    {
     "name": "stdout",
     "output_type": "stream",
     "text": [
      "Error: 2.0262979624825808e-16\n"
     ]
    }
   ],
   "source": [
    "p = 2\n",
    "n = 2**p\n",
    "f = np.random.random(n)\n",
    "g = np.random.random(n)\n",
    "\n",
    "c = DCT_conv(f,g)\n",
    "convLib = np.convolve(f,g)\n",
    "convLib = convLib[-n:]\n",
    "\n",
    "print(\"Error:\",la.norm(c - convLib)/la.norm(convLib))"
   ]
  },
  {
   "cell_type": "markdown",
   "metadata": {},
   "source": [
    "### Flops for DCT-based Convolution\n",
    "\n",
    "We first evalutate the cost of **DCT-III(N)**.\n",
    "\n",
    "The closed form will be \n",
    "\n",
    "$$\\Theta(nlog(n))$$\n",
    "\n",
    "At one level, we have\n",
    "\n",
    "1. $\\frac{n}{2}$ adds\n",
    "1. $2$ calls to DCT($N/2$)\n",
    "1. $\\frac{n}{2}$ cosine evals, multiplies, and divides\n",
    "1. $2$ $\\frac{n}{2}$ adds and subtracts\n",
    "\n",
    "The base case is nothing, so it is negligable. So at each level, we have a total of $(\\frac{3}{2}n, n)$ real flops where $(\\cdot, \\cdot)$ represents the adds and multiplies respectively. Since there are $log(n)$ levels, we expect the total work for DCT-III($N$) to be \n",
    "\n",
    "$$\\bigg(\\frac{3}{2}nlog(n) \\ , \\ nlog(n) \\bigg)$$"
   ]
  },
  {
   "cell_type": "markdown",
   "metadata": {},
   "source": [
    "Now we evaluate the cost of **DCT-I(N)**. In each level, we have\n",
    "\n",
    "1. $\\frac{n}{2}$ adds and subtracts\n",
    "1. One call to DCT-I($n/2$)\n",
    "1. One call to DCT-III($n/2$), denote this as $T_3(n)$ for size $n$\n",
    "1. $n$ reordering\n",
    "\n",
    "So in each level, we have a flop count of:\n",
    "\n",
    "$$\\bigg( \\frac{n}{2}, 0, n \\bigg) + \\bigg(\\frac{3}{2}nlog(n) \\ , \\ nlog(n), 0 \\bigg)$$\n",
    "\n",
    "At the child level, we expect $n$ children. Each one requires $2$ adds $2^2$  multiplies. However, because of the linearaity of the recursive calls, we expect this cost to be negigible since there would only be one leaf child.\n",
    "\n",
    "To get the total flop cost, we see this is just a linear tree-like structure since we only have one recursive call to DCT-I. Thus we can bound the total flops as\n",
    "\n",
    "$$\n",
    "\\Rightarrow n \\cdot \\Bigg( \\sum\\limits_{i=0}^{log(n)-1} \\frac{1}{2^{i}} \\bigg[ \\Big(\\frac{1}{2}, 0, 1 \\Big)\n",
    "+ \\Big( \\frac{3}{2}(log(n)-i) \\ , \\ log(n)-i \\ , \\ 0 \\Big) \\bigg] \\Bigg)\n",
    "$$\n",
    "\n",
    "$$\n",
    "= n \\cdot \\Bigg( \\sum\\limits_{i=0}^{log(n)-1} \\frac{1}{2^{i}} \\bigg[ \\Big(\\frac{1}{2} + \\frac{3}{2}log(n), log(n), 1 \\Big)\n",
    "- \\Big( \\frac{3}{2}i \\ , \\ i \\ , \\ 0 \\Big) \\bigg] \\Bigg)\n",
    "$$\n",
    "\n",
    "$$\n",
    "= \\Bigg[ n \\Big(\\frac{1}{2} + \\frac{3}{2}log(n), log(n), 1 \\Big) \\cdot \\sum\\limits_{i=0}^{log(n)-1} \\frac{1}{2^{i}} \\Bigg]\n",
    "- \\Bigg[ n \\cdot \\Bigg( \\sum\\limits_{i=0}^{log(n)-1} \\frac{1}{2^{i}} \\Big( \\frac{3}{2}i \\ , \\ i \\ , \\ 0 \\Big) \\Bigg) \\Bigg]\n",
    "$$\n",
    "\n",
    "$$\n",
    "\\le \\Bigg[ n \\Big(\\frac{1}{2} + \\frac{3}{2}log(n), log(n), 1 \\Big) \\cdot \\sum\\limits_{i=0}^{log(n)-1} \\frac{1}{2^{i}} \\Bigg]\n",
    "- \\Bigg[ n \\cdot \\Bigg( \\sum\\limits_{i=0}^{log(n)-1} \\frac{1}{2^{i}} \\Big( \\frac{3}{2} \\ , \\ 1 \\ , \\ 0 \\Big) \\Bigg) \\Bigg]\n",
    "$$\n",
    "\n",
    "$$\n",
    "= n \\Big(-1 + \\frac{3}{2}log(n), -1 + log(n), 1 \\Big) \\cdot \\sum\\limits_{i=0}^{log(n)-1} \\frac{1}{2^{i}}\n",
    "= \\Big(-n + \\frac{3}{2}nlog(n), -n + nlog(n), n \\Big) \\cdot \\Big(2 - \\frac{2}{n}\\Big)\n",
    "$$\n",
    "\n",
    "$$\n",
    "\\le \\Big(-2n +3nlog(n), -2n + 2nlog(n), 2n \\Big)\n",
    "$$\n",
    "\n",
    "[Partial Sum](https://www.math.utah.edu/~carlson/teaching/calculus/series.html)\n",
    "\n",
    "So in total, because we double the size of the input, our reduced fast-DCT-I requires\n",
    "\n",
    "$$\n",
    "\\le \\Big(2n +6nlog(n), 4nlog(n), 4n \\Big)\n",
    "$$\n",
    "\n",
    "real flops. Since we call it $3$ times, we expect our flops to be bounded by\n",
    "\n",
    "$$\n",
    "\\le \\Big(6n +18nlog(n), 12nlog(n), 12n \\Big)\n",
    "$$"
   ]
  },
  {
   "cell_type": "code",
   "execution_count": 13,
   "metadata": {},
   "outputs": [],
   "source": [
    "def fastDCT_III_flops(vector, root=True, scaled=True):\n",
    "    flops = np.zeros(2)\n",
    "    if root:\n",
    "        vector = vector.copy() * (2 if scaled else 1)\n",
    "        vector[0] /= 2.0\n",
    "    n = vector.size\n",
    "    if n == 1:\n",
    "        return flops\n",
    "    else:\n",
    "        half = n // 2\n",
    "        alpha = vector[0 : : 2].copy()\n",
    "        beta  = vector[1 : : 2].copy()\n",
    "        flops[0] *= half # beta[1 : ] += vector[1 : n - 1 : 2]\n",
    "        flops += fastDCT_III_flops(alpha, False)\n",
    "        flops += fastDCT_III_flops(beta , False)\n",
    "        flops[1] += half # beta /= np.cos(np.arange(0.5, half + 0.5) * (np.pi / n)) * 2.0\n",
    "        flops[0] += half # vector[ : half] = alpha + beta\n",
    "        flops[0] += half # vector[n - 1 : half - 1 : -1] = alpha - beta\n",
    "        return flops\n",
    "\n",
    "def fastDCT_Ib_flops(v):\n",
    "    # assume 2^p+1 array passed in\n",
    "    N = len(v)-1\n",
    "    if N <= 1:\n",
    "        return np.asarray([2,4])\n",
    "        # DC = DCT_mat(N+1); return np.dot(DC, v)*2\n",
    "        \n",
    "    flops = np.zeros(2)\n",
    "    N2 = N//2\n",
    "    f = v[:N2+1]\n",
    "    flops[0] += N2\n",
    "    g = v[:N2]\n",
    "    flops[0] += N2\n",
    "    \n",
    "    flops += fastDCT_Ib_flops(f) # dct1 = fastDCT_Ib(f)\n",
    "    flops += fastDCT_III_flops(g , False) # dct3 = fastDCT_III(g)\n",
    "\n",
    "    return flops\n",
    "\n",
    "def DCT_conv_flops(f,g):\n",
    "    # low-rank convolution\n",
    "    n = len(f)\n",
    "    assert(n == 2**(int(log(n,2))))\n",
    "    fz = np.append(f,np.zeros(n+1))\n",
    "    \n",
    "    return 3 * fastDCT_Ib_flops(fz)"
   ]
  },
  {
   "cell_type": "code",
   "execution_count": 14,
   "metadata": {},
   "outputs": [
    {
     "name": "stdout",
     "output_type": "stream",
     "text": [
      "Actual flops: [1474566.  638991.]\n",
      "Predicted flops: [2960147 1907895]\n"
     ]
    }
   ],
   "source": [
    "p = 14\n",
    "n = 2**p\n",
    "f = np.random.random(n)\n",
    "g = np.random.random(n)\n",
    "\n",
    "flops = DCT_conv_flops(f,g)\n",
    "print(\"Actual flops:\",flops)\n",
    "\n",
    "predicted = np.asarray([int(6*n +18*n*log(n)), int(12*n*log(n))])\n",
    "print(\"Predicted flops:\",predicted)"
   ]
  },
  {
   "cell_type": "code",
   "execution_count": null,
   "metadata": {},
   "outputs": [],
   "source": []
  }
 ],
 "metadata": {
  "kernelspec": {
   "display_name": "Python 3",
   "language": "python",
   "name": "python3"
  },
  "language_info": {
   "codemirror_mode": {
    "name": "ipython",
    "version": 3
   },
   "file_extension": ".py",
   "mimetype": "text/x-python",
   "name": "python",
   "nbconvert_exporter": "python",
   "pygments_lexer": "ipython3",
   "version": "3.7.6"
  }
 },
 "nbformat": 4,
 "nbformat_minor": 2
}
